{
  "nbformat": 4,
  "nbformat_minor": 0,
  "metadata": {
    "colab": {
      "name": "CS680Assign4.ipynb",
      "provenance": [],
      "authorship_tag": "ABX9TyNo1Rva7+UOElmYJqluY6RZ",
      "include_colab_link": true
    },
    "kernelspec": {
      "name": "python3",
      "display_name": "Python 3"
    }
  },
  "cells": [
    {
      "cell_type": "markdown",
      "metadata": {
        "id": "view-in-github",
        "colab_type": "text"
      },
      "source": [
        "<a href=\"https://colab.research.google.com/github/dnjhaha/AML/blob/master/CS680Assign4.ipynb\" target=\"_parent\"><img src=\"https://colab.research.google.com/assets/colab-badge.svg\" alt=\"Open In Colab\"/></a>"
      ]
    },
    {
      "cell_type": "markdown",
      "metadata": {
        "id": "oKLTgerVtmFi",
        "colab_type": "text"
      },
      "source": [
        "# Danni Jin CS680 assignment #4\n",
        "**Caltech-101 is an image dataset of diverse types of objects belonging to 101 categories. There are about 40 to 800 images per category. Most categories have about 50 images.The size of each image is roughly 300 x 200 pixels.**\n",
        "\n",
        "**The first thing we'll need to do is load in the libraries we'll be using.**"
      ]
    },
    {
      "cell_type": "code",
      "metadata": {
        "id": "abWYPUWr50KA",
        "colab_type": "code",
        "colab": {}
      },
      "source": [
        "import os\n",
        "import numpy as np\n",
        "import pandas as pd\n",
        "import matplotlib.pyplot as plt\n",
        "from PIL import Image\n",
        "import cv2\n",
        "from sklearn.preprocessing import LabelEncoder\n",
        "from sklearn.model_selection import train_test_split\n",
        "from tensorflow.keras.utils import to_categorical\n",
        "from tensorflow.keras.models import Sequential\n",
        "from tensorflow.keras.layers import Conv2D, MaxPooling2D, Dropout, Flatten, Dense\n",
        "# For downloading dataset\n",
        "from urllib.request import urlretrieve\n",
        "# For extracting dataset\n",
        "import tarfile\n",
        "# for sorting dictionary by value\n",
        "import operator\n",
        "from keras.callbacks import ModelCheckpoint\n",
        "from keras.callbacks import EarlyStopping\n",
        "# for showing images inline\n",
        "from matplotlib.pyplot import imshow \n",
        "%matplotlib inline "
      ],
      "execution_count": 0,
      "outputs": []
    },
    {
      "cell_type": "markdown",
      "metadata": {
        "id": "TVUT2XL9-FCM",
        "colab_type": "text"
      },
      "source": [
        "**Download the dataset to a folder inside this directory\n",
        "This will download the dataset if it has not been downloaded. Further, we extract the dataset as well into /data/ directory in the current working directory.**"
      ]
    },
    {
      "cell_type": "code",
      "metadata": {
        "id": "iX_ilcJa6mmF",
        "colab_type": "code",
        "colab": {
          "base_uri": "https://localhost:8080/",
          "height": 51
        },
        "outputId": "b116b259-a073-4d3d-d652-774a9ecebfae"
      },
      "source": [
        "URL_CALTECH_101_DATA = 'http://www.vision.caltech.edu/Image_Datasets/Caltech101/101_ObjectCategories.tar.gz'\n",
        "\n",
        "def download_dataset(url):\n",
        "    current_directory = os.path.dirname(os.path.realpath('__file__'))\n",
        "    dataset_file_path = current_directory+\"/dataset.tgz\"\n",
        "    if os.path.exists(dataset_file_path):\n",
        "        print(\"Already downloaded.\")\n",
        "    else:\n",
        "        filename, headers = urlretrieve(url, dataset_file_path)        \n",
        "    print(\"Done\")\n",
        "\n",
        "download_dataset(URL_CALTECH_101_DATA)"
      ],
      "execution_count": 74,
      "outputs": [
        {
          "output_type": "stream",
          "text": [
            "Already downloaded.\n",
            "Done\n"
          ],
          "name": "stdout"
        }
      ]
    },
    {
      "cell_type": "markdown",
      "metadata": {
        "id": "CC7vzbNqeRCa",
        "colab_type": "text"
      },
      "source": [
        "**Because the file form is tar.gz, so we need to extract the file.**"
      ]
    },
    {
      "cell_type": "code",
      "metadata": {
        "id": "FiB_uIdf-N1M",
        "colab_type": "code",
        "colab": {
          "base_uri": "https://localhost:8080/",
          "height": 34
        },
        "outputId": "684cfea0-dbc9-499f-9d6a-f972f2c8b828"
      },
      "source": [
        "def extract_dataset(dataset_file_path, extraction_directory):\n",
        "    if (not os.path.exists(extraction_directory)):\n",
        "        os.makedirs(extraction_directory)\n",
        "    if (dataset_file_path.endswith(\"tar.gz\") or dataset_file_path.endswith(\".tgz\")):\n",
        "        tar = tarfile.open(dataset_file_path, \"r:gz\")\n",
        "        tar.extractall(path=extraction_directory)\n",
        "        tar.close()\n",
        "    elif (dataset_file_path.endswith(\"tar\")):\n",
        "        tar = tarfile.open(dataset_file_path, \"r:\")\n",
        "        tar.extractall(path=extraction_directory)\n",
        "        tar.close()\n",
        "    print(\"Done\")\n",
        "\n",
        "extract_dataset('./dataset.tgz','./data/')"
      ],
      "execution_count": 76,
      "outputs": [
        {
          "output_type": "stream",
          "text": [
            "Done\n"
          ],
          "name": "stdout"
        }
      ]
    },
    {
      "cell_type": "markdown",
      "metadata": {
        "id": "qU3grmmj-9Jd",
        "colab_type": "text"
      },
      "source": [
        "# Here I didnot resize the image to 32*32 because it is too small, the picture cannot see anything.\n",
        "**Exploring dataset**\n",
        "Using image processing programs reduce them to 100 x  100 images \n"
      ]
    },
    {
      "cell_type": "code",
      "metadata": {
        "id": "d5MM9ORP6nKM",
        "colab_type": "code",
        "colab": {}
      },
      "source": [
        "def get_images(object_category, data_directory):\n",
        "    if (not os.path.exists(data_directory)):\n",
        "        print(\"Data directory not found. Are you sure you downloaded and extracted dataset properly?\")\n",
        "        return\n",
        "    obj_category_dir = os.path.join(os.path.join(data_directory,\"101_ObjectCategories\"),object_category)\n",
        "    images = [os.path.join(obj_category_dir,img) for img in os.listdir(obj_category_dir)]\n",
        "    return images\n",
        "\n",
        "def read_image(image_path):\n",
        "    \"\"\"Read and resize individual images - Caltech 101 avg size of image is 80x80, so we resize accordingly\"\"\"\n",
        "    img = cv2.imread(image_path, cv2.IMREAD_COLOR)\n",
        "    img = cv2.resize(img, (100,100), interpolation=cv2.INTER_CUBIC)\n",
        "    return img"
      ],
      "execution_count": 0,
      "outputs": []
    },
    {
      "cell_type": "markdown",
      "metadata": {
        "id": "L49L4MbE_v4W",
        "colab_type": "text"
      },
      "source": [
        "**How many images we have for each category?**"
      ]
    },
    {
      "cell_type": "code",
      "metadata": {
        "id": "FR5rZzdf_xRs",
        "colab_type": "code",
        "colab": {}
      },
      "source": [
        "def return_images_per_category(data_directory):\n",
        "    categories = os.listdir(data_directory+\"/101_ObjectCategories/\")\n",
        "    object_images_count_dict = {}\n",
        "    for category in categories:\n",
        "        object_images_count_dict[category] = len(os.listdir(data_directory+\"/101_ObjectCategories/\"+category))\n",
        "    object_images_count_dict = sorted(object_images_count_dict.items(), key=operator.itemgetter(1), reverse=True)\n",
        "    return object_images_count_dict"
      ],
      "execution_count": 0,
      "outputs": []
    },
    {
      "cell_type": "code",
      "metadata": {
        "id": "xCdpoZUT_6Ga",
        "colab_type": "code",
        "colab": {
          "base_uri": "https://localhost:8080/",
          "height": 1000
        },
        "outputId": "ffaf08c3-00f9-405d-ee82-728a0c421622"
      },
      "source": [
        "return_images_per_category('./data')"
      ],
      "execution_count": 79,
      "outputs": [
        {
          "output_type": "execute_result",
          "data": {
            "text/plain": [
              "[('airplanes', 800),\n",
              " ('Motorbikes', 798),\n",
              " ('BACKGROUND_Google', 468),\n",
              " ('Faces', 435),\n",
              " ('Faces_easy', 435),\n",
              " ('watch', 239),\n",
              " ('Leopards', 200),\n",
              " ('bonsai', 128),\n",
              " ('car_side', 123),\n",
              " ('ketch', 114),\n",
              " ('chandelier', 107),\n",
              " ('hawksbill', 100),\n",
              " ('grand_piano', 99),\n",
              " ('brain', 98),\n",
              " ('butterfly', 91),\n",
              " ('helicopter', 88),\n",
              " ('menorah', 87),\n",
              " ('trilobite', 86),\n",
              " ('starfish', 86),\n",
              " ('kangaroo', 86),\n",
              " ('sunflower', 85),\n",
              " ('buddha', 85),\n",
              " ('ewer', 85),\n",
              " ('scorpion', 84),\n",
              " ('revolver', 82),\n",
              " ('laptop', 81),\n",
              " ('ibis', 80),\n",
              " ('llama', 78),\n",
              " ('minaret', 76),\n",
              " ('umbrella', 75),\n",
              " ('electric_guitar', 75),\n",
              " ('crab', 73),\n",
              " ('crayfish', 70),\n",
              " ('cougar_face', 69),\n",
              " ('dragonfly', 68),\n",
              " ('dalmatian', 67),\n",
              " ('flamingo', 67),\n",
              " ('ferry', 67),\n",
              " ('lotus', 66),\n",
              " ('dolphin', 65),\n",
              " ('joshua_tree', 64),\n",
              " ('euphonium', 64),\n",
              " ('elephant', 64),\n",
              " ('soccer_ball', 64),\n",
              " ('stop_sign', 64),\n",
              " ('schooner', 63),\n",
              " ('chair', 62),\n",
              " ('lamp', 61),\n",
              " ('yin_yang', 60),\n",
              " ('rhino', 59),\n",
              " ('stegosaurus', 59),\n",
              " ('cellphone', 59),\n",
              " ('wheelchair', 59),\n",
              " ('pyramid', 57),\n",
              " ('sea_horse', 57),\n",
              " ('cup', 57),\n",
              " ('windsor_chair', 56),\n",
              " ('nautilus', 55),\n",
              " ('accordion', 55),\n",
              " ('hedgehog', 54),\n",
              " ('bass', 54),\n",
              " ('emu', 53),\n",
              " ('pizza', 53),\n",
              " ('dollar_bill', 52),\n",
              " ('crocodile_head', 51),\n",
              " ('gramophone', 51),\n",
              " ('camera', 50),\n",
              " ('crocodile', 50),\n",
              " ('rooster', 49),\n",
              " ('tick', 49),\n",
              " ('barrel', 47),\n",
              " ('cougar_body', 47),\n",
              " ('ceiling_fan', 47),\n",
              " ('pagoda', 47),\n",
              " ('beaver', 46),\n",
              " ('flamingo_head', 45),\n",
              " ('stapler', 45),\n",
              " ('pigeon', 45),\n",
              " ('mandolin', 43),\n",
              " ('brontosaurus', 43),\n",
              " ('cannon', 43),\n",
              " ('ant', 42),\n",
              " ('anchor', 42),\n",
              " ('headphone', 42),\n",
              " ('lobster', 41),\n",
              " ('saxophone', 40),\n",
              " ('mayfly', 40),\n",
              " ('scissors', 39),\n",
              " ('wrench', 39),\n",
              " ('okapi', 39),\n",
              " ('panda', 38),\n",
              " ('water_lilly', 37),\n",
              " ('strawberry', 35),\n",
              " ('octopus', 35),\n",
              " ('snoopy', 35),\n",
              " ('gerenuk', 34),\n",
              " ('platypus', 34),\n",
              " ('wild_cat', 34),\n",
              " ('garfield', 34),\n",
              " ('binocular', 33),\n",
              " ('metronome', 32),\n",
              " ('inline_skate', 31)]"
            ]
          },
          "metadata": {
            "tags": []
          },
          "execution_count": 79
        }
      ]
    },
    {
      "cell_type": "code",
      "metadata": {
        "id": "OlE3PQpTAU_r",
        "colab_type": "code",
        "colab": {
          "base_uri": "https://localhost:8080/",
          "height": 34
        },
        "outputId": "d51edf9d-f56e-4365-d50a-66aa4451f267"
      },
      "source": [
        "len(return_images_per_category('./data'))"
      ],
      "execution_count": 80,
      "outputs": [
        {
          "output_type": "execute_result",
          "data": {
            "text/plain": [
              "102"
            ]
          },
          "metadata": {
            "tags": []
          },
          "execution_count": 80
        }
      ]
    },
    {
      "cell_type": "markdown",
      "metadata": {
        "id": "BGSyNxRBAWMk",
        "colab_type": "text"
      },
      "source": [
        "**The number of objects we need to classify is 101. So, we can actually ignore the BACKGROUND_Google directory. we need to convert the dataset into X and Y, wherein X would look something like (num_of_total_images, ROWS, COLS, CHANNELS). The ROWS and COLS need to be fixed, however we have varied sized images. This is why the read_image method above resizes each image to 32x32 which is the average size of images (so most images wouldn't be affected). Y would be (num_of_total_images, 1)**\n",
        "\n",
        "**What's the total number of images we need in our dataset?**"
      ]
    },
    {
      "cell_type": "code",
      "metadata": {
        "id": "raHITzu8FEKf",
        "colab_type": "code",
        "colab": {
          "base_uri": "https://localhost:8080/",
          "height": 34
        },
        "outputId": "e2c07cb6-925d-43f5-f37a-08ef09ee797a"
      },
      "source": [
        "total_count = 0\n",
        "for category,count in return_images_per_category('./data'):\n",
        "    if category == 'BACKGROUND_Google':\n",
        "        continue;\n",
        "    total_count += count\n",
        "print(\"Total number of images in training data : \",total_count)"
      ],
      "execution_count": 81,
      "outputs": [
        {
          "output_type": "stream",
          "text": [
            "Total number of images in training data :  8677\n"
          ],
          "name": "stdout"
        }
      ]
    },
    {
      "cell_type": "markdown",
      "metadata": {
        "id": "Gu14sL01aznb",
        "colab_type": "text"
      },
      "source": [
        "**Here we drop the 'Background google' category and structure the trainning data.**"
      ]
    },
    {
      "cell_type": "code",
      "metadata": {
        "id": "OkdxRvTgFmuV",
        "colab_type": "code",
        "colab": {}
      },
      "source": [
        "def create_training_data(data_directory):\n",
        "    i = 0\n",
        "    X = np.ndarray((8677, 100, 100, 3), dtype=np.uint8)\n",
        "    Y = []\n",
        "    print(\"Preparing X and Y for dataset...\")\n",
        "    for category,_ in return_images_per_category(data_directory):\n",
        "        if category == 'BACKGROUND_Google':\n",
        "            continue\n",
        "        print(\"Processing images of \",category)\n",
        "        for image in get_images(category, data_directory):\n",
        "            if not image.endswith('.jpg'):\n",
        "                # to escape hidden ipynb checkpoints and other unnecessary files \n",
        "                continue\n",
        "            X[i] = read_image(image)\n",
        "            Y.insert(i,category) \n",
        "            i += 1\n",
        "        print(\"Images processed : \",i+1,\" of 8678\")\n",
        "    print(\"Datasets constructed\")\n",
        "    return X,Y"
      ],
      "execution_count": 0,
      "outputs": []
    },
    {
      "cell_type": "code",
      "metadata": {
        "id": "KIWdYwv_FqaW",
        "colab_type": "code",
        "colab": {
          "base_uri": "https://localhost:8080/",
          "height": 1000
        },
        "outputId": "0bc57fe9-dae3-4277-ceee-7e30c1f64f85"
      },
      "source": [
        "X, Y = create_training_data('./data')"
      ],
      "execution_count": 84,
      "outputs": [
        {
          "output_type": "stream",
          "text": [
            "Preparing X and Y for dataset...\n",
            "Processing images of  airplanes\n",
            "Images processed :  801  of 8678\n",
            "Processing images of  Motorbikes\n",
            "Images processed :  1599  of 8678\n",
            "Processing images of  Faces\n",
            "Images processed :  2034  of 8678\n",
            "Processing images of  Faces_easy\n",
            "Images processed :  2469  of 8678\n",
            "Processing images of  watch\n",
            "Images processed :  2708  of 8678\n",
            "Processing images of  Leopards\n",
            "Images processed :  2908  of 8678\n",
            "Processing images of  bonsai\n",
            "Images processed :  3036  of 8678\n",
            "Processing images of  car_side\n",
            "Images processed :  3159  of 8678\n",
            "Processing images of  ketch\n",
            "Images processed :  3273  of 8678\n",
            "Processing images of  chandelier\n",
            "Images processed :  3380  of 8678\n",
            "Processing images of  hawksbill\n",
            "Images processed :  3480  of 8678\n",
            "Processing images of  grand_piano\n",
            "Images processed :  3579  of 8678\n",
            "Processing images of  brain\n",
            "Images processed :  3677  of 8678\n",
            "Processing images of  butterfly\n",
            "Images processed :  3768  of 8678\n",
            "Processing images of  helicopter\n",
            "Images processed :  3856  of 8678\n",
            "Processing images of  menorah\n",
            "Images processed :  3943  of 8678\n",
            "Processing images of  trilobite\n",
            "Images processed :  4029  of 8678\n",
            "Processing images of  starfish\n",
            "Images processed :  4115  of 8678\n",
            "Processing images of  kangaroo\n",
            "Images processed :  4201  of 8678\n",
            "Processing images of  sunflower\n",
            "Images processed :  4286  of 8678\n",
            "Processing images of  buddha\n",
            "Images processed :  4371  of 8678\n",
            "Processing images of  ewer\n",
            "Images processed :  4456  of 8678\n",
            "Processing images of  scorpion\n",
            "Images processed :  4540  of 8678\n",
            "Processing images of  revolver\n",
            "Images processed :  4622  of 8678\n",
            "Processing images of  laptop\n",
            "Images processed :  4703  of 8678\n",
            "Processing images of  ibis\n",
            "Images processed :  4783  of 8678\n",
            "Processing images of  llama\n",
            "Images processed :  4861  of 8678\n",
            "Processing images of  minaret\n",
            "Images processed :  4937  of 8678\n",
            "Processing images of  umbrella\n",
            "Images processed :  5012  of 8678\n",
            "Processing images of  electric_guitar\n",
            "Images processed :  5087  of 8678\n",
            "Processing images of  crab\n",
            "Images processed :  5160  of 8678\n",
            "Processing images of  crayfish\n",
            "Images processed :  5230  of 8678\n",
            "Processing images of  cougar_face\n",
            "Images processed :  5299  of 8678\n",
            "Processing images of  dragonfly\n",
            "Images processed :  5367  of 8678\n",
            "Processing images of  dalmatian\n",
            "Images processed :  5434  of 8678\n",
            "Processing images of  flamingo\n",
            "Images processed :  5501  of 8678\n",
            "Processing images of  ferry\n",
            "Images processed :  5568  of 8678\n",
            "Processing images of  lotus\n",
            "Images processed :  5634  of 8678\n",
            "Processing images of  dolphin\n",
            "Images processed :  5699  of 8678\n",
            "Processing images of  joshua_tree\n",
            "Images processed :  5763  of 8678\n",
            "Processing images of  euphonium\n",
            "Images processed :  5827  of 8678\n",
            "Processing images of  elephant\n",
            "Images processed :  5891  of 8678\n",
            "Processing images of  soccer_ball\n",
            "Images processed :  5955  of 8678\n",
            "Processing images of  stop_sign\n",
            "Images processed :  6019  of 8678\n",
            "Processing images of  schooner\n",
            "Images processed :  6082  of 8678\n",
            "Processing images of  chair\n",
            "Images processed :  6144  of 8678\n",
            "Processing images of  lamp\n",
            "Images processed :  6205  of 8678\n",
            "Processing images of  yin_yang\n",
            "Images processed :  6265  of 8678\n",
            "Processing images of  rhino\n",
            "Images processed :  6324  of 8678\n",
            "Processing images of  stegosaurus\n",
            "Images processed :  6383  of 8678\n",
            "Processing images of  cellphone\n",
            "Images processed :  6442  of 8678\n",
            "Processing images of  wheelchair\n",
            "Images processed :  6501  of 8678\n",
            "Processing images of  pyramid\n",
            "Images processed :  6558  of 8678\n",
            "Processing images of  sea_horse\n",
            "Images processed :  6615  of 8678\n",
            "Processing images of  cup\n",
            "Images processed :  6672  of 8678\n",
            "Processing images of  windsor_chair\n",
            "Images processed :  6728  of 8678\n",
            "Processing images of  nautilus\n",
            "Images processed :  6783  of 8678\n",
            "Processing images of  accordion\n",
            "Images processed :  6838  of 8678\n",
            "Processing images of  hedgehog\n",
            "Images processed :  6892  of 8678\n",
            "Processing images of  bass\n",
            "Images processed :  6946  of 8678\n",
            "Processing images of  emu\n",
            "Images processed :  6999  of 8678\n",
            "Processing images of  pizza\n",
            "Images processed :  7052  of 8678\n",
            "Processing images of  dollar_bill\n",
            "Images processed :  7104  of 8678\n",
            "Processing images of  crocodile_head\n",
            "Images processed :  7155  of 8678\n",
            "Processing images of  gramophone\n",
            "Images processed :  7206  of 8678\n",
            "Processing images of  camera\n",
            "Images processed :  7256  of 8678\n",
            "Processing images of  crocodile\n",
            "Images processed :  7306  of 8678\n",
            "Processing images of  rooster\n",
            "Images processed :  7355  of 8678\n",
            "Processing images of  tick\n",
            "Images processed :  7404  of 8678\n",
            "Processing images of  barrel\n",
            "Images processed :  7451  of 8678\n",
            "Processing images of  cougar_body\n",
            "Images processed :  7498  of 8678\n",
            "Processing images of  ceiling_fan\n",
            "Images processed :  7545  of 8678\n",
            "Processing images of  pagoda\n",
            "Images processed :  7592  of 8678\n",
            "Processing images of  beaver\n",
            "Images processed :  7638  of 8678\n",
            "Processing images of  flamingo_head\n",
            "Images processed :  7683  of 8678\n",
            "Processing images of  stapler\n",
            "Images processed :  7728  of 8678\n",
            "Processing images of  pigeon\n",
            "Images processed :  7773  of 8678\n",
            "Processing images of  mandolin\n",
            "Images processed :  7816  of 8678\n",
            "Processing images of  brontosaurus\n",
            "Images processed :  7859  of 8678\n",
            "Processing images of  cannon\n",
            "Images processed :  7902  of 8678\n",
            "Processing images of  ant\n",
            "Images processed :  7944  of 8678\n",
            "Processing images of  anchor\n",
            "Images processed :  7986  of 8678\n",
            "Processing images of  headphone\n",
            "Images processed :  8028  of 8678\n",
            "Processing images of  lobster\n",
            "Images processed :  8069  of 8678\n",
            "Processing images of  saxophone\n",
            "Images processed :  8109  of 8678\n",
            "Processing images of  mayfly\n",
            "Images processed :  8149  of 8678\n",
            "Processing images of  scissors\n",
            "Images processed :  8188  of 8678\n",
            "Processing images of  wrench\n",
            "Images processed :  8227  of 8678\n",
            "Processing images of  okapi\n",
            "Images processed :  8266  of 8678\n",
            "Processing images of  panda\n",
            "Images processed :  8304  of 8678\n",
            "Processing images of  water_lilly\n",
            "Images processed :  8341  of 8678\n",
            "Processing images of  strawberry\n",
            "Images processed :  8376  of 8678\n",
            "Processing images of  octopus\n",
            "Images processed :  8411  of 8678\n",
            "Processing images of  snoopy\n",
            "Images processed :  8446  of 8678\n",
            "Processing images of  gerenuk\n",
            "Images processed :  8480  of 8678\n",
            "Processing images of  platypus\n",
            "Images processed :  8514  of 8678\n",
            "Processing images of  wild_cat\n",
            "Images processed :  8548  of 8678\n",
            "Processing images of  garfield\n",
            "Images processed :  8582  of 8678\n",
            "Processing images of  binocular\n",
            "Images processed :  8615  of 8678\n",
            "Processing images of  metronome\n",
            "Images processed :  8647  of 8678\n",
            "Processing images of  inline_skate\n",
            "Images processed :  8678  of 8678\n",
            "Datasets constructed\n"
          ],
          "name": "stdout"
        }
      ]
    },
    {
      "cell_type": "markdown",
      "metadata": {
        "id": "OQs79oNxcnaY",
        "colab_type": "text"
      },
      "source": [
        "**Show one of the images.**"
      ]
    },
    {
      "cell_type": "code",
      "metadata": {
        "id": "jDhrvvBQco4N",
        "colab_type": "code",
        "colab": {
          "base_uri": "https://localhost:8080/",
          "height": 34
        },
        "outputId": "9507525a-ac2c-4081-95c9-078f06bf9f8b"
      },
      "source": [
        "X.shape"
      ],
      "execution_count": 85,
      "outputs": [
        {
          "output_type": "execute_result",
          "data": {
            "text/plain": [
              "(8677, 100, 100, 3)"
            ]
          },
          "metadata": {
            "tags": []
          },
          "execution_count": 85
        }
      ]
    },
    {
      "cell_type": "code",
      "metadata": {
        "id": "F_1LGaxacvhO",
        "colab_type": "code",
        "colab": {
          "base_uri": "https://localhost:8080/",
          "height": 34
        },
        "outputId": "fe11bf61-7572-4111-da23-5e9c36416cd3"
      },
      "source": [
        "Y[1000]"
      ],
      "execution_count": 86,
      "outputs": [
        {
          "output_type": "execute_result",
          "data": {
            "text/plain": [
              "'Motorbikes'"
            ]
          },
          "metadata": {
            "tags": []
          },
          "execution_count": 86
        }
      ]
    },
    {
      "cell_type": "code",
      "metadata": {
        "id": "THzlPw4ScyCG",
        "colab_type": "code",
        "colab": {
          "base_uri": "https://localhost:8080/",
          "height": 285
        },
        "outputId": "dcbbf6ef-bd93-4ac2-ae7e-e801f41dd3e8"
      },
      "source": [
        "imshow(X[1000])"
      ],
      "execution_count": 87,
      "outputs": [
        {
          "output_type": "execute_result",
          "data": {
            "text/plain": [
              "<matplotlib.image.AxesImage at 0x7f15d9485048>"
            ]
          },
          "metadata": {
            "tags": []
          },
          "execution_count": 87
        },
        {
          "output_type": "display_data",
          "data": {
            "image/png": "[encoded data removed]",
            "text/plain": [
              "<Figure size 432x288 with 1 Axes>"
            ]
          },
          "metadata": {
            "tags": []
          }
        }
      ]
    },
    {
      "cell_type": "markdown",
      "metadata": {
        "id": "z7DknTIVGEZ9",
        "colab_type": "text"
      },
      "source": [
        "**Encode the label and scale the input.\n",
        "Making one-hot encoded labels.**"
      ]
    },
    {
      "cell_type": "code",
      "metadata": {
        "id": "dg9Sl0CUGJPt",
        "colab_type": "code",
        "colab": {
          "base_uri": "https://localhost:8080/",
          "height": 34
        },
        "outputId": "b7591dc0-31c4-45da-f16c-2e84585d842f"
      },
      "source": [
        "label_encoder = LabelEncoder()\n",
        "Y_integer_encoded = label_encoder.fit_transform(Y)\n",
        "Y_integer_encoded"
      ],
      "execution_count": 88,
      "outputs": [
        {
          "output_type": "execute_result",
          "data": {
            "text/plain": [
              "array([ 5,  5,  5, ..., 52, 52, 52])"
            ]
          },
          "metadata": {
            "tags": []
          },
          "execution_count": 88
        }
      ]
    },
    {
      "cell_type": "markdown",
      "metadata": {
        "id": "55k9fvBvlpAI",
        "colab_type": "text"
      },
      "source": [
        "**we need to do one-hot encoding of these data so that it could be provided to machine learning algorithms to do a better job in prediction. One-hot is a group of bits among which the legal combinations of values are only those with a single high bit and all the others low.**"
      ]
    },
    {
      "cell_type": "code",
      "metadata": {
        "id": "YcjfhMwrGLej",
        "colab_type": "code",
        "colab": {}
      },
      "source": [
        "np.save('label_encoder.npy', label_encoder.classes_)"
      ],
      "execution_count": 0,
      "outputs": []
    },
    {
      "cell_type": "code",
      "metadata": {
        "id": "YOKwjCr_GR2A",
        "colab_type": "code",
        "colab": {
          "base_uri": "https://localhost:8080/",
          "height": 34
        },
        "outputId": "d33c31d4-7b19-468c-b3a3-8551232d1bd8"
      },
      "source": [
        "len(Y_integer_encoded)"
      ],
      "execution_count": 90,
      "outputs": [
        {
          "output_type": "execute_result",
          "data": {
            "text/plain": [
              "8677"
            ]
          },
          "metadata": {
            "tags": []
          },
          "execution_count": 90
        }
      ]
    },
    {
      "cell_type": "markdown",
      "metadata": {
        "id": "Cvvuir00GdZN",
        "colab_type": "text"
      },
      "source": [
        "**Integers have ordering property which we don't want our ML models to learn since an apple isn't in any way greater than an airplane. So, we must create a one-hot encoding.**"
      ]
    },
    {
      "cell_type": "code",
      "metadata": {
        "id": "PYzzIdb9GUPK",
        "colab_type": "code",
        "colab": {
          "base_uri": "https://localhost:8080/",
          "height": 136
        },
        "outputId": "f60769d1-bba3-4ce3-b908-c7f45ed35e18"
      },
      "source": [
        "Y_one_hot = to_categorical(Y_integer_encoded)\n",
        "Y_one_hot"
      ],
      "execution_count": 91,
      "outputs": [
        {
          "output_type": "execute_result",
          "data": {
            "text/plain": [
              "array([[0., 0., 0., ..., 0., 0., 0.],\n",
              "       [0., 0., 0., ..., 0., 0., 0.],\n",
              "       [0., 0., 0., ..., 0., 0., 0.],\n",
              "       ...,\n",
              "       [0., 0., 0., ..., 0., 0., 0.],\n",
              "       [0., 0., 0., ..., 0., 0., 0.],\n",
              "       [0., 0., 0., ..., 0., 0., 0.]], dtype=float32)"
            ]
          },
          "metadata": {
            "tags": []
          },
          "execution_count": 91
        }
      ]
    },
    {
      "cell_type": "code",
      "metadata": {
        "id": "GBcX4gGGGn2K",
        "colab_type": "code",
        "colab": {
          "base_uri": "https://localhost:8080/",
          "height": 136
        },
        "outputId": "df0af838-bba9-4961-9355-25cc724c8844"
      },
      "source": [
        "Y_one_hot[0]"
      ],
      "execution_count": 92,
      "outputs": [
        {
          "output_type": "execute_result",
          "data": {
            "text/plain": [
              "array([0., 0., 0., 0., 0., 1., 0., 0., 0., 0., 0., 0., 0., 0., 0., 0., 0.,\n",
              "       0., 0., 0., 0., 0., 0., 0., 0., 0., 0., 0., 0., 0., 0., 0., 0., 0.,\n",
              "       0., 0., 0., 0., 0., 0., 0., 0., 0., 0., 0., 0., 0., 0., 0., 0., 0.,\n",
              "       0., 0., 0., 0., 0., 0., 0., 0., 0., 0., 0., 0., 0., 0., 0., 0., 0.,\n",
              "       0., 0., 0., 0., 0., 0., 0., 0., 0., 0., 0., 0., 0., 0., 0., 0., 0.,\n",
              "       0., 0., 0., 0., 0., 0., 0., 0., 0., 0., 0., 0., 0., 0., 0., 0.],\n",
              "      dtype=float32)"
            ]
          },
          "metadata": {
            "tags": []
          },
          "execution_count": 92
        }
      ]
    },
    {
      "cell_type": "code",
      "metadata": {
        "id": "H6mbP8XRGt9o",
        "colab_type": "code",
        "colab": {
          "base_uri": "https://localhost:8080/",
          "height": 34
        },
        "outputId": "feb6b526-e61f-4fb4-934d-c56b80d13e58"
      },
      "source": [
        "len(Y_one_hot[0])"
      ],
      "execution_count": 93,
      "outputs": [
        {
          "output_type": "execute_result",
          "data": {
            "text/plain": [
              "101"
            ]
          },
          "metadata": {
            "tags": []
          },
          "execution_count": 93
        }
      ]
    },
    {
      "cell_type": "markdown",
      "metadata": {
        "id": "j924GoRmG1z8",
        "colab_type": "text"
      },
      "source": [
        "**Basic Normalization (in case of images)**\n"
      ]
    },
    {
      "cell_type": "code",
      "metadata": {
        "id": "VIBVJwu9G3bp",
        "colab_type": "code",
        "colab": {}
      },
      "source": [
        "# Convert the image data to numeric data and normalize them,normalizing inputs from 0-255 to 0.0-1.0 \n",
        "X_normalized = X.astype(np.float64) / 255"
      ],
      "execution_count": 0,
      "outputs": []
    },
    {
      "cell_type": "code",
      "metadata": {
        "id": "rRirezSUG6es",
        "colab_type": "code",
        "colab": {
          "base_uri": "https://localhost:8080/",
          "height": 850
        },
        "outputId": "a3c460f7-6d41-4483-a72b-3eb984e026c9"
      },
      "source": [
        "X[0]"
      ],
      "execution_count": 95,
      "outputs": [
        {
          "output_type": "execute_result",
          "data": {
            "text/plain": [
              "array([[[255, 255, 255],\n",
              "        [255, 255, 255],\n",
              "        [255, 255, 255],\n",
              "        ...,\n",
              "        [255, 255, 255],\n",
              "        [255, 255, 255],\n",
              "        [255, 255, 255]],\n",
              "\n",
              "       [[255, 255, 255],\n",
              "        [255, 255, 255],\n",
              "        [255, 255, 255],\n",
              "        ...,\n",
              "        [255, 255, 255],\n",
              "        [255, 255, 255],\n",
              "        [255, 255, 255]],\n",
              "\n",
              "       [[255, 255, 255],\n",
              "        [255, 255, 255],\n",
              "        [255, 255, 255],\n",
              "        ...,\n",
              "        [255, 255, 255],\n",
              "        [255, 255, 255],\n",
              "        [255, 255, 255]],\n",
              "\n",
              "       ...,\n",
              "\n",
              "       [[255, 255, 255],\n",
              "        [255, 255, 255],\n",
              "        [255, 255, 255],\n",
              "        ...,\n",
              "        [255, 255, 255],\n",
              "        [255, 255, 255],\n",
              "        [255, 255, 255]],\n",
              "\n",
              "       [[255, 255, 255],\n",
              "        [255, 255, 255],\n",
              "        [255, 255, 255],\n",
              "        ...,\n",
              "        [255, 255, 255],\n",
              "        [255, 255, 255],\n",
              "        [255, 255, 255]],\n",
              "\n",
              "       [[255, 255, 255],\n",
              "        [255, 255, 255],\n",
              "        [255, 255, 255],\n",
              "        ...,\n",
              "        [255, 255, 255],\n",
              "        [255, 255, 255],\n",
              "        [255, 255, 255]]], dtype=uint8)"
            ]
          },
          "metadata": {
            "tags": []
          },
          "execution_count": 95
        }
      ]
    },
    {
      "cell_type": "markdown",
      "metadata": {
        "id": "D2B_IW9ehG5A",
        "colab_type": "text"
      },
      "source": [
        "**Images are comprised of matrices of pixel values. Normally, pixels are expected to have value in the range 0-255. We need to normalize these values to a range between 0 and 1.**"
      ]
    },
    {
      "cell_type": "code",
      "metadata": {
        "id": "w5ATX4qkHA1x",
        "colab_type": "code",
        "colab": {
          "base_uri": "https://localhost:8080/",
          "height": 850
        },
        "outputId": "fd77bc10-90d7-4ae5-e0c3-f241fb14fbaa"
      },
      "source": [
        "X_normalized[0]"
      ],
      "execution_count": 96,
      "outputs": [
        {
          "output_type": "execute_result",
          "data": {
            "text/plain": [
              "array([[[1., 1., 1.],\n",
              "        [1., 1., 1.],\n",
              "        [1., 1., 1.],\n",
              "        ...,\n",
              "        [1., 1., 1.],\n",
              "        [1., 1., 1.],\n",
              "        [1., 1., 1.]],\n",
              "\n",
              "       [[1., 1., 1.],\n",
              "        [1., 1., 1.],\n",
              "        [1., 1., 1.],\n",
              "        ...,\n",
              "        [1., 1., 1.],\n",
              "        [1., 1., 1.],\n",
              "        [1., 1., 1.]],\n",
              "\n",
              "       [[1., 1., 1.],\n",
              "        [1., 1., 1.],\n",
              "        [1., 1., 1.],\n",
              "        ...,\n",
              "        [1., 1., 1.],\n",
              "        [1., 1., 1.],\n",
              "        [1., 1., 1.]],\n",
              "\n",
              "       ...,\n",
              "\n",
              "       [[1., 1., 1.],\n",
              "        [1., 1., 1.],\n",
              "        [1., 1., 1.],\n",
              "        ...,\n",
              "        [1., 1., 1.],\n",
              "        [1., 1., 1.],\n",
              "        [1., 1., 1.]],\n",
              "\n",
              "       [[1., 1., 1.],\n",
              "        [1., 1., 1.],\n",
              "        [1., 1., 1.],\n",
              "        ...,\n",
              "        [1., 1., 1.],\n",
              "        [1., 1., 1.],\n",
              "        [1., 1., 1.]],\n",
              "\n",
              "       [[1., 1., 1.],\n",
              "        [1., 1., 1.],\n",
              "        [1., 1., 1.],\n",
              "        ...,\n",
              "        [1., 1., 1.],\n",
              "        [1., 1., 1.],\n",
              "        [1., 1., 1.]]])"
            ]
          },
          "metadata": {
            "tags": []
          },
          "execution_count": 96
        }
      ]
    },
    {
      "cell_type": "markdown",
      "metadata": {
        "id": "kEv1pmroHMw8",
        "colab_type": "text"
      },
      "source": [
        "**Split training and testing set.**"
      ]
    },
    {
      "cell_type": "code",
      "metadata": {
        "id": "tfp4aYOJHN5q",
        "colab_type": "code",
        "colab": {}
      },
      "source": [
        "X_train, X_validation, Y_train, Y_validation = train_test_split(X_normalized, Y_one_hot, test_size=0.2, random_state=42)"
      ],
      "execution_count": 0,
      "outputs": []
    },
    {
      "cell_type": "code",
      "metadata": {
        "id": "qaeVx1sEHUv_",
        "colab_type": "code",
        "colab": {
          "base_uri": "https://localhost:8080/",
          "height": 34
        },
        "outputId": "a59def2b-dc3f-4c9e-d0cc-64498cb01058"
      },
      "source": [
        "X_train.shape"
      ],
      "execution_count": 99,
      "outputs": [
        {
          "output_type": "execute_result",
          "data": {
            "text/plain": [
              "(6941, 100, 100, 3)"
            ]
          },
          "metadata": {
            "tags": []
          },
          "execution_count": 99
        }
      ]
    },
    {
      "cell_type": "code",
      "metadata": {
        "id": "DhnhOdFyHXzd",
        "colab_type": "code",
        "colab": {
          "base_uri": "https://localhost:8080/",
          "height": 34
        },
        "outputId": "f33fa8be-930f-43bf-92db-9e836bd06e5b"
      },
      "source": [
        "Y_train.shape"
      ],
      "execution_count": 100,
      "outputs": [
        {
          "output_type": "execute_result",
          "data": {
            "text/plain": [
              "(6941, 101)"
            ]
          },
          "metadata": {
            "tags": []
          },
          "execution_count": 100
        }
      ]
    },
    {
      "cell_type": "markdown",
      "metadata": {
        "id": "lxJERJnSZTBB",
        "colab_type": "text"
      },
      "source": [
        "**Create a Convolutional Neural networks using Keras to detect the images in the validation set.**\n",
        "\n",
        "Let’s initialize a convolutional neural network using the sequential model of keras. A simple ConvNet is a sequence of layers, and every layer of a ConvNet transforms one volume of activations to another through a differentiable function. We use three main types of layers to build ConvNet architectures: Convolutional Layer, Pooling Layer, and Fully-Connected Layer (exactly as seen in regular Neural Networks). We will stack these layers to form a full ConvNet architecture."
      ]
    },
    {
      "cell_type": "code",
      "metadata": {
        "id": "cIgyzu_LZYRm",
        "colab_type": "code",
        "colab": {
          "base_uri": "https://localhost:8080/",
          "height": 425
        },
        "outputId": "2dd5f666-792e-456f-ebe4-62f5e09c4932"
      },
      "source": [
        "model_cnn = Sequential()\n",
        "model_cnn.add(Conv2D(16, (3,3), activation='relu', input_shape=(100,100,3)))\n",
        "model_cnn.add(Conv2D(32, (3,3), activation='relu'))\n",
        "model_cnn.add(MaxPooling2D(pool_size=2, strides=2))\n",
        "model_cnn.add(Conv2D(64, (3,3), activation='relu'))\n",
        "model_cnn.add(Conv2D(128, (3,3), activation='relu'))\n",
        "model_cnn.add(MaxPooling2D(pool_size=2, strides=2))\n",
        "model_cnn.add(Flatten())\n",
        "model_cnn.add(Dense(101, activation='softmax'))\n",
        "model_cnn.summary()"
      ],
      "execution_count": 105,
      "outputs": [
        {
          "output_type": "stream",
          "text": [
            "Model: \"sequential_4\"\n",
            "_________________________________________________________________\n",
            "Layer (type)                 Output Shape              Param #   \n",
            "=================================================================\n",
            "conv2d_16 (Conv2D)           (None, 98, 98, 16)        448       \n",
            "_________________________________________________________________\n",
            "conv2d_17 (Conv2D)           (None, 96, 96, 32)        4640      \n",
            "_________________________________________________________________\n",
            "max_pooling2d_8 (MaxPooling2 (None, 48, 48, 32)        0         \n",
            "_________________________________________________________________\n",
            "conv2d_18 (Conv2D)           (None, 46, 46, 64)        18496     \n",
            "_________________________________________________________________\n",
            "conv2d_19 (Conv2D)           (None, 44, 44, 128)       73856     \n",
            "_________________________________________________________________\n",
            "max_pooling2d_9 (MaxPooling2 (None, 22, 22, 128)       0         \n",
            "_________________________________________________________________\n",
            "flatten_4 (Flatten)          (None, 61952)             0         \n",
            "_________________________________________________________________\n",
            "dense_5 (Dense)              (None, 101)               6257253   \n",
            "=================================================================\n",
            "Total params: 6,354,693\n",
            "Trainable params: 6,354,693\n",
            "Non-trainable params: 0\n",
            "_________________________________________________________________\n"
          ],
          "name": "stdout"
        }
      ]
    },
    {
      "cell_type": "markdown",
      "metadata": {
        "id": "MOe7TjKyaZEq",
        "colab_type": "text"
      },
      "source": [
        "**Compiling the Model，We need to compile the CNN model before we train it. We can use the compile() method for this. Also, let’s define the learning rate for training.**"
      ]
    },
    {
      "cell_type": "code",
      "metadata": {
        "id": "i9GlFW-EZftA",
        "colab_type": "code",
        "colab": {}
      },
      "source": [
        "model_cnn.compile(loss='categorical_crossentropy',optimizer='adam', metrics=['accuracy'])"
      ],
      "execution_count": 0,
      "outputs": []
    },
    {
      "cell_type": "markdown",
      "metadata": {
        "id": "myGKK-L9pcox",
        "colab_type": "text"
      },
      "source": [
        "Categorical_crossentropy will compare the distribution of the predictions with the true distribution. We also set the metrics to accuracy so that we will get the details of the accuracy after training."
      ]
    },
    {
      "cell_type": "markdown",
      "metadata": {
        "id": "Lj8SiB-hb_bB",
        "colab_type": "text"
      },
      "source": [
        "**Training the Image Classification Model. Now, it is time to train our model and see its accuracy. We can use the fit() method of keras to train the CNN. Train the data and show the history of loss and accuracy for both training and validation set.**"
      ]
    },
    {
      "cell_type": "code",
      "metadata": {
        "id": "wx_G3yL2ZgWf",
        "colab_type": "code",
        "colab": {
          "base_uri": "https://localhost:8080/",
          "height": 374
        },
        "outputId": "e04e715a-242e-44e0-a6d5-0125501ac06e"
      },
      "source": [
        "callbacks = [ModelCheckpoint('cnn_model.h5', monitor='val_acc', save_best_only=True)]\n",
        "hist=model_cnn.fit(X_train, Y_train, batch_size=64, epochs=10, verbose=1, validation_data=(X_validation,Y_validation), callbacks=callbacks)"
      ],
      "execution_count": 107,
      "outputs": [
        {
          "output_type": "stream",
          "text": [
            "Train on 6941 samples, validate on 1736 samples\n",
            "Epoch 1/10\n",
            "6941/6941 [==============================] - 295s 42ms/sample - loss: 3.0298 - acc: 0.3708 - val_loss: 2.1146 - val_acc: 0.5236\n",
            "Epoch 2/10\n",
            "6941/6941 [==============================] - 295s 42ms/sample - loss: 1.1330 - acc: 0.7286 - val_loss: 1.8104 - val_acc: 0.6083\n",
            "Epoch 3/10\n",
            "6941/6941 [==============================] - 300s 43ms/sample - loss: 0.2430 - acc: 0.9369 - val_loss: 2.6379 - val_acc: 0.5709\n",
            "Epoch 4/10\n",
            "6941/6941 [==============================] - 299s 43ms/sample - loss: 0.0644 - acc: 0.9866 - val_loss: 3.1109 - val_acc: 0.5853\n",
            "Epoch 5/10\n",
            "6941/6941 [==============================] - 295s 42ms/sample - loss: 0.0249 - acc: 0.9965 - val_loss: 3.1512 - val_acc: 0.6025\n",
            "Epoch 6/10\n",
            "6941/6941 [==============================] - 292s 42ms/sample - loss: 0.0197 - acc: 0.9978 - val_loss: 3.0225 - val_acc: 0.6008\n",
            "Epoch 7/10\n",
            "6941/6941 [==============================] - 293s 42ms/sample - loss: 0.0157 - acc: 0.9984 - val_loss: 3.0390 - val_acc: 0.6192\n",
            "Epoch 8/10\n",
            "6941/6941 [==============================] - 295s 42ms/sample - loss: 0.0126 - acc: 0.9994 - val_loss: 2.7207 - val_acc: 0.6192\n",
            "Epoch 9/10\n",
            "6941/6941 [==============================] - 292s 42ms/sample - loss: 0.0118 - acc: 0.9987 - val_loss: 2.8780 - val_acc: 0.5974\n",
            "Epoch 10/10\n",
            "6941/6941 [==============================] - 300s 43ms/sample - loss: 0.0175 - acc: 0.9986 - val_loss: 2.7731 - val_acc: 0.6112\n"
          ],
          "name": "stdout"
        }
      ]
    },
    {
      "cell_type": "code",
      "metadata": {
        "id": "pWtjG_mZaK2X",
        "colab_type": "code",
        "colab": {
          "base_uri": "https://localhost:8080/",
          "height": 34
        },
        "outputId": "b1bb8226-e669-4164-eccc-f1d45c7c3cea"
      },
      "source": [
        "acc=model_cnn.evaluate(X_validation,Y_validation)[1]"
      ],
      "execution_count": 108,
      "outputs": [
        {
          "output_type": "stream",
          "text": [
            "1736/1736 [==============================] - 19s 11ms/sample - loss: 2.7731 - acc: 0.6112\n"
          ],
          "name": "stdout"
        }
      ]
    },
    {
      "cell_type": "markdown",
      "metadata": {
        "id": "1_qSCHpryHTC",
        "colab_type": "text"
      },
      "source": [
        "**Visualizing Accuracy**\n",
        "Import the relevant package we need to do the visualization"
      ]
    },
    {
      "cell_type": "markdown",
      "metadata": {
        "id": "EUM_0419dQ6S",
        "colab_type": "text"
      },
      "source": [
        "**Graphs to visualize the testing and validation data accuracy.**"
      ]
    },
    {
      "cell_type": "code",
      "metadata": {
        "id": "Ev5EQonhaL_R",
        "colab_type": "code",
        "colab": {
          "base_uri": "https://localhost:8080/",
          "height": 295
        },
        "outputId": "eb3c359d-76eb-4693-97d9-89e7fb778ad9"
      },
      "source": [
        "plt.hlines(acc,0,19)\n",
        "plt.plot(hist.history['val_acc'])\n",
        "plt.title('Model accuracy')\n",
        "plt.ylabel('Accuracy')\n",
        "plt.xlabel('Epoch')\n",
        "plt.legend(['Valid', 'Test'],loc='upper left')\n",
        "plt.show()"
      ],
      "execution_count": 109,
      "outputs": [
        {
          "output_type": "display_data",
          "data": {
            "image/png": "[encoded data removed]",
            "text/plain": [
              "<Figure size 432x288 with 1 Axes>"
            ]
          },
          "metadata": {
            "tags": []
          }
        }
      ]
    },
    {
      "cell_type": "markdown",
      "metadata": {
        "id": "_uNUnogcPZFg",
        "colab_type": "text"
      },
      "source": [
        "**According to the plot above, we can see that the accuracy of the validation set has steadily increased and is ultimately consistent with the accuracy of the testing set.**"
      ]
    },
    {
      "cell_type": "markdown",
      "metadata": {
        "id": "Jkuf5Px7dXpk",
        "colab_type": "text"
      },
      "source": [
        "**Graphs to visualize the training and validation data accuracy.**"
      ]
    },
    {
      "cell_type": "code",
      "metadata": {
        "id": "_as-YW6daS1x",
        "colab_type": "code",
        "colab": {
          "base_uri": "https://localhost:8080/",
          "height": 295
        },
        "outputId": "9724850e-6b96-44bb-e226-626b22bc1ae1"
      },
      "source": [
        "plt.plot(hist.history['acc'])\n",
        "plt.plot(hist.history['val_acc'])\n",
        "plt.title('Model accuracy')\n",
        "plt.ylabel('Accuracy')\n",
        "plt.xlabel('Epoch')\n",
        "plt.legend(['Train', 'Valid'],loc='upper left')\n",
        "plt.show()"
      ],
      "execution_count": 110,
      "outputs": [
        {
          "output_type": "display_data",
          "data": {
            "image/png": "[encoded data removed]",
            "text/plain": [
              "<Figure size 432x288 with 1 Axes>"
            ]
          },
          "metadata": {
            "tags": []
          }
        }
      ]
    },
    {
      "cell_type": "markdown",
      "metadata": {
        "id": "b3urBBt9OpLf",
        "colab_type": "text"
      },
      "source": [
        "**As we see above, overfitting has happened. After that, the accuracy of the training set continues to rise, but the accuracy of the validation set remains essentially unchanged.**"
      ]
    },
    {
      "cell_type": "markdown",
      "metadata": {
        "id": "0zxp8IV_W0yw",
        "colab_type": "text"
      },
      "source": [
        " **Prediction from models:Accuracy per category**"
      ]
    },
    {
      "cell_type": "code",
      "metadata": {
        "id": "FXhlDN_WYnoI",
        "colab_type": "code",
        "colab": {}
      },
      "source": [
        "def find_accuracy_per_category(data_directory, nn_model):\n",
        "    category_accuracy_dict = {}\n",
        "    for category,count in return_images_per_category(data_directory):\n",
        "        correctly_classified = 0\n",
        "        if category == 'BACKGROUND_Google':\n",
        "            continue\n",
        "        Y_category = [category for _ in range(count)]\n",
        "        encoded = label_encoder.transform(Y_category)\n",
        "        Y_category = to_categorical(encoded, num_classes=101)\n",
        "        assert Y_category.shape == (count, 101)\n",
        "        X_category = np.ndarray((count, 100, 100, 3), dtype=np.float64)\n",
        "        for i,img in enumerate(get_images(category, data_directory)):\n",
        "            if not img.endswith('.jpg'):\n",
        "                # to escape hidden ipynb checkpoints and other unnecessary files \n",
        "                continue\n",
        "            X_category[i] = read_image(img) / 255\n",
        "        score = nn_model.evaluate(x=X_category, y=Y_category, verbose=1)\n",
        "        del X_category\n",
        "        category_accuracy_dict[category] = score\n",
        "    print(\"Accuracy found for each class\")\n",
        "    return category_accuracy_dict"
      ],
      "execution_count": 0,
      "outputs": []
    },
    {
      "cell_type": "code",
      "metadata": {
        "id": "YpMcM8NXYutG",
        "colab_type": "code",
        "colab": {
          "base_uri": "https://localhost:8080/",
          "height": 1000
        },
        "outputId": "a2fb9c35-b7b6-40d8-d641-3422878a006b"
      },
      "source": [
        "# Testing first model\n",
        "cnn_score_dict = find_accuracy_per_category('./data', model_cnn)"
      ],
      "execution_count": 114,
      "outputs": [
        {
          "output_type": "stream",
          "text": [
            "800/800 [==============================] - 9s 11ms/sample - loss: 0.0213 - acc: 0.9950\n",
            "798/798 [==============================] - 9s 11ms/sample - loss: 0.0126 - acc: 0.9987\n",
            "435/435 [==============================] - 5s 11ms/sample - loss: 0.0372 - acc: 0.9885\n",
            "435/435 [==============================] - 5s 11ms/sample - loss: 0.0681 - acc: 0.9954\n",
            "239/239 [==============================] - 3s 11ms/sample - loss: 0.2147 - acc: 0.9791\n",
            "200/200 [==============================] - 2s 11ms/sample - loss: 0.2131 - acc: 0.9550\n",
            "128/128 [==============================] - 1s 11ms/sample - loss: 0.5824 - acc: 0.9141\n",
            "123/123 [==============================] - 1s 11ms/sample - loss: 0.1103 - acc: 0.9756\n",
            "114/114 [==============================] - 1s 11ms/sample - loss: 0.3475 - acc: 0.9211\n",
            "107/107 [==============================] - 1s 11ms/sample - loss: 0.7431 - acc: 0.9159\n",
            "100/100 [==============================] - 1s 11ms/sample - loss: 0.3852 - acc: 0.9100\n",
            "99/99 [==============================] - 1s 11ms/sample - loss: 0.0669 - acc: 0.9798\n",
            "98/98 [==============================] - 1s 11ms/sample - loss: 0.3716 - acc: 0.9184\n",
            "91/91 [==============================] - 1s 11ms/sample - loss: 0.5058 - acc: 0.9121\n",
            "88/88 [==============================] - 1s 11ms/sample - loss: 1.1765 - acc: 0.8182\n",
            "87/87 [==============================] - 1s 11ms/sample - loss: 0.2827 - acc: 0.9540\n",
            "86/86 [==============================] - 1s 11ms/sample - loss: 0.1291 - acc: 0.9651\n",
            "86/86 [==============================] - 1s 11ms/sample - loss: 0.3664 - acc: 0.8953\n",
            "86/86 [==============================] - 1s 11ms/sample - loss: 0.7722 - acc: 0.8721\n",
            "85/85 [==============================] - 1s 11ms/sample - loss: 0.6761 - acc: 0.9412\n",
            "85/85 [==============================] - 1s 11ms/sample - loss: 0.5099 - acc: 0.9176\n",
            "85/85 [==============================] - 1s 11ms/sample - loss: 0.9622 - acc: 0.8706\n",
            "84/84 [==============================] - 1s 11ms/sample - loss: 0.6863 - acc: 0.8571\n",
            "82/82 [==============================] - 1s 11ms/sample - loss: 0.5369 - acc: 0.9634\n",
            "81/81 [==============================] - 1s 11ms/sample - loss: 0.3196 - acc: 0.9136\n",
            "80/80 [==============================] - 1s 11ms/sample - loss: 1.1068 - acc: 0.8375\n",
            "78/78 [==============================] - 1s 11ms/sample - loss: 0.8319 - acc: 0.8590\n",
            "76/76 [==============================] - 1s 11ms/sample - loss: 0.3712 - acc: 0.9605\n",
            "75/75 [==============================] - 1s 11ms/sample - loss: 0.8392 - acc: 0.8533\n",
            "75/75 [==============================] - 1s 11ms/sample - loss: 1.0841 - acc: 0.8800\n",
            "73/73 [==============================] - 1s 11ms/sample - loss: 0.9579 - acc: 0.9041\n",
            "70/70 [==============================] - 1s 11ms/sample - loss: 0.7055 - acc: 0.8714\n",
            "69/69 [==============================] - 1s 11ms/sample - loss: 0.8968 - acc: 0.8551\n",
            "68/68 [==============================] - 1s 11ms/sample - loss: 0.6328 - acc: 0.8676\n",
            "67/67 [==============================] - 1s 11ms/sample - loss: 0.7660 - acc: 0.8657\n",
            "67/67 [==============================] - 1s 11ms/sample - loss: 0.7100 - acc: 0.9104\n",
            "67/67 [==============================] - 1s 11ms/sample - loss: 1.1767 - acc: 0.8358\n",
            "66/66 [==============================] - 1s 11ms/sample - loss: 0.7843 - acc: 0.8788\n",
            "65/65 [==============================] - 1s 11ms/sample - loss: 0.8792 - acc: 0.8308\n",
            "64/64 [==============================] - 1s 11ms/sample - loss: 0.5255 - acc: 0.9219\n",
            "64/64 [==============================] - 1s 11ms/sample - loss: 0.5108 - acc: 0.9219\n",
            "64/64 [==============================] - 1s 11ms/sample - loss: 1.0483 - acc: 0.8594\n",
            "64/64 [==============================] - 1s 11ms/sample - loss: 0.3776 - acc: 0.9375\n",
            "64/64 [==============================] - 1s 11ms/sample - loss: 0.4882 - acc: 0.9375\n",
            "63/63 [==============================] - 1s 11ms/sample - loss: 0.8434 - acc: 0.8571\n",
            "62/62 [==============================] - 1s 11ms/sample - loss: 0.9842 - acc: 0.8710\n",
            "61/61 [==============================] - 1s 11ms/sample - loss: 1.5063 - acc: 0.8525\n",
            "60/60 [==============================] - 1s 11ms/sample - loss: 1.1631 - acc: 0.9000\n",
            "59/59 [==============================] - 1s 11ms/sample - loss: 1.0557 - acc: 0.8475\n",
            "59/59 [==============================] - 1s 11ms/sample - loss: 1.1953 - acc: 0.8983\n",
            "59/59 [==============================] - 1s 11ms/sample - loss: 0.2655 - acc: 0.9492\n",
            "59/59 [==============================] - 1s 11ms/sample - loss: 0.8734 - acc: 0.8475\n",
            "57/57 [==============================] - 1s 11ms/sample - loss: 0.7064 - acc: 0.8596\n",
            "57/57 [==============================] - 1s 11ms/sample - loss: 1.9377 - acc: 0.7368\n",
            "57/57 [==============================] - 1s 11ms/sample - loss: 1.5193 - acc: 0.7719\n",
            "56/56 [==============================] - 1s 11ms/sample - loss: 0.2371 - acc: 0.9286\n",
            "55/55 [==============================] - 1s 11ms/sample - loss: 1.2987 - acc: 0.8727\n",
            "55/55 [==============================] - 1s 11ms/sample - loss: 0.3465 - acc: 0.9455\n",
            "54/54 [==============================] - 1s 11ms/sample - loss: 0.2113 - acc: 0.9444\n",
            "54/54 [==============================] - 1s 11ms/sample - loss: 0.9655 - acc: 0.8704\n",
            "53/53 [==============================] - 1s 11ms/sample - loss: 0.5452 - acc: 0.9057\n",
            "53/53 [==============================] - 1s 11ms/sample - loss: 0.5744 - acc: 0.8868\n",
            "52/52 [==============================] - 1s 11ms/sample - loss: 0.1316 - acc: 0.9808\n",
            "51/51 [==============================] - 1s 11ms/sample - loss: 0.9608 - acc: 0.8235\n",
            "51/51 [==============================] - 1s 11ms/sample - loss: 0.4994 - acc: 0.8824\n",
            "50/50 [==============================] - 1s 11ms/sample - loss: 0.4443 - acc: 0.9400\n",
            "50/50 [==============================] - 1s 11ms/sample - loss: 1.2664 - acc: 0.8000\n",
            "49/49 [==============================] - 1s 11ms/sample - loss: 9.0966e-04 - acc: 1.0000\n",
            "49/49 [==============================] - 1s 11ms/sample - loss: 0.9361 - acc: 0.8776\n",
            "47/47 [==============================] - 1s 11ms/sample - loss: 1.9542 - acc: 0.7872\n",
            "47/47 [==============================] - 1s 11ms/sample - loss: 0.6467 - acc: 0.8723\n",
            "47/47 [==============================] - 1s 11ms/sample - loss: 0.9196 - acc: 0.8936\n",
            "47/47 [==============================] - 1s 11ms/sample - loss: 0.1951 - acc: 0.9787\n",
            "46/46 [==============================] - 0s 11ms/sample - loss: 2.3794 - acc: 0.7174\n",
            "45/45 [==============================] - 0s 11ms/sample - loss: 1.2981 - acc: 0.8000\n",
            "45/45 [==============================] - 1s 11ms/sample - loss: 1.3296 - acc: 0.8667\n",
            "45/45 [==============================] - 0s 11ms/sample - loss: 0.6293 - acc: 0.9111\n",
            "43/43 [==============================] - 0s 11ms/sample - loss: 1.2876 - acc: 0.8837\n",
            "43/43 [==============================] - 0s 11ms/sample - loss: 1.9191 - acc: 0.8140\n",
            "43/43 [==============================] - 0s 11ms/sample - loss: 0.8497 - acc: 0.9070\n",
            "42/42 [==============================] - 0s 11ms/sample - loss: 2.4748 - acc: 0.7381\n",
            "42/42 [==============================] - 0s 11ms/sample - loss: 1.7814 - acc: 0.7619\n",
            "42/42 [==============================] - 0s 11ms/sample - loss: 1.2052 - acc: 0.8810\n",
            "41/41 [==============================] - 0s 11ms/sample - loss: 1.2107 - acc: 0.8537\n",
            "40/40 [==============================] - 0s 11ms/sample - loss: 1.5024 - acc: 0.8500\n",
            "40/40 [==============================] - 0s 11ms/sample - loss: 1.0705 - acc: 0.8750\n",
            "39/39 [==============================] - 0s 11ms/sample - loss: 2.2840 - acc: 0.8205\n",
            "39/39 [==============================] - 0s 11ms/sample - loss: 0.2006 - acc: 0.9744\n",
            "39/39 [==============================] - 0s 11ms/sample - loss: 0.4804 - acc: 0.9231\n",
            "38/38 [==============================] - 0s 11ms/sample - loss: 1.2433 - acc: 0.7632\n",
            "37/37 [==============================] - 0s 11ms/sample - loss: 1.3039 - acc: 0.8378\n",
            "35/35 [==============================] - 0s 11ms/sample - loss: 0.3748 - acc: 0.9714\n",
            "35/35 [==============================] - 0s 11ms/sample - loss: 1.4127 - acc: 0.8286\n",
            "35/35 [==============================] - 0s 11ms/sample - loss: 0.5759 - acc: 0.9143\n",
            "34/34 [==============================] - 0s 11ms/sample - loss: 1.6184 - acc: 0.7941\n",
            "34/34 [==============================] - 0s 11ms/sample - loss: 0.8878 - acc: 0.8824\n",
            "34/34 [==============================] - 0s 11ms/sample - loss: 1.7918 - acc: 0.8235\n",
            "34/34 [==============================] - 0s 11ms/sample - loss: 1.2059 - acc: 0.8235\n",
            "33/33 [==============================] - 0s 11ms/sample - loss: 2.7700 - acc: 0.7576\n",
            "32/32 [==============================] - 0s 11ms/sample - loss: 1.5625 - acc: 0.8438\n",
            "31/31 [==============================] - 0s 11ms/sample - loss: 0.7850 - acc: 0.9677\n",
            "Accuracy found for each class\n"
          ],
          "name": "stdout"
        }
      ]
    },
    {
      "cell_type": "code",
      "metadata": {
        "id": "FOXa8XKIZNBv",
        "colab_type": "code",
        "colab": {
          "base_uri": "https://localhost:8080/",
          "height": 1000
        },
        "outputId": "8e06f46c-bed3-45b6-d214-e179cf98e0a4"
      },
      "source": [
        "\n",
        "average_accuracy = 0\n",
        "for category, scores in cnn_score_dict.items():\n",
        "    print(category,\":\",scores[1])\n",
        "    average_accuracy += scores[1]\n",
        "average_accuracy /= 101\n",
        "print(\"Average accuracy : \",average_accuracy)"
      ],
      "execution_count": 115,
      "outputs": [
        {
          "output_type": "stream",
          "text": [
            "airplanes : 0.995\n",
            "Motorbikes : 0.9987469\n",
            "Faces : 0.9885057\n",
            "Faces_easy : 0.9954023\n",
            "watch : 0.9790795\n",
            "Leopards : 0.955\n",
            "bonsai : 0.9140625\n",
            "car_side : 0.9756098\n",
            "ketch : 0.92105263\n",
            "chandelier : 0.91588783\n",
            "hawksbill : 0.91\n",
            "grand_piano : 0.97979796\n",
            "brain : 0.9183673\n",
            "butterfly : 0.9120879\n",
            "helicopter : 0.8181818\n",
            "menorah : 0.954023\n",
            "trilobite : 0.96511626\n",
            "starfish : 0.89534885\n",
            "kangaroo : 0.872093\n",
            "sunflower : 0.9411765\n",
            "buddha : 0.91764706\n",
            "ewer : 0.87058824\n",
            "scorpion : 0.85714287\n",
            "revolver : 0.9634146\n",
            "laptop : 0.91358024\n",
            "ibis : 0.8375\n",
            "llama : 0.85897434\n",
            "minaret : 0.9605263\n",
            "umbrella : 0.85333335\n",
            "electric_guitar : 0.88\n",
            "crab : 0.9041096\n",
            "crayfish : 0.87142855\n",
            "cougar_face : 0.85507244\n",
            "dragonfly : 0.86764705\n",
            "dalmatian : 0.86567163\n",
            "flamingo : 0.9104478\n",
            "ferry : 0.8358209\n",
            "lotus : 0.8787879\n",
            "dolphin : 0.83076924\n",
            "joshua_tree : 0.921875\n",
            "euphonium : 0.921875\n",
            "elephant : 0.859375\n",
            "soccer_ball : 0.9375\n",
            "stop_sign : 0.9375\n",
            "schooner : 0.85714287\n",
            "chair : 0.87096775\n",
            "lamp : 0.852459\n",
            "yin_yang : 0.9\n",
            "rhino : 0.84745765\n",
            "stegosaurus : 0.89830506\n",
            "cellphone : 0.9491525\n",
            "wheelchair : 0.84745765\n",
            "pyramid : 0.8596491\n",
            "sea_horse : 0.7368421\n",
            "cup : 0.7719298\n",
            "windsor_chair : 0.9285714\n",
            "nautilus : 0.8727273\n",
            "accordion : 0.94545454\n",
            "hedgehog : 0.9444444\n",
            "bass : 0.8703704\n",
            "emu : 0.9056604\n",
            "pizza : 0.8867925\n",
            "dollar_bill : 0.9807692\n",
            "crocodile_head : 0.8235294\n",
            "gramophone : 0.88235295\n",
            "camera : 0.94\n",
            "crocodile : 0.8\n",
            "rooster : 1.0\n",
            "tick : 0.877551\n",
            "barrel : 0.78723407\n",
            "cougar_body : 0.87234044\n",
            "ceiling_fan : 0.89361703\n",
            "pagoda : 0.9787234\n",
            "beaver : 0.7173913\n",
            "flamingo_head : 0.8\n",
            "stapler : 0.8666667\n",
            "pigeon : 0.9111111\n",
            "mandolin : 0.88372093\n",
            "brontosaurus : 0.81395346\n",
            "cannon : 0.90697676\n",
            "ant : 0.7380952\n",
            "anchor : 0.7619048\n",
            "headphone : 0.88095236\n",
            "lobster : 0.85365856\n",
            "saxophone : 0.85\n",
            "mayfly : 0.875\n",
            "scissors : 0.82051283\n",
            "wrench : 0.974359\n",
            "okapi : 0.9230769\n",
            "panda : 0.7631579\n",
            "water_lilly : 0.8378378\n",
            "strawberry : 0.9714286\n",
            "octopus : 0.82857144\n",
            "snoopy : 0.9142857\n",
            "gerenuk : 0.7941176\n",
            "platypus : 0.88235295\n",
            "wild_cat : 0.8235294\n",
            "garfield : 0.8235294\n",
            "binocular : 0.75757575\n",
            "metronome : 0.84375\n",
            "inline_skate : 0.9677419\n",
            "Average accuracy :  0.885959279419172\n"
          ],
          "name": "stdout"
        }
      ]
    },
    {
      "cell_type": "markdown",
      "metadata": {
        "id": "2Z05B-mRZZvH",
        "colab_type": "text"
      },
      "source": [
        "**So, as we can see, we achieve an average accuracy of 88% per category with our CNN models. This isn't bad. Overall, the model performance is satisfactory. Perhaps adding some convolutional layers can achieve a better result.**"
      ]
    }
  ]
}