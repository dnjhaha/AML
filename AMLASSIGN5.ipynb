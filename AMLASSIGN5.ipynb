{
  "nbformat": 4,
  "nbformat_minor": 0,
  "metadata": {
    "colab": {
      "name": "AMLASSIGN5.ipynb",
      "provenance": [],
      "include_colab_link": true
    },
    "kernelspec": {
      "name": "python3",
      "display_name": "Python 3"
    }
  },
  "cells": [
    {
      "cell_type": "markdown",
      "metadata": {
        "id": "view-in-github",
        "colab_type": "text"
      },
      "source": [
        "<a href=\"https://colab.research.google.com/github/dnjhaha/AML/blob/master/AMLASSIGN5.ipynb\" target=\"_parent\"><img src=\"https://colab.research.google.com/assets/colab-badge.svg\" alt=\"Open In Colab\"/></a>"
      ]
    },
    {
      "cell_type": "markdown",
      "metadata": {
        "id": "MVdKZAWCAD43",
        "colab_type": "text"
      },
      "source": [
        "# Danni Jin AML Spring 2020 assignment #5\n",
        "**Set up First, let's make sure this notebook works well in both python 2 and 3, import a few common modules, ensure MatplotLib plots figures inline and prepare a function to save the figures:**"
      ]
    },
    {
      "cell_type": "code",
      "metadata": {
        "id": "wGGldInfAHzK",
        "colab_type": "code",
        "colab": {}
      },
      "source": [
        "# To support both python 2 and python 3\n",
        "from __future__ import division, print_function, unicode_literals\n",
        "# Common imports\n",
        "import numpy as np\n",
        "import os\n",
        "# to make this notebook's output stable across runs\n",
        "np.random.seed(42)\n",
        "# To plot pretty figures\n",
        "%matplotlib inline\n",
        "import matplotlib as mpl\n",
        "import matplotlib.pyplot as plt\n",
        "mpl.rc('axes', labelsize=14)\n",
        "mpl.rc('xtick', labelsize=12)\n",
        "mpl.rc('ytick', labelsize=12)\n",
        "# Where to save the figures\n",
        "PROJECT_ROOT_DIR = \".\"\n",
        "CHAPTER_ID = \"end_to_end_project\"\n",
        "IMAGES_PATH = os.path.join(PROJECT_ROOT_DIR, \"images\", CHAPTER_ID)\n",
        "os.makedirs(IMAGES_PATH, exist_ok=True)\n",
        "def save_fig(fig_id, tight_layout=True, fig_extension=\"png\", resolution=300):\n",
        "    path = os.path.join(IMAGES_PATH, fig_id + \".\" + fig_extension)\n",
        "    print(\"Saving figure\", fig_id)\n",
        "    if tight_layout:\n",
        "        plt.tight_layout()\n",
        "    plt.savefig(path, format=fig_extension, dpi=resolution)\n",
        "# Ignore useless warnings (see SciPy issue #5998)\n",
        "import warnings\n",
        "warnings.filterwarnings(action=\"ignore\", message=\"^internal gelsd\")"
      ],
      "execution_count": 0,
      "outputs": []
    },
    {
      "cell_type": "markdown",
      "metadata": {
        "id": "w-mSUP1LAJdS",
        "colab_type": "text"
      },
      "source": [
        "**The first thing we'll need to do is load in the libraries we'll be using.**"
      ]
    },
    {
      "cell_type": "code",
      "metadata": {
        "id": "_IdG_xctASwN",
        "colab_type": "code",
        "colab": {}
      },
      "source": [
        "#Loading libraries \n",
        "import pandas as pd\n",
        "import numpy as np\n",
        "import matplotlib.pyplot as plt\n",
        "import seaborn as sns\n",
        "from collections import Counter\n",
        "from imblearn.over_sampling import SMOTE\n",
        "from sklearn.model_selection import train_test_split\n",
        "from sklearn.metrics import accuracy_score, precision_score, recall_score\n",
        "from sklearn.model_selection import RepeatedStratifiedKFold\n",
        "from sklearn.model_selection import cross_val_score\n",
        "from sklearn.model_selection import KFold\n",
        "from numpy import mean\n",
        "from sklearn.svm import LinearSVC"
      ],
      "execution_count": 0,
      "outputs": []
    },
    {
      "cell_type": "markdown",
      "metadata": {
        "id": "irggs6cCAdV3",
        "colab_type": "text"
      },
      "source": [
        "**We have to read in the CSV file that is from the github. We'll use a package called pandas for that. Take a first look at the data.**"
      ]
    },
    {
      "cell_type": "code",
      "metadata": {
        "id": "e_a3eKoOAdjt",
        "colab_type": "code",
        "outputId": "b2bb6425-3101-436c-ea2d-55c351be4dea",
        "colab": {
          "base_uri": "https://localhost:8080/",
          "height": 566
        }
      },
      "source": [
        "#loading Dataset\n",
        "url = 'https://raw.githubusercontent.com/dnjhaha/AML/master/datasets/diabetic_data.csv'\n",
        "diabetic = pd.read_csv(url)\n",
        "diabetic.head(10)#displaying first 10 rows of data"
      ],
      "execution_count": 0,
      "outputs": [
        {
          "output_type": "execute_result",
          "data": {
            "text/html": [
              "<div>\n",
              "<style scoped>\n",
              "    .dataframe tbody tr th:only-of-type {\n",
              "        vertical-align: middle;\n",
              "    }\n",
              "\n",
              "    .dataframe tbody tr th {\n",
              "        vertical-align: top;\n",
              "    }\n",
              "\n",
              "    .dataframe thead th {\n",
              "        text-align: right;\n",
              "    }\n",
              "</style>\n",
              "<table border=\"1\" class=\"dataframe\">\n",
              "  <thead>\n",
              "    <tr style=\"text-align: right;\">\n",
              "      <th></th>\n",
              "      <th>encounter_id</th>\n",
              "      <th>patient_nbr</th>\n",
              "      <th>race</th>\n",
              "      <th>gender</th>\n",
              "      <th>age</th>\n",
              "      <th>weight</th>\n",
              "      <th>admission_type_id</th>\n",
              "      <th>discharge_disposition_id</th>\n",
              "      <th>admission_source_id</th>\n",
              "      <th>time_in_hospital</th>\n",
              "      <th>payer_code</th>\n",
              "      <th>medical_specialty</th>\n",
              "      <th>num_lab_procedures</th>\n",
              "      <th>num_procedures</th>\n",
              "      <th>num_medications</th>\n",
              "      <th>number_outpatient</th>\n",
              "      <th>number_emergency</th>\n",
              "      <th>number_inpatient</th>\n",
              "      <th>diag_1</th>\n",
              "      <th>diag_2</th>\n",
              "      <th>diag_3</th>\n",
              "      <th>number_diagnoses</th>\n",
              "      <th>max_glu_serum</th>\n",
              "      <th>A1Cresult</th>\n",
              "      <th>metformin</th>\n",
              "      <th>repaglinide</th>\n",
              "      <th>nateglinide</th>\n",
              "      <th>chlorpropamide</th>\n",
              "      <th>glimepiride</th>\n",
              "      <th>acetohexamide</th>\n",
              "      <th>glipizide</th>\n",
              "      <th>glyburide</th>\n",
              "      <th>tolbutamide</th>\n",
              "      <th>pioglitazone</th>\n",
              "      <th>rosiglitazone</th>\n",
              "      <th>acarbose</th>\n",
              "      <th>miglitol</th>\n",
              "      <th>troglitazone</th>\n",
              "      <th>tolazamide</th>\n",
              "      <th>examide</th>\n",
              "      <th>citoglipton</th>\n",
              "      <th>insulin</th>\n",
              "      <th>glyburide-metformin</th>\n",
              "      <th>glipizide-metformin</th>\n",
              "      <th>glimepiride-pioglitazone</th>\n",
              "      <th>metformin-rosiglitazone</th>\n",
              "      <th>metformin-pioglitazone</th>\n",
              "      <th>change</th>\n",
              "      <th>diabetesMed</th>\n",
              "      <th>readmitted</th>\n",
              "    </tr>\n",
              "  </thead>\n",
              "  <tbody>\n",
              "    <tr>\n",
              "      <th>0</th>\n",
              "      <td>2278392</td>\n",
              "      <td>8222157</td>\n",
              "      <td>Caucasian</td>\n",
              "      <td>Female</td>\n",
              "      <td>[0-10)</td>\n",
              "      <td>?</td>\n",
              "      <td>6</td>\n",
              "      <td>25</td>\n",
              "      <td>1</td>\n",
              "      <td>1</td>\n",
              "      <td>?</td>\n",
              "      <td>Pediatrics-Endocrinology</td>\n",
              "      <td>41</td>\n",
              "      <td>0</td>\n",
              "      <td>1</td>\n",
              "      <td>0</td>\n",
              "      <td>0</td>\n",
              "      <td>0</td>\n",
              "      <td>250.83</td>\n",
              "      <td>?</td>\n",
              "      <td>?</td>\n",
              "      <td>1</td>\n",
              "      <td>None</td>\n",
              "      <td>None</td>\n",
              "      <td>No</td>\n",
              "      <td>No</td>\n",
              "      <td>No</td>\n",
              "      <td>No</td>\n",
              "      <td>No</td>\n",
              "      <td>No</td>\n",
              "      <td>No</td>\n",
              "      <td>No</td>\n",
              "      <td>No</td>\n",
              "      <td>No</td>\n",
              "      <td>No</td>\n",
              "      <td>No</td>\n",
              "      <td>No</td>\n",
              "      <td>No</td>\n",
              "      <td>No</td>\n",
              "      <td>No</td>\n",
              "      <td>No</td>\n",
              "      <td>No</td>\n",
              "      <td>No</td>\n",
              "      <td>No</td>\n",
              "      <td>No</td>\n",
              "      <td>No</td>\n",
              "      <td>No</td>\n",
              "      <td>No</td>\n",
              "      <td>No</td>\n",
              "      <td>NO</td>\n",
              "    </tr>\n",
              "    <tr>\n",
              "      <th>1</th>\n",
              "      <td>149190</td>\n",
              "      <td>55629189</td>\n",
              "      <td>Caucasian</td>\n",
              "      <td>Female</td>\n",
              "      <td>[10-20)</td>\n",
              "      <td>?</td>\n",
              "      <td>1</td>\n",
              "      <td>1</td>\n",
              "      <td>7</td>\n",
              "      <td>3</td>\n",
              "      <td>?</td>\n",
              "      <td>?</td>\n",
              "      <td>59</td>\n",
              "      <td>0</td>\n",
              "      <td>18</td>\n",
              "      <td>0</td>\n",
              "      <td>0</td>\n",
              "      <td>0</td>\n",
              "      <td>276</td>\n",
              "      <td>250.01</td>\n",
              "      <td>255</td>\n",
              "      <td>9</td>\n",
              "      <td>None</td>\n",
              "      <td>None</td>\n",
              "      <td>No</td>\n",
              "      <td>No</td>\n",
              "      <td>No</td>\n",
              "      <td>No</td>\n",
              "      <td>No</td>\n",
              "      <td>No</td>\n",
              "      <td>No</td>\n",
              "      <td>No</td>\n",
              "      <td>No</td>\n",
              "      <td>No</td>\n",
              "      <td>No</td>\n",
              "      <td>No</td>\n",
              "      <td>No</td>\n",
              "      <td>No</td>\n",
              "      <td>No</td>\n",
              "      <td>No</td>\n",
              "      <td>No</td>\n",
              "      <td>Up</td>\n",
              "      <td>No</td>\n",
              "      <td>No</td>\n",
              "      <td>No</td>\n",
              "      <td>No</td>\n",
              "      <td>No</td>\n",
              "      <td>Ch</td>\n",
              "      <td>Yes</td>\n",
              "      <td>&gt;30</td>\n",
              "    </tr>\n",
              "    <tr>\n",
              "      <th>2</th>\n",
              "      <td>64410</td>\n",
              "      <td>86047875</td>\n",
              "      <td>AfricanAmerican</td>\n",
              "      <td>Female</td>\n",
              "      <td>[20-30)</td>\n",
              "      <td>?</td>\n",
              "      <td>1</td>\n",
              "      <td>1</td>\n",
              "      <td>7</td>\n",
              "      <td>2</td>\n",
              "      <td>?</td>\n",
              "      <td>?</td>\n",
              "      <td>11</td>\n",
              "      <td>5</td>\n",
              "      <td>13</td>\n",
              "      <td>2</td>\n",
              "      <td>0</td>\n",
              "      <td>1</td>\n",
              "      <td>648</td>\n",
              "      <td>250</td>\n",
              "      <td>V27</td>\n",
              "      <td>6</td>\n",
              "      <td>None</td>\n",
              "      <td>None</td>\n",
              "      <td>No</td>\n",
              "      <td>No</td>\n",
              "      <td>No</td>\n",
              "      <td>No</td>\n",
              "      <td>No</td>\n",
              "      <td>No</td>\n",
              "      <td>Steady</td>\n",
              "      <td>No</td>\n",
              "      <td>No</td>\n",
              "      <td>No</td>\n",
              "      <td>No</td>\n",
              "      <td>No</td>\n",
              "      <td>No</td>\n",
              "      <td>No</td>\n",
              "      <td>No</td>\n",
              "      <td>No</td>\n",
              "      <td>No</td>\n",
              "      <td>No</td>\n",
              "      <td>No</td>\n",
              "      <td>No</td>\n",
              "      <td>No</td>\n",
              "      <td>No</td>\n",
              "      <td>No</td>\n",
              "      <td>No</td>\n",
              "      <td>Yes</td>\n",
              "      <td>NO</td>\n",
              "    </tr>\n",
              "    <tr>\n",
              "      <th>3</th>\n",
              "      <td>500364</td>\n",
              "      <td>82442376</td>\n",
              "      <td>Caucasian</td>\n",
              "      <td>Male</td>\n",
              "      <td>[30-40)</td>\n",
              "      <td>?</td>\n",
              "      <td>1</td>\n",
              "      <td>1</td>\n",
              "      <td>7</td>\n",
              "      <td>2</td>\n",
              "      <td>?</td>\n",
              "      <td>?</td>\n",
              "      <td>44</td>\n",
              "      <td>1</td>\n",
              "      <td>16</td>\n",
              "      <td>0</td>\n",
              "      <td>0</td>\n",
              "      <td>0</td>\n",
              "      <td>8</td>\n",
              "      <td>250.43</td>\n",
              "      <td>403</td>\n",
              "      <td>7</td>\n",
              "      <td>None</td>\n",
              "      <td>None</td>\n",
              "      <td>No</td>\n",
              "      <td>No</td>\n",
              "      <td>No</td>\n",
              "      <td>No</td>\n",
              "      <td>No</td>\n",
              "      <td>No</td>\n",
              "      <td>No</td>\n",
              "      <td>No</td>\n",
              "      <td>No</td>\n",
              "      <td>No</td>\n",
              "      <td>No</td>\n",
              "      <td>No</td>\n",
              "      <td>No</td>\n",
              "      <td>No</td>\n",
              "      <td>No</td>\n",
              "      <td>No</td>\n",
              "      <td>No</td>\n",
              "      <td>Up</td>\n",
              "      <td>No</td>\n",
              "      <td>No</td>\n",
              "      <td>No</td>\n",
              "      <td>No</td>\n",
              "      <td>No</td>\n",
              "      <td>Ch</td>\n",
              "      <td>Yes</td>\n",
              "      <td>NO</td>\n",
              "    </tr>\n",
              "    <tr>\n",
              "      <th>4</th>\n",
              "      <td>16680</td>\n",
              "      <td>42519267</td>\n",
              "      <td>Caucasian</td>\n",
              "      <td>Male</td>\n",
              "      <td>[40-50)</td>\n",
              "      <td>?</td>\n",
              "      <td>1</td>\n",
              "      <td>1</td>\n",
              "      <td>7</td>\n",
              "      <td>1</td>\n",
              "      <td>?</td>\n",
              "      <td>?</td>\n",
              "      <td>51</td>\n",
              "      <td>0</td>\n",
              "      <td>8</td>\n",
              "      <td>0</td>\n",
              "      <td>0</td>\n",
              "      <td>0</td>\n",
              "      <td>197</td>\n",
              "      <td>157</td>\n",
              "      <td>250</td>\n",
              "      <td>5</td>\n",
              "      <td>None</td>\n",
              "      <td>None</td>\n",
              "      <td>No</td>\n",
              "      <td>No</td>\n",
              "      <td>No</td>\n",
              "      <td>No</td>\n",
              "      <td>No</td>\n",
              "      <td>No</td>\n",
              "      <td>Steady</td>\n",
              "      <td>No</td>\n",
              "      <td>No</td>\n",
              "      <td>No</td>\n",
              "      <td>No</td>\n",
              "      <td>No</td>\n",
              "      <td>No</td>\n",
              "      <td>No</td>\n",
              "      <td>No</td>\n",
              "      <td>No</td>\n",
              "      <td>No</td>\n",
              "      <td>Steady</td>\n",
              "      <td>No</td>\n",
              "      <td>No</td>\n",
              "      <td>No</td>\n",
              "      <td>No</td>\n",
              "      <td>No</td>\n",
              "      <td>Ch</td>\n",
              "      <td>Yes</td>\n",
              "      <td>NO</td>\n",
              "    </tr>\n",
              "    <tr>\n",
              "      <th>5</th>\n",
              "      <td>35754</td>\n",
              "      <td>82637451</td>\n",
              "      <td>Caucasian</td>\n",
              "      <td>Male</td>\n",
              "      <td>[50-60)</td>\n",
              "      <td>?</td>\n",
              "      <td>2</td>\n",
              "      <td>1</td>\n",
              "      <td>2</td>\n",
              "      <td>3</td>\n",
              "      <td>?</td>\n",
              "      <td>?</td>\n",
              "      <td>31</td>\n",
              "      <td>6</td>\n",
              "      <td>16</td>\n",
              "      <td>0</td>\n",
              "      <td>0</td>\n",
              "      <td>0</td>\n",
              "      <td>414</td>\n",
              "      <td>411</td>\n",
              "      <td>250</td>\n",
              "      <td>9</td>\n",
              "      <td>None</td>\n",
              "      <td>None</td>\n",
              "      <td>No</td>\n",
              "      <td>No</td>\n",
              "      <td>No</td>\n",
              "      <td>No</td>\n",
              "      <td>No</td>\n",
              "      <td>No</td>\n",
              "      <td>No</td>\n",
              "      <td>No</td>\n",
              "      <td>No</td>\n",
              "      <td>No</td>\n",
              "      <td>No</td>\n",
              "      <td>No</td>\n",
              "      <td>No</td>\n",
              "      <td>No</td>\n",
              "      <td>No</td>\n",
              "      <td>No</td>\n",
              "      <td>No</td>\n",
              "      <td>Steady</td>\n",
              "      <td>No</td>\n",
              "      <td>No</td>\n",
              "      <td>No</td>\n",
              "      <td>No</td>\n",
              "      <td>No</td>\n",
              "      <td>No</td>\n",
              "      <td>Yes</td>\n",
              "      <td>&gt;30</td>\n",
              "    </tr>\n",
              "    <tr>\n",
              "      <th>6</th>\n",
              "      <td>55842</td>\n",
              "      <td>84259809</td>\n",
              "      <td>Caucasian</td>\n",
              "      <td>Male</td>\n",
              "      <td>[60-70)</td>\n",
              "      <td>?</td>\n",
              "      <td>3</td>\n",
              "      <td>1</td>\n",
              "      <td>2</td>\n",
              "      <td>4</td>\n",
              "      <td>?</td>\n",
              "      <td>?</td>\n",
              "      <td>70</td>\n",
              "      <td>1</td>\n",
              "      <td>21</td>\n",
              "      <td>0</td>\n",
              "      <td>0</td>\n",
              "      <td>0</td>\n",
              "      <td>414</td>\n",
              "      <td>411</td>\n",
              "      <td>V45</td>\n",
              "      <td>7</td>\n",
              "      <td>None</td>\n",
              "      <td>None</td>\n",
              "      <td>Steady</td>\n",
              "      <td>No</td>\n",
              "      <td>No</td>\n",
              "      <td>No</td>\n",
              "      <td>Steady</td>\n",
              "      <td>No</td>\n",
              "      <td>No</td>\n",
              "      <td>No</td>\n",
              "      <td>No</td>\n",
              "      <td>No</td>\n",
              "      <td>No</td>\n",
              "      <td>No</td>\n",
              "      <td>No</td>\n",
              "      <td>No</td>\n",
              "      <td>No</td>\n",
              "      <td>No</td>\n",
              "      <td>No</td>\n",
              "      <td>Steady</td>\n",
              "      <td>No</td>\n",
              "      <td>No</td>\n",
              "      <td>No</td>\n",
              "      <td>No</td>\n",
              "      <td>No</td>\n",
              "      <td>Ch</td>\n",
              "      <td>Yes</td>\n",
              "      <td>NO</td>\n",
              "    </tr>\n",
              "    <tr>\n",
              "      <th>7</th>\n",
              "      <td>63768</td>\n",
              "      <td>114882984</td>\n",
              "      <td>Caucasian</td>\n",
              "      <td>Male</td>\n",
              "      <td>[70-80)</td>\n",
              "      <td>?</td>\n",
              "      <td>1</td>\n",
              "      <td>1</td>\n",
              "      <td>7</td>\n",
              "      <td>5</td>\n",
              "      <td>?</td>\n",
              "      <td>?</td>\n",
              "      <td>73</td>\n",
              "      <td>0</td>\n",
              "      <td>12</td>\n",
              "      <td>0</td>\n",
              "      <td>0</td>\n",
              "      <td>0</td>\n",
              "      <td>428</td>\n",
              "      <td>492</td>\n",
              "      <td>250</td>\n",
              "      <td>8</td>\n",
              "      <td>None</td>\n",
              "      <td>None</td>\n",
              "      <td>No</td>\n",
              "      <td>No</td>\n",
              "      <td>No</td>\n",
              "      <td>No</td>\n",
              "      <td>No</td>\n",
              "      <td>No</td>\n",
              "      <td>No</td>\n",
              "      <td>Steady</td>\n",
              "      <td>No</td>\n",
              "      <td>No</td>\n",
              "      <td>No</td>\n",
              "      <td>No</td>\n",
              "      <td>No</td>\n",
              "      <td>No</td>\n",
              "      <td>No</td>\n",
              "      <td>No</td>\n",
              "      <td>No</td>\n",
              "      <td>No</td>\n",
              "      <td>No</td>\n",
              "      <td>No</td>\n",
              "      <td>No</td>\n",
              "      <td>No</td>\n",
              "      <td>No</td>\n",
              "      <td>No</td>\n",
              "      <td>Yes</td>\n",
              "      <td>&gt;30</td>\n",
              "    </tr>\n",
              "    <tr>\n",
              "      <th>8</th>\n",
              "      <td>12522</td>\n",
              "      <td>48330783</td>\n",
              "      <td>Caucasian</td>\n",
              "      <td>Female</td>\n",
              "      <td>[80-90)</td>\n",
              "      <td>?</td>\n",
              "      <td>2</td>\n",
              "      <td>1</td>\n",
              "      <td>4</td>\n",
              "      <td>13</td>\n",
              "      <td>?</td>\n",
              "      <td>?</td>\n",
              "      <td>68</td>\n",
              "      <td>2</td>\n",
              "      <td>28</td>\n",
              "      <td>0</td>\n",
              "      <td>0</td>\n",
              "      <td>0</td>\n",
              "      <td>398</td>\n",
              "      <td>427</td>\n",
              "      <td>38</td>\n",
              "      <td>8</td>\n",
              "      <td>None</td>\n",
              "      <td>None</td>\n",
              "      <td>No</td>\n",
              "      <td>No</td>\n",
              "      <td>No</td>\n",
              "      <td>No</td>\n",
              "      <td>No</td>\n",
              "      <td>No</td>\n",
              "      <td>Steady</td>\n",
              "      <td>No</td>\n",
              "      <td>No</td>\n",
              "      <td>No</td>\n",
              "      <td>No</td>\n",
              "      <td>No</td>\n",
              "      <td>No</td>\n",
              "      <td>No</td>\n",
              "      <td>No</td>\n",
              "      <td>No</td>\n",
              "      <td>No</td>\n",
              "      <td>Steady</td>\n",
              "      <td>No</td>\n",
              "      <td>No</td>\n",
              "      <td>No</td>\n",
              "      <td>No</td>\n",
              "      <td>No</td>\n",
              "      <td>Ch</td>\n",
              "      <td>Yes</td>\n",
              "      <td>NO</td>\n",
              "    </tr>\n",
              "    <tr>\n",
              "      <th>9</th>\n",
              "      <td>15738</td>\n",
              "      <td>63555939</td>\n",
              "      <td>Caucasian</td>\n",
              "      <td>Female</td>\n",
              "      <td>[90-100)</td>\n",
              "      <td>?</td>\n",
              "      <td>3</td>\n",
              "      <td>3</td>\n",
              "      <td>4</td>\n",
              "      <td>12</td>\n",
              "      <td>?</td>\n",
              "      <td>InternalMedicine</td>\n",
              "      <td>33</td>\n",
              "      <td>3</td>\n",
              "      <td>18</td>\n",
              "      <td>0</td>\n",
              "      <td>0</td>\n",
              "      <td>0</td>\n",
              "      <td>434</td>\n",
              "      <td>198</td>\n",
              "      <td>486</td>\n",
              "      <td>8</td>\n",
              "      <td>None</td>\n",
              "      <td>None</td>\n",
              "      <td>No</td>\n",
              "      <td>No</td>\n",
              "      <td>No</td>\n",
              "      <td>No</td>\n",
              "      <td>No</td>\n",
              "      <td>No</td>\n",
              "      <td>No</td>\n",
              "      <td>No</td>\n",
              "      <td>No</td>\n",
              "      <td>No</td>\n",
              "      <td>Steady</td>\n",
              "      <td>No</td>\n",
              "      <td>No</td>\n",
              "      <td>No</td>\n",
              "      <td>No</td>\n",
              "      <td>No</td>\n",
              "      <td>No</td>\n",
              "      <td>Steady</td>\n",
              "      <td>No</td>\n",
              "      <td>No</td>\n",
              "      <td>No</td>\n",
              "      <td>No</td>\n",
              "      <td>No</td>\n",
              "      <td>Ch</td>\n",
              "      <td>Yes</td>\n",
              "      <td>NO</td>\n",
              "    </tr>\n",
              "  </tbody>\n",
              "</table>\n",
              "</div>"
            ],
            "text/plain": [
              "   encounter_id  patient_nbr             race  ... change diabetesMed readmitted\n",
              "0       2278392      8222157        Caucasian  ...     No          No         NO\n",
              "1        149190     55629189        Caucasian  ...     Ch         Yes        >30\n",
              "2         64410     86047875  AfricanAmerican  ...     No         Yes         NO\n",
              "3        500364     82442376        Caucasian  ...     Ch         Yes         NO\n",
              "4         16680     42519267        Caucasian  ...     Ch         Yes         NO\n",
              "5         35754     82637451        Caucasian  ...     No         Yes        >30\n",
              "6         55842     84259809        Caucasian  ...     Ch         Yes         NO\n",
              "7         63768    114882984        Caucasian  ...     No         Yes        >30\n",
              "8         12522     48330783        Caucasian  ...     Ch         Yes         NO\n",
              "9         15738     63555939        Caucasian  ...     Ch         Yes         NO\n",
              "\n",
              "[10 rows x 50 columns]"
            ]
          },
          "metadata": {
            "tags": []
          },
          "execution_count": 3
        }
      ]
    },
    {
      "cell_type": "code",
      "metadata": {
        "id": "iExdgjNKDY94",
        "colab_type": "code",
        "outputId": "08e380d1-d2e5-47a9-b23e-bc077bc0a5a1",
        "colab": {
          "base_uri": "https://localhost:8080/",
          "height": 952
        }
      },
      "source": [
        "#Checking data types of each variable\n",
        "diabetic.info()"
      ],
      "execution_count": 0,
      "outputs": [
        {
          "output_type": "stream",
          "text": [
            "<class 'pandas.core.frame.DataFrame'>\n",
            "RangeIndex: 101766 entries, 0 to 101765\n",
            "Data columns (total 50 columns):\n",
            "encounter_id                101766 non-null int64\n",
            "patient_nbr                 101766 non-null int64\n",
            "race                        101766 non-null object\n",
            "gender                      101766 non-null object\n",
            "age                         101766 non-null object\n",
            "weight                      101766 non-null object\n",
            "admission_type_id           101766 non-null int64\n",
            "discharge_disposition_id    101766 non-null int64\n",
            "admission_source_id         101766 non-null int64\n",
            "time_in_hospital            101766 non-null int64\n",
            "payer_code                  101766 non-null object\n",
            "medical_specialty           101766 non-null object\n",
            "num_lab_procedures          101766 non-null int64\n",
            "num_procedures              101766 non-null int64\n",
            "num_medications             101766 non-null int64\n",
            "number_outpatient           101766 non-null int64\n",
            "number_emergency            101766 non-null int64\n",
            "number_inpatient            101766 non-null int64\n",
            "diag_1                      101766 non-null object\n",
            "diag_2                      101766 non-null object\n",
            "diag_3                      101766 non-null object\n",
            "number_diagnoses            101766 non-null int64\n",
            "max_glu_serum               101766 non-null object\n",
            "A1Cresult                   101766 non-null object\n",
            "metformin                   101766 non-null object\n",
            "repaglinide                 101766 non-null object\n",
            "nateglinide                 101766 non-null object\n",
            "chlorpropamide              101766 non-null object\n",
            "glimepiride                 101766 non-null object\n",
            "acetohexamide               101766 non-null object\n",
            "glipizide                   101766 non-null object\n",
            "glyburide                   101766 non-null object\n",
            "tolbutamide                 101766 non-null object\n",
            "pioglitazone                101766 non-null object\n",
            "rosiglitazone               101766 non-null object\n",
            "acarbose                    101766 non-null object\n",
            "miglitol                    101766 non-null object\n",
            "troglitazone                101766 non-null object\n",
            "tolazamide                  101766 non-null object\n",
            "examide                     101766 non-null object\n",
            "citoglipton                 101766 non-null object\n",
            "insulin                     101766 non-null object\n",
            "glyburide-metformin         101766 non-null object\n",
            "glipizide-metformin         101766 non-null object\n",
            "glimepiride-pioglitazone    101766 non-null object\n",
            "metformin-rosiglitazone     101766 non-null object\n",
            "metformin-pioglitazone      101766 non-null object\n",
            "change                      101766 non-null object\n",
            "diabetesMed                 101766 non-null object\n",
            "readmitted                  101766 non-null object\n",
            "dtypes: int64(13), object(37)\n",
            "memory usage: 38.8+ MB\n"
          ],
          "name": "stdout"
        }
      ]
    },
    {
      "cell_type": "markdown",
      "metadata": {
        "id": "-eF6MAQUCpq0",
        "colab_type": "text"
      },
      "source": [
        "The first thing I do when I get a new dataset is take a look at some of it. This lets me see that it all read in correctly and get an idea of what's going on with the data."
      ]
    },
    {
      "cell_type": "code",
      "metadata": {
        "id": "q7VDkF_hB7PT",
        "colab_type": "code",
        "outputId": "e78b2a80-c736-4fd5-a0d4-1551d1307859",
        "colab": {
          "base_uri": "https://localhost:8080/",
          "height": 34
        }
      },
      "source": [
        "#checking shape of the dataset\n",
        "diabetic.shape"
      ],
      "execution_count": 0,
      "outputs": [
        {
          "output_type": "execute_result",
          "data": {
            "text/plain": [
              "(101766, 50)"
            ]
          },
          "metadata": {
            "tags": []
          },
          "execution_count": 6
        }
      ]
    },
    {
      "cell_type": "code",
      "metadata": {
        "id": "oFJ_ah8uB-2F",
        "colab_type": "code",
        "outputId": "072e9304-f982-4e4e-cc26-35bd76d9dbc3",
        "colab": {
          "base_uri": "https://localhost:8080/",
          "height": 663
        }
      },
      "source": [
        "#Checking for missing values in dataset\n",
        "#In the dataset missing values are represented as '?' sign\n",
        "for col in diabetic.columns:\n",
        "    if diabetic[col].dtype == object:\n",
        "         print(col,diabetic[col][diabetic[col] == '?'].count())\n",
        "        \n",
        "print('gender', diabetic['gender'][diabetic['gender'] == 'Unknown/Invalid'].count()) # gender was coded differently so we use a custom count for this one          "
      ],
      "execution_count": 0,
      "outputs": [
        {
          "output_type": "stream",
          "text": [
            "race 2273\n",
            "gender 0\n",
            "age 0\n",
            "weight 98569\n",
            "payer_code 40256\n",
            "medical_specialty 49949\n",
            "diag_1 21\n",
            "diag_2 358\n",
            "diag_3 1423\n",
            "max_glu_serum 0\n",
            "A1Cresult 0\n",
            "metformin 0\n",
            "repaglinide 0\n",
            "nateglinide 0\n",
            "chlorpropamide 0\n",
            "glimepiride 0\n",
            "acetohexamide 0\n",
            "glipizide 0\n",
            "glyburide 0\n",
            "tolbutamide 0\n",
            "pioglitazone 0\n",
            "rosiglitazone 0\n",
            "acarbose 0\n",
            "miglitol 0\n",
            "troglitazone 0\n",
            "tolazamide 0\n",
            "examide 0\n",
            "citoglipton 0\n",
            "insulin 0\n",
            "glyburide-metformin 0\n",
            "glipizide-metformin 0\n",
            "glimepiride-pioglitazone 0\n",
            "metformin-rosiglitazone 0\n",
            "metformin-pioglitazone 0\n",
            "change 0\n",
            "diabetesMed 0\n",
            "readmitted 0\n",
            "gender 3\n"
          ],
          "name": "stdout"
        }
      ]
    },
    {
      "cell_type": "markdown",
      "metadata": {
        "id": "T1244HZUFUDP",
        "colab_type": "text"
      },
      "source": [
        "# Perform data scrubbing (handle missing data, normalization, scaling, etc.)\n",
        "Variable weight contains approximate 98% of the missing values so there is no significance in filling those missing values so we decided to drop these variables. Variable Payer code and medical specialty contains approximate 40% missing values so we also dropped these variables. Variables race, diag_1, diag_2, diag_3 and gender contains very less missing values as compared to other attributes which we dropped so for these attributes we also decided to drop those where missing values contains."
      ]
    },
    {
      "cell_type": "code",
      "metadata": {
        "id": "KnJ-RT33FWkP",
        "colab_type": "code",
        "colab": {}
      },
      "source": [
        "#dropping columns with large number of missing values\n",
        "diabetic = diabetic.drop(['weight','payer_code','medical_specialty'], axis = 1)"
      ],
      "execution_count": 0,
      "outputs": []
    },
    {
      "cell_type": "code",
      "metadata": {
        "id": "bx-uiA56M-ZF",
        "colab_type": "code",
        "colab": {}
      },
      "source": [
        "drop_Idx = set(diabetic[(diabetic['diag_1'] == '?') & (diabetic['diag_2'] == '?') & (diabetic['diag_3'] == '?')].index)\n",
        "\n",
        "drop_Idx = drop_Idx.union(set(diabetic['diag_1'][diabetic['diag_1'] == '?'].index))\n",
        "drop_Idx = drop_Idx.union(set(diabetic['diag_2'][diabetic['diag_2'] == '?'].index))\n",
        "drop_Idx = drop_Idx.union(set(diabetic['diag_3'][diabetic['diag_3'] == '?'].index))\n",
        "drop_Idx = drop_Idx.union(set(diabetic['race'][diabetic['race'] == '?'].index))\n",
        "#drop_Idx = drop_Idx.union(set(diabetic[diabetic['discharge_disposition_id'] == 11].index))\n",
        "drop_Idx = drop_Idx.union(set(diabetic['gender'][diabetic['gender'] == 'Unknown/Invalid'].index))\n",
        "new_Idx = list(set(diabetic.index) - set(drop_Idx))\n",
        "diabetic = diabetic.iloc[new_Idx]"
      ],
      "execution_count": 0,
      "outputs": []
    },
    {
      "cell_type": "markdown",
      "metadata": {
        "id": "ac8PN5iUcRVi",
        "colab_type": "text"
      },
      "source": [
        "variables (drugs named citoglipton and examide), all records have the same value. So essentially these cannot provide any interpretive or discriminatory information for predicting readmission so we decided to drop these two variables"
      ]
    },
    {
      "cell_type": "code",
      "metadata": {
        "id": "-lfhDl-zcSgE",
        "colab_type": "code",
        "colab": {}
      },
      "source": [
        "diabetic = diabetic.drop(['citoglipton', 'examide'], axis = 1)"
      ],
      "execution_count": 0,
      "outputs": []
    },
    {
      "cell_type": "code",
      "metadata": {
        "id": "0WuFio0MvJUX",
        "colab_type": "code",
        "outputId": "9e9485c7-a14e-4efe-90e7-41d84420e66a",
        "colab": {
          "base_uri": "https://localhost:8080/",
          "height": 578
        }
      },
      "source": [
        "#Checking for missing values in the data\n",
        "for col in diabetic.columns:\n",
        "    if diabetic[col].dtype == object:\n",
        "         print(col,diabetic[col][diabetic[col] == '?'].count())\n",
        "            \n",
        "print('gender', diabetic['gender'][diabetic['gender'] == 'Unknown/Invalid'].count())   "
      ],
      "execution_count": 0,
      "outputs": [
        {
          "output_type": "stream",
          "text": [
            "race 0\n",
            "gender 0\n",
            "age 0\n",
            "diag_1 0\n",
            "diag_2 0\n",
            "diag_3 0\n",
            "max_glu_serum 0\n",
            "A1Cresult 0\n",
            "metformin 0\n",
            "repaglinide 0\n",
            "nateglinide 0\n",
            "chlorpropamide 0\n",
            "glimepiride 0\n",
            "acetohexamide 0\n",
            "glipizide 0\n",
            "glyburide 0\n",
            "tolbutamide 0\n",
            "pioglitazone 0\n",
            "rosiglitazone 0\n",
            "acarbose 0\n",
            "miglitol 0\n",
            "troglitazone 0\n",
            "tolazamide 0\n",
            "insulin 0\n",
            "glyburide-metformin 0\n",
            "glipizide-metformin 0\n",
            "glimepiride-pioglitazone 0\n",
            "metformin-rosiglitazone 0\n",
            "metformin-pioglitazone 0\n",
            "change 0\n",
            "diabetesMed 0\n",
            "readmitted 0\n",
            "gender 0\n"
          ],
          "name": "stdout"
        }
      ]
    },
    {
      "cell_type": "markdown",
      "metadata": {
        "id": "UzGvnenDdNko",
        "colab_type": "text"
      },
      "source": [
        "Let's take a look at the unique values for each column."
      ]
    },
    {
      "cell_type": "code",
      "metadata": {
        "id": "MlZ_ryendOLQ",
        "colab_type": "code",
        "outputId": "420f09b9-a6f3-42e9-daa6-20cd6ff106db",
        "colab": {
          "base_uri": "https://localhost:8080/",
          "height": 1000
        }
      },
      "source": [
        "# for each column\n",
        "for c in list(diabetic.columns):\n",
        "    \n",
        "    # get a list of unique values\n",
        "    n = diabetic[c].unique()\n",
        "    \n",
        "    # if number of unique values is less than 30, print the values. Otherwise print the number of unique values\n",
        "    if len(n)<30:\n",
        "        print(c)\n",
        "        print(n)\n",
        "    else:\n",
        "        print(c + ': ' +str(len(n)) + ' unique values')"
      ],
      "execution_count": 0,
      "outputs": [
        {
          "output_type": "stream",
          "text": [
            "encounter_id: 98052 unique values\n",
            "patient_nbr: 68629 unique values\n",
            "race\n",
            "['Caucasian' 'AfricanAmerican' 'Other' 'Asian' 'Hispanic']\n",
            "gender\n",
            "['Female' 'Male']\n",
            "age\n",
            "['[10-20)' '[20-30)' '[30-40)' '[40-50)' '[50-60)' '[60-70)' '[70-80)'\n",
            " '[80-90)' '[90-100)' '[0-10)']\n",
            "admission_type_id\n",
            "[1 2 3 6 4 5 8 7]\n",
            "discharge_disposition_id\n",
            "[ 1  3  6  2  5 11  7 25 10  4 14 18  8 13 12 16 17 22 23  9 20 15 24 28\n",
            " 19 27]\n",
            "admission_source_id\n",
            "[ 7  2  4  1  5  6 20  3 17  8  9 14 10 22 11 25 13]\n",
            "time_in_hospital\n",
            "[ 3  2  1  4  5 13 12  9  7 10 11  6  8 14]\n",
            "num_lab_procedures: 118 unique values\n",
            "num_procedures\n",
            "[0 5 1 6 2 3 4]\n",
            "num_medications: 75 unique values\n",
            "number_outpatient: 39 unique values\n",
            "number_emergency: 33 unique values\n",
            "number_inpatient\n",
            "[ 0  1  2  3  6  5  4  7  8  9 15 10 11 14 12 13 16 21 18 19]\n",
            "diag_1: 713 unique values\n",
            "diag_2: 740 unique values\n",
            "diag_3: 786 unique values\n",
            "number_diagnoses\n",
            "[ 9  6  7  5  8  3  4 16 12 13 15 10 11 14]\n",
            "max_glu_serum\n",
            "['None' '>300' 'Norm' '>200']\n",
            "A1Cresult\n",
            "['None' '>7' '>8' 'Norm']\n",
            "metformin\n",
            "['No' 'Steady' 'Up' 'Down']\n",
            "repaglinide\n",
            "['No' 'Up' 'Steady' 'Down']\n",
            "nateglinide\n",
            "['No' 'Steady' 'Down' 'Up']\n",
            "chlorpropamide\n",
            "['No' 'Steady' 'Down' 'Up']\n",
            "glimepiride\n",
            "['No' 'Steady' 'Down' 'Up']\n",
            "acetohexamide\n",
            "['No' 'Steady']\n",
            "glipizide\n",
            "['No' 'Steady' 'Up' 'Down']\n",
            "glyburide\n",
            "['No' 'Steady' 'Up' 'Down']\n",
            "tolbutamide\n",
            "['No' 'Steady']\n",
            "pioglitazone\n",
            "['No' 'Steady' 'Up' 'Down']\n",
            "rosiglitazone\n",
            "['No' 'Steady' 'Up' 'Down']\n",
            "acarbose\n",
            "['No' 'Steady' 'Up' 'Down']\n",
            "miglitol\n",
            "['No' 'Steady' 'Down' 'Up']\n",
            "troglitazone\n",
            "['No' 'Steady']\n",
            "tolazamide\n",
            "['No' 'Steady' 'Up']\n",
            "insulin\n",
            "['Up' 'No' 'Steady' 'Down']\n",
            "glyburide-metformin\n",
            "['No' 'Steady' 'Down' 'Up']\n",
            "glipizide-metformin\n",
            "['No' 'Steady']\n",
            "glimepiride-pioglitazone\n",
            "['No' 'Steady']\n",
            "metformin-rosiglitazone\n",
            "['No']\n",
            "metformin-pioglitazone\n",
            "['No' 'Steady']\n",
            "change\n",
            "['Ch' 'No']\n",
            "diabetesMed\n",
            "['Yes' 'No']\n",
            "readmitted\n",
            "['>30' 'NO' '<30']\n"
          ],
          "name": "stdout"
        }
      ]
    },
    {
      "cell_type": "markdown",
      "metadata": {
        "id": "FnTio1cddyKa",
        "colab_type": "text"
      },
      "source": [
        "From analysis of the columns, we can see there are a mix of categorical (non-numeric) and numerical data. A few things to point out,\n",
        "\n",
        "- encounter_id and patient_nbr: these are just identifiers and not useful variables\n",
        "\n",
        "- admission_type_id,discharge_disposition_id,admission_source_id: are numerical here, but are IDs (see IDs_mapping). They should be considered categorical. \n",
        "\n",
        "- diag1, diag2, diag3 - are categorical and have a lot of values. We will not use these as part of this project, but you could group these ICD codes to reduce the dimension. We will use number_diagnoses to capture some of this information. \n"
      ]
    },
    {
      "cell_type": "markdown",
      "metadata": {
        "id": "dWeojbWzf2Y8",
        "colab_type": "text"
      },
      "source": [
        "\n",
        "# Categorical Features\n",
        "The next type of features we want to create are categorical variables. Categorical variables are non-numeric data such as race and gender. To turn these non-numerical data into variables, the simplest thing is to use a technique called one-hot encoding, which will be explained below.\n",
        "\n",
        "The first set of categorical data we will deal with are these columns:"
      ]
    },
    {
      "cell_type": "code",
      "metadata": {
        "id": "ZvpyrzMcgjOX",
        "colab_type": "code",
        "colab": {}
      },
      "source": [
        "cols_cat = ['race', 'gender']"
      ],
      "execution_count": 0,
      "outputs": []
    },
    {
      "cell_type": "markdown",
      "metadata": {
        "id": "jRyNzSZteyQu",
        "colab_type": "text"
      },
      "source": [
        "\n",
        "To convert our categorical features to numbers, we will use a technique called one-hot encoding. In one-hot encoding, you create a new column for each unique value in that column. Then the value of the column is 1 if the sample has that unique value or 0 otherwise. For example, for the column race, we would create new columns ('race_Caucasian','race_AfricanAmerican', etc). If the patient's race is Caucasian, the patient gets a 1 under 'race_Caucasian' and 0 under the rest of the race columns. To create these one-hot encoding columns, we can use the get_dummies function."
      ]
    },
    {
      "cell_type": "code",
      "metadata": {
        "id": "wJ0erfHhezS8",
        "colab_type": "code",
        "colab": {}
      },
      "source": [
        "cols_cat_num = ['admission_type_id', 'discharge_disposition_id', 'admission_source_id']\n",
        "\n",
        "diabetic[cols_cat_num] = diabetic[cols_cat_num].astype('str')"
      ],
      "execution_count": 0,
      "outputs": []
    },
    {
      "cell_type": "markdown",
      "metadata": {
        "id": "hLmIAmONfb4m",
        "colab_type": "text"
      },
      "source": [
        "Now we are ready to make all of our categorical features"
      ]
    },
    {
      "cell_type": "code",
      "metadata": {
        "id": "VyMMlMcMfe9r",
        "colab_type": "code",
        "colab": {}
      },
      "source": [
        "diabetic_cat = pd.get_dummies(diabetic[cols_cat + cols_cat_num ],drop_first = True)"
      ],
      "execution_count": 0,
      "outputs": []
    },
    {
      "cell_type": "code",
      "metadata": {
        "id": "Nmb2nRxO0CO-",
        "colab_type": "code",
        "outputId": "9de9dfa5-2576-44c1-ea1a-c595867ba5de",
        "colab": {
          "base_uri": "https://localhost:8080/",
          "height": 224
        }
      },
      "source": [
        "diabetic_cat.head()"
      ],
      "execution_count": 0,
      "outputs": [
        {
          "output_type": "execute_result",
          "data": {
            "text/html": [
              "<div>\n",
              "<style scoped>\n",
              "    .dataframe tbody tr th:only-of-type {\n",
              "        vertical-align: middle;\n",
              "    }\n",
              "\n",
              "    .dataframe tbody tr th {\n",
              "        vertical-align: top;\n",
              "    }\n",
              "\n",
              "    .dataframe thead th {\n",
              "        text-align: right;\n",
              "    }\n",
              "</style>\n",
              "<table border=\"1\" class=\"dataframe\">\n",
              "  <thead>\n",
              "    <tr style=\"text-align: right;\">\n",
              "      <th></th>\n",
              "      <th>race_Asian</th>\n",
              "      <th>race_Caucasian</th>\n",
              "      <th>race_Hispanic</th>\n",
              "      <th>race_Other</th>\n",
              "      <th>gender_Male</th>\n",
              "      <th>admission_type_id_2</th>\n",
              "      <th>admission_type_id_3</th>\n",
              "      <th>admission_type_id_4</th>\n",
              "      <th>admission_type_id_5</th>\n",
              "      <th>admission_type_id_6</th>\n",
              "      <th>admission_type_id_7</th>\n",
              "      <th>admission_type_id_8</th>\n",
              "      <th>discharge_disposition_id_10</th>\n",
              "      <th>discharge_disposition_id_11</th>\n",
              "      <th>discharge_disposition_id_12</th>\n",
              "      <th>discharge_disposition_id_13</th>\n",
              "      <th>discharge_disposition_id_14</th>\n",
              "      <th>discharge_disposition_id_15</th>\n",
              "      <th>discharge_disposition_id_16</th>\n",
              "      <th>discharge_disposition_id_17</th>\n",
              "      <th>discharge_disposition_id_18</th>\n",
              "      <th>discharge_disposition_id_19</th>\n",
              "      <th>discharge_disposition_id_2</th>\n",
              "      <th>discharge_disposition_id_20</th>\n",
              "      <th>discharge_disposition_id_22</th>\n",
              "      <th>discharge_disposition_id_23</th>\n",
              "      <th>discharge_disposition_id_24</th>\n",
              "      <th>discharge_disposition_id_25</th>\n",
              "      <th>discharge_disposition_id_27</th>\n",
              "      <th>discharge_disposition_id_28</th>\n",
              "      <th>discharge_disposition_id_3</th>\n",
              "      <th>discharge_disposition_id_4</th>\n",
              "      <th>discharge_disposition_id_5</th>\n",
              "      <th>discharge_disposition_id_6</th>\n",
              "      <th>discharge_disposition_id_7</th>\n",
              "      <th>discharge_disposition_id_8</th>\n",
              "      <th>discharge_disposition_id_9</th>\n",
              "      <th>admission_source_id_10</th>\n",
              "      <th>admission_source_id_11</th>\n",
              "      <th>admission_source_id_13</th>\n",
              "      <th>admission_source_id_14</th>\n",
              "      <th>admission_source_id_17</th>\n",
              "      <th>admission_source_id_2</th>\n",
              "      <th>admission_source_id_20</th>\n",
              "      <th>admission_source_id_22</th>\n",
              "      <th>admission_source_id_25</th>\n",
              "      <th>admission_source_id_3</th>\n",
              "      <th>admission_source_id_4</th>\n",
              "      <th>admission_source_id_5</th>\n",
              "      <th>admission_source_id_6</th>\n",
              "      <th>admission_source_id_7</th>\n",
              "      <th>admission_source_id_8</th>\n",
              "      <th>admission_source_id_9</th>\n",
              "    </tr>\n",
              "  </thead>\n",
              "  <tbody>\n",
              "    <tr>\n",
              "      <th>1</th>\n",
              "      <td>0</td>\n",
              "      <td>1</td>\n",
              "      <td>0</td>\n",
              "      <td>0</td>\n",
              "      <td>0</td>\n",
              "      <td>0</td>\n",
              "      <td>0</td>\n",
              "      <td>0</td>\n",
              "      <td>0</td>\n",
              "      <td>0</td>\n",
              "      <td>0</td>\n",
              "      <td>0</td>\n",
              "      <td>0</td>\n",
              "      <td>0</td>\n",
              "      <td>0</td>\n",
              "      <td>0</td>\n",
              "      <td>0</td>\n",
              "      <td>0</td>\n",
              "      <td>0</td>\n",
              "      <td>0</td>\n",
              "      <td>0</td>\n",
              "      <td>0</td>\n",
              "      <td>0</td>\n",
              "      <td>0</td>\n",
              "      <td>0</td>\n",
              "      <td>0</td>\n",
              "      <td>0</td>\n",
              "      <td>0</td>\n",
              "      <td>0</td>\n",
              "      <td>0</td>\n",
              "      <td>0</td>\n",
              "      <td>0</td>\n",
              "      <td>0</td>\n",
              "      <td>0</td>\n",
              "      <td>0</td>\n",
              "      <td>0</td>\n",
              "      <td>0</td>\n",
              "      <td>0</td>\n",
              "      <td>0</td>\n",
              "      <td>0</td>\n",
              "      <td>0</td>\n",
              "      <td>0</td>\n",
              "      <td>0</td>\n",
              "      <td>0</td>\n",
              "      <td>0</td>\n",
              "      <td>0</td>\n",
              "      <td>0</td>\n",
              "      <td>0</td>\n",
              "      <td>0</td>\n",
              "      <td>0</td>\n",
              "      <td>1</td>\n",
              "      <td>0</td>\n",
              "      <td>0</td>\n",
              "    </tr>\n",
              "    <tr>\n",
              "      <th>2</th>\n",
              "      <td>0</td>\n",
              "      <td>0</td>\n",
              "      <td>0</td>\n",
              "      <td>0</td>\n",
              "      <td>0</td>\n",
              "      <td>0</td>\n",
              "      <td>0</td>\n",
              "      <td>0</td>\n",
              "      <td>0</td>\n",
              "      <td>0</td>\n",
              "      <td>0</td>\n",
              "      <td>0</td>\n",
              "      <td>0</td>\n",
              "      <td>0</td>\n",
              "      <td>0</td>\n",
              "      <td>0</td>\n",
              "      <td>0</td>\n",
              "      <td>0</td>\n",
              "      <td>0</td>\n",
              "      <td>0</td>\n",
              "      <td>0</td>\n",
              "      <td>0</td>\n",
              "      <td>0</td>\n",
              "      <td>0</td>\n",
              "      <td>0</td>\n",
              "      <td>0</td>\n",
              "      <td>0</td>\n",
              "      <td>0</td>\n",
              "      <td>0</td>\n",
              "      <td>0</td>\n",
              "      <td>0</td>\n",
              "      <td>0</td>\n",
              "      <td>0</td>\n",
              "      <td>0</td>\n",
              "      <td>0</td>\n",
              "      <td>0</td>\n",
              "      <td>0</td>\n",
              "      <td>0</td>\n",
              "      <td>0</td>\n",
              "      <td>0</td>\n",
              "      <td>0</td>\n",
              "      <td>0</td>\n",
              "      <td>0</td>\n",
              "      <td>0</td>\n",
              "      <td>0</td>\n",
              "      <td>0</td>\n",
              "      <td>0</td>\n",
              "      <td>0</td>\n",
              "      <td>0</td>\n",
              "      <td>0</td>\n",
              "      <td>1</td>\n",
              "      <td>0</td>\n",
              "      <td>0</td>\n",
              "    </tr>\n",
              "    <tr>\n",
              "      <th>3</th>\n",
              "      <td>0</td>\n",
              "      <td>1</td>\n",
              "      <td>0</td>\n",
              "      <td>0</td>\n",
              "      <td>1</td>\n",
              "      <td>0</td>\n",
              "      <td>0</td>\n",
              "      <td>0</td>\n",
              "      <td>0</td>\n",
              "      <td>0</td>\n",
              "      <td>0</td>\n",
              "      <td>0</td>\n",
              "      <td>0</td>\n",
              "      <td>0</td>\n",
              "      <td>0</td>\n",
              "      <td>0</td>\n",
              "      <td>0</td>\n",
              "      <td>0</td>\n",
              "      <td>0</td>\n",
              "      <td>0</td>\n",
              "      <td>0</td>\n",
              "      <td>0</td>\n",
              "      <td>0</td>\n",
              "      <td>0</td>\n",
              "      <td>0</td>\n",
              "      <td>0</td>\n",
              "      <td>0</td>\n",
              "      <td>0</td>\n",
              "      <td>0</td>\n",
              "      <td>0</td>\n",
              "      <td>0</td>\n",
              "      <td>0</td>\n",
              "      <td>0</td>\n",
              "      <td>0</td>\n",
              "      <td>0</td>\n",
              "      <td>0</td>\n",
              "      <td>0</td>\n",
              "      <td>0</td>\n",
              "      <td>0</td>\n",
              "      <td>0</td>\n",
              "      <td>0</td>\n",
              "      <td>0</td>\n",
              "      <td>0</td>\n",
              "      <td>0</td>\n",
              "      <td>0</td>\n",
              "      <td>0</td>\n",
              "      <td>0</td>\n",
              "      <td>0</td>\n",
              "      <td>0</td>\n",
              "      <td>0</td>\n",
              "      <td>1</td>\n",
              "      <td>0</td>\n",
              "      <td>0</td>\n",
              "    </tr>\n",
              "    <tr>\n",
              "      <th>4</th>\n",
              "      <td>0</td>\n",
              "      <td>1</td>\n",
              "      <td>0</td>\n",
              "      <td>0</td>\n",
              "      <td>1</td>\n",
              "      <td>0</td>\n",
              "      <td>0</td>\n",
              "      <td>0</td>\n",
              "      <td>0</td>\n",
              "      <td>0</td>\n",
              "      <td>0</td>\n",
              "      <td>0</td>\n",
              "      <td>0</td>\n",
              "      <td>0</td>\n",
              "      <td>0</td>\n",
              "      <td>0</td>\n",
              "      <td>0</td>\n",
              "      <td>0</td>\n",
              "      <td>0</td>\n",
              "      <td>0</td>\n",
              "      <td>0</td>\n",
              "      <td>0</td>\n",
              "      <td>0</td>\n",
              "      <td>0</td>\n",
              "      <td>0</td>\n",
              "      <td>0</td>\n",
              "      <td>0</td>\n",
              "      <td>0</td>\n",
              "      <td>0</td>\n",
              "      <td>0</td>\n",
              "      <td>0</td>\n",
              "      <td>0</td>\n",
              "      <td>0</td>\n",
              "      <td>0</td>\n",
              "      <td>0</td>\n",
              "      <td>0</td>\n",
              "      <td>0</td>\n",
              "      <td>0</td>\n",
              "      <td>0</td>\n",
              "      <td>0</td>\n",
              "      <td>0</td>\n",
              "      <td>0</td>\n",
              "      <td>0</td>\n",
              "      <td>0</td>\n",
              "      <td>0</td>\n",
              "      <td>0</td>\n",
              "      <td>0</td>\n",
              "      <td>0</td>\n",
              "      <td>0</td>\n",
              "      <td>0</td>\n",
              "      <td>1</td>\n",
              "      <td>0</td>\n",
              "      <td>0</td>\n",
              "    </tr>\n",
              "    <tr>\n",
              "      <th>5</th>\n",
              "      <td>0</td>\n",
              "      <td>1</td>\n",
              "      <td>0</td>\n",
              "      <td>0</td>\n",
              "      <td>1</td>\n",
              "      <td>1</td>\n",
              "      <td>0</td>\n",
              "      <td>0</td>\n",
              "      <td>0</td>\n",
              "      <td>0</td>\n",
              "      <td>0</td>\n",
              "      <td>0</td>\n",
              "      <td>0</td>\n",
              "      <td>0</td>\n",
              "      <td>0</td>\n",
              "      <td>0</td>\n",
              "      <td>0</td>\n",
              "      <td>0</td>\n",
              "      <td>0</td>\n",
              "      <td>0</td>\n",
              "      <td>0</td>\n",
              "      <td>0</td>\n",
              "      <td>0</td>\n",
              "      <td>0</td>\n",
              "      <td>0</td>\n",
              "      <td>0</td>\n",
              "      <td>0</td>\n",
              "      <td>0</td>\n",
              "      <td>0</td>\n",
              "      <td>0</td>\n",
              "      <td>0</td>\n",
              "      <td>0</td>\n",
              "      <td>0</td>\n",
              "      <td>0</td>\n",
              "      <td>0</td>\n",
              "      <td>0</td>\n",
              "      <td>0</td>\n",
              "      <td>0</td>\n",
              "      <td>0</td>\n",
              "      <td>0</td>\n",
              "      <td>0</td>\n",
              "      <td>0</td>\n",
              "      <td>1</td>\n",
              "      <td>0</td>\n",
              "      <td>0</td>\n",
              "      <td>0</td>\n",
              "      <td>0</td>\n",
              "      <td>0</td>\n",
              "      <td>0</td>\n",
              "      <td>0</td>\n",
              "      <td>0</td>\n",
              "      <td>0</td>\n",
              "      <td>0</td>\n",
              "    </tr>\n",
              "  </tbody>\n",
              "</table>\n",
              "</div>"
            ],
            "text/plain": [
              "   race_Asian  race_Caucasian  ...  admission_source_id_8  admission_source_id_9\n",
              "1           0               1  ...                      0                      0\n",
              "2           0               0  ...                      0                      0\n",
              "3           0               1  ...                      0                      0\n",
              "4           0               1  ...                      0                      0\n",
              "5           0               1  ...                      0                      0\n",
              "\n",
              "[5 rows x 53 columns]"
            ]
          },
          "metadata": {
            "tags": []
          },
          "execution_count": 17
        }
      ]
    },
    {
      "cell_type": "markdown",
      "metadata": {
        "id": "7p99SEXGjHZF",
        "colab_type": "text"
      },
      "source": [
        "To add the one-hot encoding columns to the dataframe we can use concat function. Make sure to use axis = 1 to indicate add the columns."
      ]
    },
    {
      "cell_type": "code",
      "metadata": {
        "id": "hoJvzzbqjM18",
        "colab_type": "code",
        "colab": {}
      },
      "source": [
        "diabetic = pd.concat([diabetic,diabetic_cat], axis = 1)"
      ],
      "execution_count": 0,
      "outputs": []
    },
    {
      "cell_type": "markdown",
      "metadata": {
        "id": "nFr9cBwUjdpd",
        "colab_type": "text"
      },
      "source": [
        "Save the column names of the categorical data."
      ]
    },
    {
      "cell_type": "code",
      "metadata": {
        "id": "TGYJdzYCjjZt",
        "colab_type": "code",
        "colab": {}
      },
      "source": [
        "cols_all_cat = list(diabetic_cat.columns)"
      ],
      "execution_count": 0,
      "outputs": []
    },
    {
      "cell_type": "markdown",
      "metadata": {
        "id": "WyYsCBVL0Hq6",
        "colab_type": "text"
      },
      "source": [
        "Number of medication changes: The dataset contains 23 features for 23 drugs (or combos) which indicate for each of these, whether a change in that medication was made or not during the current hospital stay of patient. Medication change for diabetics upon admission has been shown by previous research to be associated with lower readmission rates. We decided to count how many changes were made in total for each patient, and declared that a new feature. The reasoning here was to both simplify the model and possibly discover a relationship with number of changes regardless of which drug was changed."
      ]
    },
    {
      "cell_type": "code",
      "metadata": {
        "id": "ov6Y61sw0ISc",
        "colab_type": "code",
        "colab": {}
      },
      "source": [
        "keys = ['metformin', 'repaglinide', 'nateglinide', 'chlorpropamide', 'glimepiride', 'glipizide', 'glyburide', 'pioglitazone', 'rosiglitazone', 'acarbose', 'miglitol', 'insulin', 'glyburide-metformin', 'tolazamide', 'metformin-pioglitazone','metformin-rosiglitazone', 'glimepiride-pioglitazone', 'glipizide-metformin', 'troglitazone', 'tolbutamide', 'acetohexamide']\n",
        "# keys is the same as before\n",
        "for col in keys:\n",
        "    diabetic[col] = diabetic[col].replace('No', 0)\n",
        "    diabetic[col] = diabetic[col].replace('Steady', 1)\n",
        "    diabetic[col] = diabetic[col].replace('Up', 2)\n",
        "    diabetic[col] = diabetic[col].replace('Down', 3)"
      ],
      "execution_count": 0,
      "outputs": []
    },
    {
      "cell_type": "markdown",
      "metadata": {
        "id": "Fp-iefet0bOA",
        "colab_type": "text"
      },
      "source": [
        "Encoding some variables: The original dataset used string values for gender, race, medication change, and each of the 23 drugs used. To better fit those variables into our model, we interpret the variables to numeric binary variables to reflect their nature. For example, we encoded the “ medication change ” feature from “No” (no change) and “Ch” (changed) into 0 and 1."
      ]
    },
    {
      "cell_type": "code",
      "metadata": {
        "id": "mCO96KBJ0gTI",
        "colab_type": "code",
        "colab": {}
      },
      "source": [
        "diabetic['change'] = diabetic['change'].replace('Ch', 1)\n",
        "diabetic['change'] = diabetic['change'].replace('No', 0)\n",
        "diabetic['diabetesMed'] = diabetic['diabetesMed'].replace('Yes', 1)\n",
        "diabetic['diabetesMed'] = diabetic['diabetesMed'].replace('No', 0)\n"
      ],
      "execution_count": 0,
      "outputs": []
    },
    {
      "cell_type": "markdown",
      "metadata": {
        "id": "3H5Sm0nC0yAW",
        "colab_type": "text"
      },
      "source": [
        "We also reduced both A1C test result and Glucose serum test result into categories of Normal, Abnormal and Not tested."
      ]
    },
    {
      "cell_type": "code",
      "metadata": {
        "id": "cnm28ymO0z8M",
        "colab_type": "code",
        "colab": {}
      },
      "source": [
        "diabetic['A1Cresult'] = diabetic['A1Cresult'].replace('>7', 1)\n",
        "diabetic['A1Cresult'] = diabetic['A1Cresult'].replace('>8', 1)\n",
        "diabetic['A1Cresult'] = diabetic['A1Cresult'].replace('Norm', 0)\n",
        "diabetic['A1Cresult'] = diabetic['A1Cresult'].replace('None', 2)\n",
        "diabetic['max_glu_serum'] = diabetic['max_glu_serum'].replace('>200', 1)\n",
        "diabetic['max_glu_serum'] = diabetic['max_glu_serum'].replace('>300', 1)\n",
        "diabetic['max_glu_serum'] = diabetic['max_glu_serum'].replace('Norm', 0)\n",
        "diabetic['max_glu_serum'] = diabetic['max_glu_serum'].replace('None', 2)"
      ],
      "execution_count": 0,
      "outputs": []
    },
    {
      "cell_type": "markdown",
      "metadata": {
        "id": "e59QanhA02U9",
        "colab_type": "text"
      },
      "source": [
        "Dealing with age: There are different ways to deal with this. The dataset only gives us age as 10 year categories, so we don’t know the exact age of each patient. The previous study on this dataset used age categories as nominal variables, but we wanted to be able to see the effect of increasing age on readmission, even if in a crude way. To do that, we assume that age of the patient on average lies at the midpoint of the age category. For example, if the patient’s age category is 20–30 years, then we assume the age = 25 years. So we converted age categories to midpoints, resulting in a numeric variable:"
      ]
    },
    {
      "cell_type": "code",
      "metadata": {
        "id": "BRgy3oar05DB",
        "colab_type": "code",
        "outputId": "dbf9e47f-13bc-4c7f-df5e-ad3890ef9e4f",
        "colab": {
          "base_uri": "https://localhost:8080/",
          "height": 204
        }
      },
      "source": [
        "# code age intervals [0-10) - [90-100) from 1-10\n",
        "for i in range(0,10):\n",
        "    diabetic['age'] = diabetic['age'].replace('['+str(10*i)+'-'+str(10*(i+1))+')', i+1)\n",
        "diabetic['age'].value_counts()"
      ],
      "execution_count": 0,
      "outputs": [
        {
          "output_type": "execute_result",
          "data": {
            "text/plain": [
              "8     25305\n",
              "7     21809\n",
              "9     16702\n",
              "6     16697\n",
              "5      9265\n",
              "4      3548\n",
              "10     2717\n",
              "3      1478\n",
              "2       466\n",
              "1        65\n",
              "Name: age, dtype: int64"
            ]
          },
          "metadata": {
            "tags": []
          },
          "execution_count": 23
        }
      ]
    },
    {
      "cell_type": "code",
      "metadata": {
        "id": "2Z7PLYMIBVAi",
        "colab_type": "code",
        "colab": {}
      },
      "source": [
        "diabetic['diag_1'] = diabetic['diag_1'].str.replace('V', '')\n",
        "diabetic['diag_2'] = diabetic['diag_2'].str.replace('V', '')\n",
        "diabetic['diag_3'] = diabetic['diag_3'].str.replace('V', '')\n",
        "diabetic['diag_1'] = diabetic['diag_1'].str.replace('E', '')\n",
        "diabetic['diag_2'] = diabetic['diag_2'].str.replace('E', '')\n",
        "diabetic['diag_3'] = diabetic['diag_3'].str.replace('E', '')\n",
        "diabetic['diag_1'] = diabetic['diag_1'].astype(float)\n",
        "diabetic['diag_2'] = diabetic['diag_2'].astype(float)\n",
        "diabetic['diag_3'] = diabetic['diag_3'].astype(float)"
      ],
      "execution_count": 0,
      "outputs": []
    },
    {
      "cell_type": "markdown",
      "metadata": {
        "id": "OkeLq3Rm14Aj",
        "colab_type": "text"
      },
      "source": [
        "Collapsing of Multiple Encounters for same patient Some patients in the dataset had more than one encounter.We could not count them as independent encounters because that bias the results towards those patients who had multiple encounters. Thus we tried multiple techniques to collapse and consolidate multiple encounters for same patient such as:\n",
        "\n",
        "Considering more than 2 readmissions across multiple encounters as readmission for collapsed record.\n",
        "Considering average stay at hospital across multiple encounters.\n",
        "Considering the percentage of the medication changes across multiple encounters\n",
        "Considering the total number of the encounters to replace the encounter unique ID\n",
        "Considering the combination of diagnoses across multiple encounters as a list However, taking the features such as “diagnosis”, for instance, we did not find it not meaningful to combine multiple categorical values into an array for building data model. We then considered first encounter and last encounter separately as possible representations of multiple encounters. However, last encounters gave extremely imbalanced data for readmissions (96/4 Readmissions vs No Readmissions) and thus, we decided to use first encounters of patients with multiple encounters. This resulted in dataset being reduced to about 70,000 encounters:"
      ]
    },
    {
      "cell_type": "code",
      "metadata": {
        "id": "5a2EMDzw15Al",
        "colab_type": "code",
        "outputId": "8d300bd9-a7ff-4e22-889e-3172a0c61c27",
        "colab": {
          "base_uri": "https://localhost:8080/",
          "height": 34
        }
      },
      "source": [
        "diabetic = diabetic.drop_duplicates(subset= ['patient_nbr'], keep = 'first')\n",
        "diabetic.shape\n"
      ],
      "execution_count": 0,
      "outputs": [
        {
          "output_type": "execute_result",
          "data": {
            "text/plain": [
              "(68629, 98)"
            ]
          },
          "metadata": {
            "tags": []
          },
          "execution_count": 25
        }
      ]
    },
    {
      "cell_type": "markdown",
      "metadata": {
        "id": "X3L0G-zW2w32",
        "colab_type": "text"
      },
      "source": [
        "Encoding the outcome variable: The outcome we are looking at is whether the patient gets readmitted to the hospital within 30 days or not. The variable actually has < 30, > 30 and No Readmission categories. To reduce our problem to a binary classification, we combined the readmission after 30 days and no readmission into a single category:"
      ]
    },
    {
      "cell_type": "code",
      "metadata": {
        "id": "2etpK3Xr2xbo",
        "colab_type": "code",
        "outputId": "cf3ebf51-91f5-4f6a-ce02-4623dcd7c12e",
        "colab": {
          "base_uri": "https://localhost:8080/",
          "height": 85
        }
      },
      "source": [
        "diabetic['readmitted'].value_counts()"
      ],
      "execution_count": 0,
      "outputs": [
        {
          "output_type": "execute_result",
          "data": {
            "text/plain": [
              "NO     40879\n",
              ">30    21624\n",
              "<30     6126\n",
              "Name: readmitted, dtype: int64"
            ]
          },
          "metadata": {
            "tags": []
          },
          "execution_count": 26
        }
      ]
    },
    {
      "cell_type": "markdown",
      "metadata": {
        "id": "E77izM4WAPKz",
        "colab_type": "text"
      },
      "source": [
        "Now let's define an output variable for our binary classification. Here we will try to predict if a patient is likely to be re-admitted within 30 days of discharge."
      ]
    },
    {
      "cell_type": "code",
      "metadata": {
        "id": "O1lND1V6AQBN",
        "colab_type": "code",
        "colab": {}
      },
      "source": [
        "diabetic['OUTPUT_LABEL'] = (diabetic.readmitted == '<30').astype('int')"
      ],
      "execution_count": 0,
      "outputs": []
    },
    {
      "cell_type": "markdown",
      "metadata": {
        "id": "x65kCxYfAk3X",
        "colab_type": "text"
      },
      "source": [
        "Let's define a function to calculate the prevalence of population that is readmitted with 30 days."
      ]
    },
    {
      "cell_type": "code",
      "metadata": {
        "id": "HJjA4imtAdcv",
        "colab_type": "code",
        "outputId": "9ed6db2c-9cd3-4246-9bce-6b248d03bf97",
        "colab": {
          "base_uri": "https://localhost:8080/",
          "height": 34
        }
      },
      "source": [
        "def calc_prevalence(y_actual):\n",
        "    return (sum(y_actual)/len(y_actual))\n",
        "\n",
        "print('Prevalence:%.3f'%calc_prevalence(diabetic['OUTPUT_LABEL'].values))"
      ],
      "execution_count": 0,
      "outputs": [
        {
          "output_type": "stream",
          "text": [
            "Prevalence:0.089\n"
          ],
          "name": "stdout"
        }
      ]
    },
    {
      "cell_type": "markdown",
      "metadata": {
        "id": "U_CyQ_iUAmCe",
        "colab_type": "text"
      },
      "source": [
        "\n",
        "Around 9% of the population is rehospitalized. This represented an imbalanced classification problem so we will address that below"
      ]
    },
    {
      "cell_type": "markdown",
      "metadata": {
        "id": "hRCdwFpa5MNl",
        "colab_type": "text"
      },
      "source": [
        "# Data Visualization\n",
        "**Distribution of Readmission**\n",
        "**Our target variable is imbalance. Number of readmitted patient are quite less as compared to Not readmitted**"
      ]
    },
    {
      "cell_type": "code",
      "metadata": {
        "id": "VfqHOYJE5kNq",
        "colab_type": "code",
        "outputId": "11a293aa-368d-4b6c-feae-93b57a968450",
        "colab": {
          "base_uri": "https://localhost:8080/",
          "height": 319
        }
      },
      "source": [
        "# Distribution of Readmission \n",
        "sns.countplot(diabetic['OUTPUT_LABEL']).set_title('Distrinution of Readmission')"
      ],
      "execution_count": 0,
      "outputs": [
        {
          "output_type": "execute_result",
          "data": {
            "text/plain": [
              "Text(0.5, 1.0, 'Distrinution of Readmission')"
            ]
          },
          "metadata": {
            "tags": []
          },
          "execution_count": 190
        },
        {
          "output_type": "display_data",
          "data": {
            "image/png": "[encoded data removed]",
            "text/plain": [
              "<Figure size 432x288 with 1 Axes>"
            ]
          },
          "metadata": {
            "tags": []
          }
        }
      ]
    },
    {
      "cell_type": "markdown",
      "metadata": {
        "id": "WCy-C5eIKMkU",
        "colab_type": "text"
      },
      "source": [
        "Time in Hospital and Readmission"
      ]
    },
    {
      "cell_type": "code",
      "metadata": {
        "id": "Mq8aVEB45xyF",
        "colab_type": "code",
        "outputId": "5c54dfcc-7cc5-44d4-8aaf-fa635b3cf80b",
        "colab": {
          "base_uri": "https://localhost:8080/",
          "height": 482
        }
      },
      "source": [
        "fig = plt.figure(figsize=(13,7),)\n",
        "ax=sns.kdeplot(diabetic.loc[(diabetic['OUTPUT_LABEL'] == 0),'time_in_hospital'] , color='b',shade=True,label='Not Readmitted')\n",
        "ax=sns.kdeplot(diabetic.loc[(diabetic['OUTPUT_LABEL'] == 1),'time_in_hospital'] , color='r',shade=True, label='Readmitted')\n",
        "ax.set(xlabel='Time in Hospital', ylabel='Frequency')\n",
        "plt.title('Time in Hospital VS. Readmission')"
      ],
      "execution_count": 0,
      "outputs": [
        {
          "output_type": "execute_result",
          "data": {
            "text/plain": [
              "Text(0.5, 1.0, 'Time in Hospital VS. Readmission')"
            ]
          },
          "metadata": {
            "tags": []
          },
          "execution_count": 191
        },
        {
          "output_type": "display_data",
          "data": {
            "image/png": "[encoded data removed]",
            "text/plain": [
              "<Figure size 936x504 with 1 Axes>"
            ]
          },
          "metadata": {
            "tags": []
          }
        }
      ]
    },
    {
      "cell_type": "markdown",
      "metadata": {
        "id": "6xSmu2vrKSDb",
        "colab_type": "text"
      },
      "source": [
        "Age and Readmission"
      ]
    },
    {
      "cell_type": "code",
      "metadata": {
        "id": "MKaMw_FW59sv",
        "colab_type": "code",
        "outputId": "4d31f5bb-88b0-4039-aaed-7ff368143dc5",
        "colab": {
          "base_uri": "https://localhost:8080/",
          "height": 646
        }
      },
      "source": [
        "fig = plt.figure(figsize=(15,10))\n",
        "sns.countplot(y= diabetic['age'], hue = diabetic['OUTPUT_LABEL']).set_title('Age of Patient VS. Readmission')"
      ],
      "execution_count": 0,
      "outputs": [
        {
          "output_type": "execute_result",
          "data": {
            "text/plain": [
              "Text(0.5, 1.0, 'Age of Patient VS. Readmission')"
            ]
          },
          "metadata": {
            "tags": []
          },
          "execution_count": 192
        },
        {
          "output_type": "display_data",
          "data": {
            "image/png": "[encoded data removed]",
            "text/plain": [
              "<Figure size 1080x720 with 1 Axes>"
            ]
          },
          "metadata": {
            "tags": []
          }
        }
      ]
    },
    {
      "cell_type": "code",
      "metadata": {
        "id": "Kwc0Px3vHiDY",
        "colab_type": "code",
        "outputId": "b2b43204-2d82-4c53-d33c-8f258e645f0f",
        "colab": {
          "base_uri": "https://localhost:8080/",
          "height": 221
        }
      },
      "source": [
        "corr_matrix = diabetic.corr()\n",
        "corr_matrix[\"OUTPUT_LABEL\"].sort_values(ascending=False)"
      ],
      "execution_count": 0,
      "outputs": [
        {
          "output_type": "execute_result",
          "data": {
            "text/plain": [
              "OUTPUT_LABEL                   1.000000\n",
              "number_inpatient               0.099698\n",
              "discharge_disposition_id_22    0.088348\n",
              "discharge_disposition_id_3     0.057535\n",
              "time_in_hospital               0.052030\n",
              "                                 ...   \n",
              "diag_1                        -0.015372\n",
              "discharge_disposition_id_11   -0.039080\n",
              "encounter_id                  -0.048829\n",
              "glimepiride-pioglitazone            NaN\n",
              "metformin-rosiglitazone             NaN\n",
              "Name: OUTPUT_LABEL, Length: 93, dtype: float64"
            ]
          },
          "metadata": {
            "tags": []
          },
          "execution_count": 29
        }
      ]
    },
    {
      "cell_type": "markdown",
      "metadata": {
        "id": "dkMO_woRvlNq",
        "colab_type": "text"
      },
      "source": [
        "# model\n",
        "We will utilize the following functions to evaluate the performance of the model."
      ]
    },
    {
      "cell_type": "code",
      "metadata": {
        "id": "FC10GWFOZ0t7",
        "colab_type": "code",
        "colab": {}
      },
      "source": [
        "from sklearn.metrics import roc_auc_score, accuracy_score, precision_score, recall_score\n",
        "\n",
        "def print_report(y_actual, y_pred, thresh):\n",
        "    \n",
        "    auc = roc_auc_score(y_actual, y_pred)\n",
        "    accuracy = accuracy_score(y_actual, (y_pred > thresh))\n",
        "    recall = recall_score(y_actual, (y_pred > thresh))\n",
        "    precision = precision_score(y_actual, (y_pred > thresh))\n",
        "    #specificity = calc_specificity(y_actual, y_pred, thresh)\n",
        "    print('AUC:%.3f'%auc)\n",
        "    print('accuracy:%.3f'%accuracy)\n",
        "    print('recall:%.3f'%recall)\n",
        "    print('precision:%.3f'%precision)\n",
        "    print(' ')\n",
        "    return auc, accuracy, recall, precision"
      ],
      "execution_count": 0,
      "outputs": []
    },
    {
      "cell_type": "markdown",
      "metadata": {
        "id": "eu8u11OyZ6Y7",
        "colab_type": "text"
      },
      "source": [
        "\n",
        "Since we balanced our training data, let's set our threshold at 0.5 to label a predicted sample as positive."
      ]
    },
    {
      "cell_type": "code",
      "metadata": {
        "id": "vAi-OuAdZ4_8",
        "colab_type": "code",
        "colab": {}
      },
      "source": [
        "thresh = 0.5"
      ],
      "execution_count": 0,
      "outputs": []
    },
    {
      "cell_type": "code",
      "metadata": {
        "id": "t5GeufkXvmae",
        "colab_type": "code",
        "colab": {}
      },
      "source": [
        "feature = ['age', 'race_Asian',\t'race_Caucasian',\t'race_Hispanic','race_Other',\t'gender_Male','admission_type_id_2','admission_type_id_3','admission_type_id_4','admission_type_id_5','admission_type_id_6','admission_type_id_7','admission_type_id_8','discharge_disposition_id_10','discharge_disposition_id_11','discharge_disposition_id_12','discharge_disposition_id_13','discharge_disposition_id_14','discharge_disposition_id_15','discharge_disposition_id_16','discharge_disposition_id_17','discharge_disposition_id_18','discharge_disposition_id_19','discharge_disposition_id_2','discharge_disposition_id_20','discharge_disposition_id_22','discharge_disposition_id_23','discharge_disposition_id_24','discharge_disposition_id_25','discharge_disposition_id_27','discharge_disposition_id_28','discharge_disposition_id_3','discharge_disposition_id_4','discharge_disposition_id_5','discharge_disposition_id_6','discharge_disposition_id_7','discharge_disposition_id_8','discharge_disposition_id_9','admission_source_id_10','admission_source_id_11','admission_source_id_13','admission_source_id_14','admission_source_id_17','admission_source_id_2','admission_source_id_20','admission_source_id_22','admission_source_id_25','admission_source_id_3','admission_source_id_4','admission_source_id_5',\t'admission_source_id_6',\t'admission_source_id_7',\t'admission_source_id_8','admission_source_id_9','time_in_hospital', 'num_lab_procedures','num_procedures', 'num_medications', 'number_outpatient', \n",
        "                 'number_emergency', 'number_inpatient', 'number_diagnoses', \n",
        "                 'metformin', 'repaglinide', 'nateglinide', 'chlorpropamide', 'glimepiride', 'glipizide', 'glyburide', 'pioglitazone', 'rosiglitazone', 'acarbose', 'miglitol', 'insulin', 'glyburide-metformin', 'tolazamide', 'metformin-pioglitazone','metformin-rosiglitazone', 'glimepiride-pioglitazone', 'glipizide-metformin', 'troglitazone', 'tolbutamide', 'acetohexamide',\n",
        "                  'max_glu_serum', 'A1Cresult', 'diag_1','diag_2','diag_3']"
      ],
      "execution_count": 0,
      "outputs": []
    },
    {
      "cell_type": "markdown",
      "metadata": {
        "id": "4F5Y6cOoxA7D",
        "colab_type": "text"
      },
      "source": [
        "**Random Forest**"
      ]
    },
    {
      "cell_type": "code",
      "metadata": {
        "id": "d3j7K96Iw216",
        "colab_type": "code",
        "outputId": "937e50aa-ebf4-4534-8c2e-17d8985c88f7",
        "colab": {
          "base_uri": "https://localhost:8080/",
          "height": 34
        }
      },
      "source": [
        "X = diabetic[feature]\n",
        "y = diabetic['OUTPUT_LABEL']\n",
        "all = pd.concat([X, y], axis=1) \n",
        "# shuffle the samples\n",
        "all = all.sample(n = len(all), random_state = 42)\n",
        "all = all.reset_index(drop = True)\n",
        "# Save 30% of the data as validation and test data \n",
        "df_valid_test=all.sample(frac=0.30,random_state=42)\n",
        "print('Split size: %.3f'%(len(df_valid_test)/len(all)))\n",
        "df_test = df_valid_test.sample(frac = 0.5, random_state = 42)\n",
        "df_valid = df_valid_test.drop(df_test.index)\n",
        "#use the rest of the data as training data\n",
        "df_train_all=all.drop(df_valid_test.index)\n",
        "#X_train, X_test, y_train, y_test = train_test_split(X, y, test_size=0.20)\n"
      ],
      "execution_count": 0,
      "outputs": [
        {
          "output_type": "stream",
          "text": [
            "Split size: 0.300\n"
          ],
          "name": "stdout"
        }
      ]
    },
    {
      "cell_type": "code",
      "metadata": {
        "id": "RE0bFerKP4YL",
        "colab_type": "code",
        "outputId": "09fa6172-f823-4f7a-86e8-9ed70213a63e",
        "colab": {
          "base_uri": "https://localhost:8080/",
          "height": 34
        }
      },
      "source": [
        "# split the training data into positive and negative\n",
        "rows_pos = all.OUTPUT_LABEL == 1\n",
        "X_train_pos = all.loc[rows_pos]\n",
        "X_train_neg =all.loc[~rows_pos]\n",
        "\n",
        "# merge the balanced data\n",
        "df_train = pd.concat([X_train_pos, X_train_neg.sample(n = len(X_train_pos), random_state = 42)],axis = 0)\n",
        "\n",
        "# shuffle the order of training samples \n",
        "X_train = df_train.sample(n = len(df_train), random_state = 42).reset_index(drop = True)\n",
        "\n",
        "print('Train balanced prevalence(n = %d):%.3f'%(len(X_train), calc_prevalence(df_train.OUTPUT_LABEL.values)))"
      ],
      "execution_count": 0,
      "outputs": [
        {
          "output_type": "stream",
          "text": [
            "Train balanced prevalence(n = 12252):0.500\n"
          ],
          "name": "stdout"
        }
      ]
    },
    {
      "cell_type": "code",
      "metadata": {
        "id": "NS_qBM8LFsyn",
        "colab_type": "code",
        "outputId": "87236908-4615-483c-9a2e-76a537603a80",
        "colab": {
          "base_uri": "https://localhost:8080/",
          "height": 68
        }
      },
      "source": [
        "X_train = df_train[feature].values\n",
        "X_train_all = df_train_all[feature].values\n",
        "X_valid = df_valid[feature].values\n",
        "\n",
        "y_train = df_train['OUTPUT_LABEL'].values\n",
        "y_valid = df_valid['OUTPUT_LABEL'].values\n",
        "\n",
        "print('Training All shapes:',X_train_all.shape)\n",
        "print('Training shapes:',X_train.shape, y_train.shape)\n",
        "print('Validation shapes:',X_valid.shape, y_valid.shape)"
      ],
      "execution_count": 0,
      "outputs": [
        {
          "output_type": "stream",
          "text": [
            "Training All shapes: (48040, 88)\n",
            "Training shapes: (12252, 88) (12252,)\n",
            "Validation shapes: (10295, 88) (10295,)\n"
          ],
          "name": "stdout"
        }
      ]
    },
    {
      "cell_type": "code",
      "metadata": {
        "id": "AEoteBzLjvKA",
        "colab_type": "code",
        "colab": {}
      },
      "source": [
        "from sklearn.preprocessing import StandardScaler\n",
        "scaler = StandardScaler()\n",
        "scaler.fit_transform(X_train_all)\n",
        "X_train_sc= scaler.fit_transform(X_train)\n",
        "X_valid_sc= scaler.fit_transform(X_valid)"
      ],
      "execution_count": 0,
      "outputs": []
    },
    {
      "cell_type": "code",
      "metadata": {
        "id": "prbCAVgDVpAC",
        "colab_type": "code",
        "outputId": "5f85019b-653e-46d4-9442-48a59a9b3484",
        "colab": {
          "base_uri": "https://localhost:8080/",
          "height": 122
        }
      },
      "source": [
        "from sklearn import svm\n",
        "clf=svm.LinearSVC(C=1,loss=\"hinge\")\n",
        "clf.fit(X_train_sc,y_train)"
      ],
      "execution_count": 0,
      "outputs": [
        {
          "output_type": "stream",
          "text": [
            "/usr/local/lib/python3.6/dist-packages/sklearn/svm/_base.py:947: ConvergenceWarning: Liblinear failed to converge, increase the number of iterations.\n",
            "  \"the number of iterations.\", ConvergenceWarning)\n"
          ],
          "name": "stderr"
        },
        {
          "output_type": "execute_result",
          "data": {
            "text/plain": [
              "LinearSVC(C=1, class_weight=None, dual=True, fit_intercept=True,\n",
              "          intercept_scaling=1, loss='hinge', max_iter=1000, multi_class='ovr',\n",
              "          penalty='l2', random_state=None, tol=0.0001, verbose=0)"
            ]
          },
          "metadata": {
            "tags": []
          },
          "execution_count": 51
        }
      ]
    },
    {
      "cell_type": "code",
      "metadata": {
        "id": "pswa4NiyWBEw",
        "colab_type": "code",
        "outputId": "f3e639a7-dc06-473d-dced-c39ee8a29065",
        "colab": {
          "base_uri": "https://localhost:8080/",
          "height": 238
        }
      },
      "source": [
        "y_train_preds = clf._predict_proba_lr(X_train_sc)[:,1]\n",
        "y_valid_preds = clf._predict_proba_lr(X_valid_sc)[:,1]\n",
        "\n",
        "print('LinearSVC')\n",
        "print('Training:')\n",
        "sv_train_auc, sv_train_accuracy, sv_train_recall, sv_train_precision =print_report(y_train,y_train_preds, thresh)\n",
        "print('Validation:')\n",
        "sv_valid_auc, sv_valid_accuracy, sv_valid_recall, sv_valid_precision= print_report(y_valid,y_valid_preds, thresh)"
      ],
      "execution_count": 0,
      "outputs": [
        {
          "output_type": "stream",
          "text": [
            "LinearSVC\n",
            "Training:\n",
            "AUC:0.622\n",
            "accuracy:0.598\n",
            "recall:0.433\n",
            "precision:0.646\n",
            " \n",
            "Validation:\n",
            "AUC:0.641\n",
            "accuracy:0.699\n",
            "recall:0.511\n",
            "precision:0.145\n",
            " \n"
          ],
          "name": "stdout"
        }
      ]
    },
    {
      "cell_type": "code",
      "metadata": {
        "id": "4mqJDVbSY2Z9",
        "colab_type": "code",
        "outputId": "4930ae64-e63d-4ba7-8a55-da98bcb8bda1",
        "colab": {
          "base_uri": "https://localhost:8080/",
          "height": 119
        }
      },
      "source": [
        "from sklearn.linear_model import SGDClassifier\n",
        "sgdc=SGDClassifier(loss = 'log',alpha = 0.1,random_state = 42)\n",
        "sgdc.fit(X_train_sc, y_train)"
      ],
      "execution_count": 0,
      "outputs": [
        {
          "output_type": "execute_result",
          "data": {
            "text/plain": [
              "SGDClassifier(alpha=0.1, average=False, class_weight=None, early_stopping=False,\n",
              "              epsilon=0.1, eta0=0.0, fit_intercept=True, l1_ratio=0.15,\n",
              "              learning_rate='optimal', loss='log', max_iter=1000,\n",
              "              n_iter_no_change=5, n_jobs=None, penalty='l2', power_t=0.5,\n",
              "              random_state=42, shuffle=True, tol=0.001, validation_fraction=0.1,\n",
              "              verbose=0, warm_start=False)"
            ]
          },
          "metadata": {
            "tags": []
          },
          "execution_count": 41
        }
      ]
    },
    {
      "cell_type": "code",
      "metadata": {
        "id": "QQpTXAm8Y600",
        "colab_type": "code",
        "outputId": "928bd1cc-11cc-4150-9d15-b4ed1f7410df",
        "colab": {
          "base_uri": "https://localhost:8080/",
          "height": 238
        }
      },
      "source": [
        "y_train_preds = sgdc.predict_proba(X_train_sc)[:,1]\n",
        "y_valid_preds = sgdc.predict_proba(X_valid_sc)[:,1]\n",
        "\n",
        "print('Stochastic Gradient Descend')\n",
        "print('Training:')\n",
        "sgdc_train_auc, sgdc_train_accuracy, sgdc_train_recall, sgdc_train_precision =print_report(y_train,y_train_preds, thresh)\n",
        "print('Validation:')\n",
        "sgdc_valid_auc, sgdc_valid_accuracy, sgdc_valid_recall, sgdc_valid_precision = print_report(y_valid,y_valid_preds, thresh)"
      ],
      "execution_count": 0,
      "outputs": [
        {
          "output_type": "stream",
          "text": [
            "Stochastic Gradient Descend\n",
            "Training:\n",
            "AUC:0.658\n",
            "accuracy:0.610\n",
            "recall:0.540\n",
            "precision:0.627\n",
            " \n",
            "Validation:\n",
            "AUC:0.658\n",
            "accuracy:0.605\n",
            "recall:0.606\n",
            "precision:0.126\n",
            " \n"
          ],
          "name": "stdout"
        }
      ]
    },
    {
      "cell_type": "code",
      "metadata": {
        "id": "aOglFWEABENR",
        "colab_type": "code",
        "colab": {}
      },
      "source": [
        "pol=SVC(kernel=\"poly\", degree=10, coef0=100, C=5)\n",
        "model_pol=pol.fit(X_train_sc,y_train)"
      ],
      "execution_count": 0,
      "outputs": []
    },
    {
      "cell_type": "code",
      "metadata": {
        "id": "UGzM8hXoxJC2",
        "colab_type": "code",
        "colab": {}
      },
      "source": [
        "from sklearn.ensemble import RandomForestClassifier\n",
        "#rf = RandomForestClassifier(n_estimators = 10, max_depth=25, criterion = \"gini\", min_samples_split=10)\n",
        "rf=RandomForestClassifier(max_depth = 6, random_state = 42)\n",
        "model=rf.fit(X_train_sc, y_train)"
      ],
      "execution_count": 0,
      "outputs": []
    },
    {
      "cell_type": "code",
      "metadata": {
        "id": "x7iufwZL7H76",
        "colab_type": "code",
        "outputId": "c6cdedca-e9f2-464e-ee74-25947acf454f",
        "colab": {
          "base_uri": "https://localhost:8080/",
          "height": 238
        }
      },
      "source": [
        "y_train_preds = rf.predict_proba(X_train_sc)[:,1]\n",
        "y_valid_preds = rf.predict_proba(X_valid_sc)[:,1]\n",
        "\n",
        "print('Random Forest')\n",
        "print('Training:')\n",
        "rf_train_auc, rf_train_accuracy, rf_train_recall, rf_train_precision =print_report(y_train,y_train_preds, thresh)\n",
        "print('Validation:')\n",
        "rf_valid_auc, rf_valid_accuracy, rf_valid_recall, rf_valid_precision= print_report(y_valid,y_valid_preds, thresh)"
      ],
      "execution_count": 0,
      "outputs": [
        {
          "output_type": "stream",
          "text": [
            "Random Forest\n",
            "Training:\n",
            "AUC:0.684\n",
            "accuracy:0.626\n",
            "recall:0.558\n",
            "precision:0.646\n",
            " \n",
            "Validation:\n",
            "AUC:0.663\n",
            "accuracy:0.655\n",
            "recall:0.549\n",
            "precision:0.133\n",
            " \n"
          ],
          "name": "stdout"
        }
      ]
    },
    {
      "cell_type": "markdown",
      "metadata": {
        "id": "KDYpmaitbwc1",
        "colab_type": "text"
      },
      "source": [
        "# Feature Importance: random forest\n",
        "We can also investigate feature importance for random forest models. In this case, the feature importance shows how often a particular feature was used to split the data. In this case, we don't know if a particular feature is correlated with the positive class or negative class, but rather it is just importance for making a decision."
      ]
    },
    {
      "cell_type": "code",
      "metadata": {
        "id": "rMSvvt8kbyM6",
        "colab_type": "code",
        "outputId": "20fa83f0-e6fe-4ae0-ab2c-3e50f66997e6",
        "colab": {
          "base_uri": "https://localhost:8080/",
          "height": 204
        }
      },
      "source": [
        "feature_importances = pd.DataFrame(rf.feature_importances_,\n",
        "                                   index = feature,\n",
        "                                    columns=['importance']).sort_values('importance',\n",
        "                                                                        ascending=False)\n",
        "feature_importances.head()                                    "
      ],
      "execution_count": 0,
      "outputs": [
        {
          "output_type": "execute_result",
          "data": {
            "text/html": [
              "<div>\n",
              "<style scoped>\n",
              "    .dataframe tbody tr th:only-of-type {\n",
              "        vertical-align: middle;\n",
              "    }\n",
              "\n",
              "    .dataframe tbody tr th {\n",
              "        vertical-align: top;\n",
              "    }\n",
              "\n",
              "    .dataframe thead th {\n",
              "        text-align: right;\n",
              "    }\n",
              "</style>\n",
              "<table border=\"1\" class=\"dataframe\">\n",
              "  <thead>\n",
              "    <tr style=\"text-align: right;\">\n",
              "      <th></th>\n",
              "      <th>importance</th>\n",
              "    </tr>\n",
              "  </thead>\n",
              "  <tbody>\n",
              "    <tr>\n",
              "      <th>number_inpatient</th>\n",
              "      <td>0.158744</td>\n",
              "    </tr>\n",
              "    <tr>\n",
              "      <th>discharge_disposition_id_22</th>\n",
              "      <td>0.109983</td>\n",
              "    </tr>\n",
              "    <tr>\n",
              "      <th>discharge_disposition_id_3</th>\n",
              "      <td>0.089603</td>\n",
              "    </tr>\n",
              "    <tr>\n",
              "      <th>time_in_hospital</th>\n",
              "      <td>0.078903</td>\n",
              "    </tr>\n",
              "    <tr>\n",
              "      <th>discharge_disposition_id_11</th>\n",
              "      <td>0.071552</td>\n",
              "    </tr>\n",
              "  </tbody>\n",
              "</table>\n",
              "</div>"
            ],
            "text/plain": [
              "                             importance\n",
              "number_inpatient               0.158744\n",
              "discharge_disposition_id_22    0.109983\n",
              "discharge_disposition_id_3     0.089603\n",
              "time_in_hospital               0.078903\n",
              "discharge_disposition_id_11    0.071552"
            ]
          },
          "metadata": {
            "tags": []
          },
          "execution_count": 70
        }
      ]
    },
    {
      "cell_type": "code",
      "metadata": {
        "id": "ZxK47mHNcAy8",
        "colab_type": "code",
        "outputId": "6fc53815-326e-4372-e24e-9753a4116245",
        "colab": {
          "base_uri": "https://localhost:8080/",
          "height": 996
        }
      },
      "source": [
        "num = 50\n",
        "ylocs = np.arange(num)\n",
        "# get the feature importance for top num and sort in reverse order\n",
        "values_to_plot = feature_importances.iloc[:num].values.ravel()[::-1]\n",
        "feature_labels = list(feature_importances.iloc[:num].index)[::-1]\n",
        "\n",
        "plt.figure(num=None, figsize=(8, 15), dpi=80, facecolor='w', edgecolor='k');\n",
        "plt.barh(ylocs, values_to_plot, align = 'center')\n",
        "plt.ylabel('Features')\n",
        "plt.xlabel('Importance Score')\n",
        "plt.title('Feature Importance Score - Random Forest')\n",
        "plt.yticks(ylocs, feature_labels)\n",
        "plt.show()"
      ],
      "execution_count": 0,
      "outputs": [
        {
          "output_type": "display_data",
          "data": {
            "image/png": "[encoded data removed]",
            "text/plain": [
              "<Figure size 640x1200 with 1 Axes>"
            ]
          },
          "metadata": {
            "tags": []
          }
        }
      ]
    },
    {
      "cell_type": "code",
      "metadata": {
        "id": "XkD45ThKxWQ6",
        "colab_type": "code",
        "outputId": "665cf947-08eb-4247-f331-5f37882c17c6",
        "colab": {
          "base_uri": "https://localhost:8080/",
          "height": 252
        }
      },
      "source": [
        "# Create list of top most features based on importance\n",
        "feature_names = X_train_sc.columns\n",
        "feature_imports = rf.feature_importances_\n",
        "most_imp_features = pd.DataFrame([f for f in zip(feature_names,feature_imports)], columns=[\"Feature\", \"Importance\"]).nlargest(10, \"Importance\")\n",
        "most_imp_features.sort_values(by=\"Importance\", inplace=True)\n",
        "plt.figure(figsize=(10,6))\n",
        "plt.barh(range(len(most_imp_features)), most_imp_features.Importance, align='center', alpha=0.8)\n",
        "plt.yticks(range(len(most_imp_features)), most_imp_features.Feature, fontsize=14)\n",
        "plt.xlabel('Importance')\n",
        "plt.title('Most important features - Random Forest ')\n",
        "plt.show()"
      ],
      "execution_count": 0,
      "outputs": [
        {
          "output_type": "error",
          "ename": "AttributeError",
          "evalue": "ignored",
          "traceback": [
            "\u001b[0;31m---------------------------------------------------------------------------\u001b[0m",
            "\u001b[0;31mAttributeError\u001b[0m                            Traceback (most recent call last)",
            "\u001b[0;32m<ipython-input-46-5c5656f1d52b>\u001b[0m in \u001b[0;36m<module>\u001b[0;34m()\u001b[0m\n\u001b[0;32m----> 1\u001b[0;31m \u001b[0mfeature_names\u001b[0m \u001b[0;34m=\u001b[0m \u001b[0mX_train_sc\u001b[0m\u001b[0;34m.\u001b[0m\u001b[0mcolumns\u001b[0m\u001b[0;34m\u001b[0m\u001b[0;34m\u001b[0m\u001b[0m\n\u001b[0m\u001b[1;32m      2\u001b[0m \u001b[0mfeature_imports\u001b[0m \u001b[0;34m=\u001b[0m \u001b[0mrf\u001b[0m\u001b[0;34m.\u001b[0m\u001b[0mfeature_importances_\u001b[0m\u001b[0;34m\u001b[0m\u001b[0;34m\u001b[0m\u001b[0m\n\u001b[1;32m      3\u001b[0m \u001b[0mmost_imp_features\u001b[0m \u001b[0;34m=\u001b[0m \u001b[0mpd\u001b[0m\u001b[0;34m.\u001b[0m\u001b[0mDataFrame\u001b[0m\u001b[0;34m(\u001b[0m\u001b[0;34m[\u001b[0m\u001b[0mf\u001b[0m \u001b[0;32mfor\u001b[0m \u001b[0mf\u001b[0m \u001b[0;32min\u001b[0m \u001b[0mzip\u001b[0m\u001b[0;34m(\u001b[0m\u001b[0mfeature_names\u001b[0m\u001b[0;34m,\u001b[0m\u001b[0mfeature_imports\u001b[0m\u001b[0;34m)\u001b[0m\u001b[0;34m]\u001b[0m\u001b[0;34m,\u001b[0m \u001b[0mcolumns\u001b[0m\u001b[0;34m=\u001b[0m\u001b[0;34m[\u001b[0m\u001b[0;34m\"Feature\"\u001b[0m\u001b[0;34m,\u001b[0m \u001b[0;34m\"Importance\"\u001b[0m\u001b[0;34m]\u001b[0m\u001b[0;34m)\u001b[0m\u001b[0;34m.\u001b[0m\u001b[0mnlargest\u001b[0m\u001b[0;34m(\u001b[0m\u001b[0;36m10\u001b[0m\u001b[0;34m,\u001b[0m \u001b[0;34m\"Importance\"\u001b[0m\u001b[0;34m)\u001b[0m\u001b[0;34m\u001b[0m\u001b[0;34m\u001b[0m\u001b[0m\n\u001b[1;32m      4\u001b[0m \u001b[0mmost_imp_features\u001b[0m\u001b[0;34m.\u001b[0m\u001b[0msort_values\u001b[0m\u001b[0;34m(\u001b[0m\u001b[0mby\u001b[0m\u001b[0;34m=\u001b[0m\u001b[0;34m\"Importance\"\u001b[0m\u001b[0;34m,\u001b[0m \u001b[0minplace\u001b[0m\u001b[0;34m=\u001b[0m\u001b[0;32mTrue\u001b[0m\u001b[0;34m)\u001b[0m\u001b[0;34m\u001b[0m\u001b[0;34m\u001b[0m\u001b[0m\n\u001b[1;32m      5\u001b[0m \u001b[0mplt\u001b[0m\u001b[0;34m.\u001b[0m\u001b[0mfigure\u001b[0m\u001b[0;34m(\u001b[0m\u001b[0mfigsize\u001b[0m\u001b[0;34m=\u001b[0m\u001b[0;34m(\u001b[0m\u001b[0;36m10\u001b[0m\u001b[0;34m,\u001b[0m\u001b[0;36m6\u001b[0m\u001b[0;34m)\u001b[0m\u001b[0;34m)\u001b[0m\u001b[0;34m\u001b[0m\u001b[0;34m\u001b[0m\u001b[0m\n",
            "\u001b[0;31mAttributeError\u001b[0m: 'numpy.ndarray' object has no attribute 'columns'"
          ]
        }
      ]
    },
    {
      "cell_type": "markdown",
      "metadata": {
        "id": "y3ek5YsJxfXq",
        "colab_type": "text"
      },
      "source": [
        "# Model Comparision"
      ]
    },
    {
      "cell_type": "code",
      "metadata": {
        "id": "smZV-PbbXnZG",
        "colab_type": "code",
        "colab": {}
      },
      "source": [
        "df_results = pd.DataFrame({'classifier':['linearsvc','linearsvc','SGD','SGD','RF','RF'],\n",
        "                           'data_set':['train','valid']*3,\n",
        "                          'auc':[sv_train_auc,sv_valid_auc,sgdc_train_auc,sgdc_valid_auc,rf_train_auc,rf_valid_auc],\n",
        "                          'accuracy':[sv_train_accuracy,sv_valid_accuracy,sgdc_train_accuracy,sgdc_valid_accuracy,rf_train_accuracy,rf_valid_accuracy],\n",
        "                          'recall':[sv_train_recall,sv_valid_recall,sgdc_train_recall,sgdc_valid_recall,rf_train_recall,rf_valid_recall],\n",
        "                          'precision':[sv_train_precision,sv_valid_precision,sgdc_train_precision,sgdc_valid_precision,rf_train_precision,rf_valid_precision],\n",
        "                          })"
      ],
      "execution_count": 0,
      "outputs": []
    },
    {
      "cell_type": "code",
      "metadata": {
        "id": "Yr7SZARrXYPI",
        "colab_type": "code",
        "outputId": "4e42f498-2e48-4c76-c577-66b04278284b",
        "colab": {
          "base_uri": "https://localhost:8080/",
          "height": 292
        }
      },
      "source": [
        "import seaborn as sns\n",
        "import matplotlib.pyplot as plt\n",
        "sns.set(style=\"darkgrid\")\n",
        "ax = sns.barplot(x=\"classifier\", y=\"auc\", hue=\"data_set\", data=df_results)\n",
        "ax.set_xlabel('Classifier',fontsize = 15)\n",
        "ax.set_ylabel('AUC', fontsize = 15)\n",
        "ax.tick_params(labelsize=15)\n",
        "# Put the legend out of the figure\n",
        "plt.legend(bbox_to_anchor=(1.05, 1), loc=2, borderaxespad=0., fontsize = 15)\n",
        "plt.show()"
      ],
      "execution_count": 0,
      "outputs": [
        {
          "output_type": "display_data",
          "data": {
            "image/png": "[encoded data removed]",
            "text/plain": [
              "<Figure size 432x288 with 1 Axes>"
            ]
          },
          "metadata": {
            "tags": []
          }
        }
      ]
    },
    {
      "cell_type": "code",
      "metadata": {
        "id": "JrBPxehoa53L",
        "colab_type": "code",
        "outputId": "30b63d42-04d3-4533-d2fb-b13a317e7ca8",
        "colab": {
          "base_uri": "https://localhost:8080/",
          "height": 292
        }
      },
      "source": [
        "import seaborn as sns\n",
        "import matplotlib.pyplot as plt\n",
        "sns.set(style=\"darkgrid\")\n",
        "ax = sns.barplot(x=\"classifier\", y=\"accuracy\", hue=\"data_set\", data=df_results)\n",
        "ax.set_xlabel('Classifier',fontsize = 15)\n",
        "ax.set_ylabel('accuracy', fontsize = 15)\n",
        "ax.tick_params(labelsize=15)\n",
        "# Put the legend out of the figure\n",
        "plt.legend(bbox_to_anchor=(1.05, 1), loc=2, borderaxespad=0., fontsize = 15)\n",
        "plt.show()"
      ],
      "execution_count": 0,
      "outputs": [
        {
          "output_type": "display_data",
          "data": {
            "image/png": "[encoded data removed]",
            "text/plain": [
              "<Figure size 432x288 with 1 Axes>"
            ]
          },
          "metadata": {
            "tags": []
          }
        }
      ]
    },
    {
      "cell_type": "code",
      "metadata": {
        "id": "VfMDSEKmbDdx",
        "colab_type": "code",
        "outputId": "604c58af-fbcc-48af-e035-723176d91138",
        "colab": {
          "base_uri": "https://localhost:8080/",
          "height": 292
        }
      },
      "source": [
        "import seaborn as sns\n",
        "import matplotlib.pyplot as plt\n",
        "sns.set(style=\"darkgrid\")\n",
        "ax = sns.barplot(x=\"classifier\", y=\"recall\", hue=\"data_set\", data=df_results)\n",
        "ax.set_xlabel('Classifier',fontsize = 15)\n",
        "ax.set_ylabel('recall', fontsize = 15)\n",
        "ax.tick_params(labelsize=15)\n",
        "# Put the legend out of the figure\n",
        "plt.legend(bbox_to_anchor=(1.05, 1), loc=2, borderaxespad=0., fontsize = 15)\n",
        "plt.show()"
      ],
      "execution_count": 0,
      "outputs": [
        {
          "output_type": "display_data",
          "data": {
            "image/png": "[encoded data removed]",
            "text/plain": [
              "<Figure size 432x288 with 1 Axes>"
            ]
          },
          "metadata": {
            "tags": []
          }
        }
      ]
    },
    {
      "cell_type": "code",
      "metadata": {
        "id": "PK5hJGe5bKLK",
        "colab_type": "code",
        "outputId": "0b365f14-ff9e-43e5-b773-73b429075f7b",
        "colab": {
          "base_uri": "https://localhost:8080/",
          "height": 292
        }
      },
      "source": [
        "import seaborn as sns\n",
        "import matplotlib.pyplot as plt\n",
        "sns.set(style=\"darkgrid\")\n",
        "ax = sns.barplot(x=\"classifier\", y=\"precision\", hue=\"data_set\", data=df_results)\n",
        "ax.set_xlabel('Classifier',fontsize = 15)\n",
        "ax.set_ylabel('precision', fontsize = 15)\n",
        "ax.tick_params(labelsize=15)\n",
        "# Put the legend out of the figure\n",
        "plt.legend(bbox_to_anchor=(1.05, 1), loc=2, borderaxespad=0., fontsize = 15)\n",
        "plt.show()"
      ],
      "execution_count": 0,
      "outputs": [
        {
          "output_type": "display_data",
          "data": {
            "image/png": "[encoded data removed]",
            "text/plain": [
              "<Figure size 432x288 with 1 Axes>"
            ]
          },
          "metadata": {
            "tags": []
          }
        }
      ]
    }
  ]
}