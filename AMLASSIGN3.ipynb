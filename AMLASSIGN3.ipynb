{
  "nbformat": 4,
  "nbformat_minor": 0,
  "metadata": {
    "colab": {
      "name": "AMLASSIGN3.ipynb",
      "provenance": [],
      "collapsed_sections": [],
      "authorship_tag": "ABX9TyMvlXFdzYsEcFHaWaH7GYQ7",
      "include_colab_link": true
    },
    "kernelspec": {
      "name": "python3",
      "display_name": "Python 3"
    }
  },
  "cells": [
    {
      "cell_type": "markdown",
      "metadata": {
        "id": "view-in-github",
        "colab_type": "text"
      },
      "source": [
        "<a href=\"https://colab.research.google.com/github/dnjhaha/AML/blob/master/AMLASSIGN3.ipynb\" target=\"_parent\"><img src=\"https://colab.research.google.com/assets/colab-badge.svg\" alt=\"Open In Colab\"/></a>"
      ]
    },
    {
      "cell_type": "markdown",
      "metadata": {
        "id": "rXWFypqvnLwJ",
        "colab_type": "text"
      },
      "source": [
        "# Danni Jin AML Spring 2020 assignment #3\n",
        "**Setup First,Importing the Required Libraries**"
      ]
    },
    {
      "cell_type": "code",
      "metadata": {
        "id": "4l1w5XP6VA3o",
        "colab_type": "code",
        "colab": {}
      },
      "source": [
        "# To support both python 2 and python 3\n",
        "from __future__ import division, print_function, unicode_literals\n",
        "# Common imports\n",
        "import numpy as np\n",
        "import os\n",
        "# to make this notebook's output stable across runs\n",
        "np.random.seed(42)\n",
        "# To plot pretty figures\n",
        "%matplotlib inline\n",
        "import matplotlib as mpl\n",
        "import matplotlib.pyplot as plt\n",
        "from sklearn.linear_model import SGDClassifier\n",
        "from sklearn.metrics import accuracy_score\n",
        "from sklearn.preprocessing import label_binarize\n",
        "from keras.utils import np_utils\n",
        "from keras.datasets import cifar10\n",
        "from scipy import interp\n",
        "import matplotlib.pyplot as plt\n",
        "\n",
        "from sklearn import svm, datasets\n",
        "from sklearn.metrics import auc\n",
        "from sklearn.metrics import plot_roc_curve\n",
        "from sklearn.model_selection import StratifiedKFold"
      ],
      "execution_count": 0,
      "outputs": []
    },
    {
      "cell_type": "markdown",
      "metadata": {
        "id": "A9wn3iCar6bA",
        "colab_type": "text"
      },
      "source": [
        "**Preparing the dataset: Load the cifar10 data from Keras. Setup train and test splits. Keras library already consists of all the standard datasets. So, we are just importing cifar10 from the library itself. Then, we use the load_data() method to load the data into the given train and test directories.**"
      ]
    },
    {
      "cell_type": "code",
      "metadata": {
        "id": "WUnqL4RJovFm",
        "colab_type": "code",
        "outputId": "80f5ef57-3732-448d-af6e-51e77f47fece",
        "colab": {
          "base_uri": "https://localhost:8080/",
          "height": 68
        }
      },
      "source": [
        "(X_train, y_train), (X_test, y_test) = cifar10.load_data()\n",
        "print('X_train.shape:', X_train.shape)\n",
        "print(X_train.shape[0], 'train_samples')\n",
        "print(X_test.shape[0], 'test_samples')"
      ],
      "execution_count": 3,
      "outputs": [
        {
          "output_type": "stream",
          "text": [
            "X_train.shape: (50000, 32, 32, 3)\n",
            "50000 train_samples\n",
            "10000 test_samples\n"
          ],
          "name": "stdout"
        }
      ]
    },
    {
      "cell_type": "markdown",
      "metadata": {
        "id": "DoMZVb8OJECg",
        "colab_type": "text"
      },
      "source": [
        "**Normalize the data**"
      ]
    },
    {
      "cell_type": "code",
      "metadata": {
        "id": "Nb_lmaBqXjRy",
        "colab_type": "code",
        "colab": {}
      },
      "source": [
        "#from sklearn.preprocessing import label_binarize\n",
        "X_train=X_train.reshape(X_train.shape[0],32*32*3).astype('float32')\n",
        "X_test=X_test.reshape(X_test.shape[0],32*32*3).astype('float32')\n",
        "#y_train = label_binarize(y_train, classes=[0,1,2,3,4,5,6,7,8,9])\n",
        "#y_test = label_binarize(y_test, classes=[0,1,2,3,4,5,6,7,8,9])\n",
        "y_train = y_train.reshape(y_train.shape[0])\n",
        "y_test = y_test.reshape(y_test.shape[0])\n",
        "#y_train = np_utils.to_categorical(y_train) \n",
        "#y_test = np_utils.to_categorical(y_test) \n",
        "X_train=X_train/255\n",
        "X_test=X_test/255\n"
      ],
      "execution_count": 0,
      "outputs": []
    },
    {
      "cell_type": "code",
      "metadata": {
        "id": "BSaeIwID3fR0",
        "colab_type": "code",
        "colab": {
          "base_uri": "https://localhost:8080/",
          "height": 51
        },
        "outputId": "a8ab8535-11d9-4925-b72c-5ef90ba2ed0d"
      },
      "source": [
        "print(X_train.shape, y_train.shape)\n",
        "print(X_test.shape, y_test.shape)"
      ],
      "execution_count": 5,
      "outputs": [
        {
          "output_type": "stream",
          "text": [
            "(50000, 3072) (50000,)\n",
            "(10000, 3072) (10000,)\n"
          ],
          "name": "stdout"
        }
      ]
    },
    {
      "cell_type": "markdown",
      "metadata": {
        "id": "KmcmnrDPxguS",
        "colab_type": "text"
      },
      "source": [
        "**ROC response of dataset, created from K-fold cross-validation. Taking all of these curves, it is possible to calculate the mean area under curve, and see the variance of the curve when the training set is split into different subsets. This roughly shows how the classifier output is affected by changes in the training data, and how different the splits generated by K-fold cross-validation are from one another.**\n",
        "# Taking forever."
      ]
    },
    {
      "cell_type": "code",
      "metadata": {
        "id": "bqv-YMK-uwLq",
        "colab_type": "code",
        "colab": {}
      },
      "source": [
        "cv = StratifiedKFold(n_splits=6)\n",
        "classifier = svm.SVC(kernel='linear', probability=True,\n",
        "                     random_state=4)\n",
        "tprs = []\n",
        "aucs = []\n",
        "mean_fpr = np.linspace(0, 1, 100)\n",
        "\n",
        "fig, ax = plt.subplots()\n",
        "for i, (train, test) in enumerate(cv.split(X_train, y_train)):\n",
        "    classifier.fit(X_train, y_train)\n",
        "    viz = plot_roc_curve(classifier, X_test, y_test,\n",
        "                         name='ROC fold {}'.format(i),\n",
        "                         alpha=0.3, lw=1, ax=ax)\n",
        "    interp_tpr = interp(mean_fpr, viz.fpr, viz.tpr)\n",
        "    interp_tpr[0] = 0.0\n",
        "    tprs.append(interp_tpr)\n",
        "    aucs.append(viz.roc_auc)\n",
        "\n",
        "ax.plot([0, 1], [0, 1], linestyle='--', lw=2, color='r',\n",
        "        label='Chance', alpha=.8)\n",
        "\n",
        "mean_tpr = np.mean(tprs, axis=0)\n",
        "mean_tpr[-1] = 1.0\n",
        "mean_auc = auc(mean_fpr, mean_tpr)\n",
        "std_auc = np.std(aucs)\n",
        "ax.plot(mean_fpr, mean_tpr, color='b',\n",
        "        label=r'Mean ROC (AUC = %0.2f $\\pm$ %0.2f)' % (mean_auc, std_auc),\n",
        "        lw=2, alpha=.8)\n",
        "\n",
        "std_tpr = np.std(tprs, axis=0)\n",
        "tprs_upper = np.minimum(mean_tpr + std_tpr, 1)\n",
        "tprs_lower = np.maximum(mean_tpr - std_tpr, 0)\n",
        "ax.fill_between(mean_fpr, tprs_lower, tprs_upper, color='grey', alpha=.2,\n",
        "                label=r'$\\pm$ 1 std. dev.')\n",
        "ax.set(xlim=[-0.05, 1.05], ylim=[-0.05, 1.05],\n",
        "       title=\"Receiver operating characteristic example\")\n",
        "ax.legend(loc=\"lower right\")\n",
        "plt.show()"
      ],
      "execution_count": 0,
      "outputs": []
    },
    {
      "cell_type": "markdown",
      "metadata": {
        "id": "bjg_4vt0Pm5h",
        "colab_type": "text"
      },
      "source": [
        "# Train a SVM classifier on the dataset , then evaluate the resulting model on the test set.For large datasets consider using sklearn.svm.LinearSVC or sklearn.linear_model.SGDClassifier instead。The multiclass support is handled according to a one-vs-one scheme."
      ]
    },
    {
      "cell_type": "code",
      "metadata": {
        "id": "-0QTUX2dcF56",
        "colab_type": "code",
        "outputId": "8293ab17-c457-4480-e4a8-e038a09f6cdf",
        "colab": {
          "base_uri": "https://localhost:8080/",
          "height": 119
        }
      },
      "source": [
        "sgd_clf = SGDClassifier(max_iter=5, tol=-np.infty, random_state=42)\n",
        "sgd_clf.fit(X_train, y_train)"
      ],
      "execution_count": 5,
      "outputs": [
        {
          "output_type": "execute_result",
          "data": {
            "text/plain": [
              "SGDClassifier(alpha=0.0001, average=False, class_weight=None,\n",
              "              early_stopping=False, epsilon=0.1, eta0=0.0, fit_intercept=True,\n",
              "              l1_ratio=0.15, learning_rate='optimal', loss='hinge', max_iter=5,\n",
              "              n_iter_no_change=5, n_jobs=None, penalty='l2', power_t=0.5,\n",
              "              random_state=42, shuffle=True, tol=-inf, validation_fraction=0.1,\n",
              "              verbose=0, warm_start=False)"
            ]
          },
          "metadata": {
            "tags": []
          },
          "execution_count": 5
        }
      ]
    },
    {
      "cell_type": "code",
      "metadata": {
        "id": "UrIPx8dLfvz1",
        "colab_type": "code",
        "outputId": "d5284399-de65-48e3-8002-7bbea1b88a9e",
        "colab": {
          "base_uri": "https://localhost:8080/",
          "height": 34
        }
      },
      "source": [
        "sgd_clf.classes_"
      ],
      "execution_count": 6,
      "outputs": [
        {
          "output_type": "execute_result",
          "data": {
            "text/plain": [
              "array([0, 1, 2, 3, 4, 5, 6, 7, 8, 9], dtype=uint8)"
            ]
          },
          "metadata": {
            "tags": []
          },
          "execution_count": 6
        }
      ]
    },
    {
      "cell_type": "code",
      "metadata": {
        "id": "qWbMibVbYtJh",
        "colab_type": "code",
        "outputId": "8773d927-5565-4c63-d67f-585a2ab9006d",
        "colab": {
          "base_uri": "https://localhost:8080/",
          "height": 238
        }
      },
      "source": [
        "from sklearn.multiclass import OneVsOneClassifier\n",
        "ovo_clf = OneVsOneClassifier(SGDClassifier(max_iter=5, tol=-np.infty, random_state=42))\n",
        "ovo_clf.fit(X_train, y_train)"
      ],
      "execution_count": 7,
      "outputs": [
        {
          "output_type": "execute_result",
          "data": {
            "text/plain": [
              "OneVsOneClassifier(estimator=SGDClassifier(alpha=0.0001, average=False,\n",
              "                                           class_weight=None,\n",
              "                                           early_stopping=False, epsilon=0.1,\n",
              "                                           eta0=0.0, fit_intercept=True,\n",
              "                                           l1_ratio=0.15,\n",
              "                                           learning_rate='optimal',\n",
              "                                           loss='hinge', max_iter=5,\n",
              "                                           n_iter_no_change=5, n_jobs=None,\n",
              "                                           penalty='l2', power_t=0.5,\n",
              "                                           random_state=42, shuffle=True,\n",
              "                                           tol=-inf, validation_fraction=0.1,\n",
              "                                           verbose=0, warm_start=False),\n",
              "                   n_jobs=None)"
            ]
          },
          "metadata": {
            "tags": []
          },
          "execution_count": 7
        }
      ]
    },
    {
      "cell_type": "markdown",
      "metadata": {
        "id": "CWdnkkblaMOT",
        "colab_type": "text"
      },
      "source": [
        "**one-versus-one\n",
        "(OvO) strategy. If there are N classes, you need to train N × (N – 1) / 2 classifiers.**"
      ]
    },
    {
      "cell_type": "code",
      "metadata": {
        "id": "eU5UzSR3YV3c",
        "colab_type": "code",
        "outputId": "dd17d984-e4d7-480f-b1fa-e044d04b60da",
        "colab": {
          "base_uri": "https://localhost:8080/",
          "height": 34
        }
      },
      "source": [
        "len(ovo_clf.estimators_)"
      ],
      "execution_count": 8,
      "outputs": [
        {
          "output_type": "execute_result",
          "data": {
            "text/plain": [
              "45"
            ]
          },
          "metadata": {
            "tags": []
          },
          "execution_count": 8
        }
      ]
    },
    {
      "cell_type": "code",
      "metadata": {
        "id": "Oj4Qgh2labzr",
        "colab_type": "code",
        "outputId": "537b45f1-725a-4650-acd3-d0eeaf32e500",
        "colab": {
          "base_uri": "https://localhost:8080/",
          "height": 34
        }
      },
      "source": [
        "from sklearn.model_selection import cross_val_score\n",
        "cross_val_score(ovo_clf, X_train, y_train, cv=3, scoring=\"accuracy\")"
      ],
      "execution_count": 9,
      "outputs": [
        {
          "output_type": "execute_result",
          "data": {
            "text/plain": [
              "array([0.30473391, 0.33791324, 0.36325453])"
            ]
          },
          "metadata": {
            "tags": []
          },
          "execution_count": 9
        }
      ]
    },
    {
      "cell_type": "markdown",
      "metadata": {
        "id": "wUViAWHeI5n5",
        "colab_type": "text"
      },
      "source": [
        "**use PCA to reduce the dataset's dimensionality, with an explained variance ratio of 95%.**"
      ]
    },
    {
      "cell_type": "code",
      "metadata": {
        "id": "GhmXKZimI7Xz",
        "colab_type": "code",
        "colab": {}
      },
      "source": [
        "from sklearn.decomposition import PCA\n",
        "pca = PCA(n_components=0.95)#the explained variance:95% is an elbow where it stops growing fast.\n",
        "X_train_reduced = pca.fit_transform(X_train)"
      ],
      "execution_count": 0,
      "outputs": []
    },
    {
      "cell_type": "code",
      "metadata": {
        "id": "kfpWaNJmd2O1",
        "colab_type": "code",
        "outputId": "dd949c71-5544-4789-bdee-5f0e95bdb5e8",
        "colab": {
          "base_uri": "https://localhost:8080/",
          "height": 34
        }
      },
      "source": [
        "ovo_clf.fit(X_train_reduced, y_train)\n",
        "X_test_reduced = pca.transform(X_test)\n",
        "y_pred = ovo_clf.predict(X_test_reduced)\n",
        "accuracy_score(y_test, y_pred)"
      ],
      "execution_count": 11,
      "outputs": [
        {
          "output_type": "execute_result",
          "data": {
            "text/plain": [
              "0.3482"
            ]
          },
          "metadata": {
            "tags": []
          },
          "execution_count": 11
        }
      ]
    },
    {
      "cell_type": "code",
      "metadata": {
        "id": "iv_W8NKAWdD8",
        "colab_type": "code",
        "outputId": "28c5362f-d797-45df-9605-ad293715004c",
        "colab": {
          "base_uri": "https://localhost:8080/",
          "height": 34
        }
      },
      "source": [
        "from sklearn.preprocessing import StandardScaler\n",
        "scaler = StandardScaler()\n",
        "X_train_scaled = scaler.fit_transform(X_train_reduced.astype(np.float64))\n",
        "cross_val_score(ovo_clf, X_train_scaled, y_train, cv=3, scoring=\"accuracy\")"
      ],
      "execution_count": 12,
      "outputs": [
        {
          "output_type": "execute_result",
          "data": {
            "text/plain": [
              "array([0.33935321, 0.34337313, 0.3475339 ])"
            ]
          },
          "metadata": {
            "tags": []
          },
          "execution_count": 12
        }
      ]
    },
    {
      "cell_type": "code",
      "metadata": {
        "id": "8z0kWjfzN4nV",
        "colab_type": "code",
        "outputId": "77ae07b1-2c0a-4dd6-c9df-2d0533a534e8",
        "colab": {
          "base_uri": "https://localhost:8080/",
          "height": 122
        }
      },
      "source": [
        "from sklearn.model_selection import StratifiedKFold\n",
        "from sklearn.base import clone\n",
        "\n",
        "skfolds = StratifiedKFold(n_splits=3, random_state=42)\n",
        "\n",
        "for train_index, test_index in skfolds.split(X_train, y_train):\n",
        "    clone_clf = clone(sgd_clf)\n",
        "    X_train_folds = X_train[train_index]\n",
        "    y_train_folds = (y_train[train_index])\n",
        "    X_test_fold = X_train[test_index]\n",
        "    y_test_fold = (y_train[test_index])\n",
        "\n",
        "    clone_clf.fit(X_train_folds, y_train_folds)\n",
        "    y_pred = clone_clf.predict(X_test_fold)\n",
        "    n_correct = sum(y_pred == y_test_fold)\n",
        "    print(n_correct / len(y_pred))"
      ],
      "execution_count": 13,
      "outputs": [
        {
          "output_type": "stream",
          "text": [
            "/usr/local/lib/python3.6/dist-packages/sklearn/model_selection/_split.py:296: FutureWarning: Setting a random_state has no effect since shuffle is False. This will raise an error in 0.24. You should leave random_state to its default (None), or set shuffle=True.\n",
            "  FutureWarning\n"
          ],
          "name": "stderr"
        },
        {
          "output_type": "stream",
          "text": [
            "0.26675466490670185\n",
            "0.2622547549049019\n",
            "0.30865234609384373\n"
          ],
          "name": "stdout"
        }
      ]
    },
    {
      "cell_type": "code",
      "metadata": {
        "id": "jsKKY3kPzqbh",
        "colab_type": "code",
        "colab": {}
      },
      "source": [
        "from sklearn.model_selection import cross_val_predict\n",
        "\n",
        "y_train_pred = cross_val_predict(ovo_clf, X_train_scaled, y_train, cv=3)"
      ],
      "execution_count": 0,
      "outputs": []
    },
    {
      "cell_type": "code",
      "metadata": {
        "id": "6z5Acu0Czip1",
        "colab_type": "code",
        "outputId": "3df0475b-734f-43bb-a703-7707072a2e52",
        "colab": {
          "base_uri": "https://localhost:8080/",
          "height": 187
        }
      },
      "source": [
        "from sklearn.metrics import confusion_matrix\n",
        "\n",
        "confusion_matrix(y_train, y_train_pred)"
      ],
      "execution_count": 15,
      "outputs": [
        {
          "output_type": "execute_result",
          "data": {
            "text/plain": [
              "array([[1812,  346,  306,  274,  149,  224,  118,  374,  931,  466],\n",
              "       [ 259, 2028,  177,  229,  146,  194,  230,  300,  356, 1081],\n",
              "       [ 368,  269, 1053,  530,  566,  509,  691,  570,  286,  158],\n",
              "       [ 228,  364,  402, 1247,  306,  931,  618,  358,  228,  318],\n",
              "       [ 250,  152,  655,  444, 1196,  497,  765,  720,  144,  177],\n",
              "       [ 206,  284,  456,  991,  405, 1326,  494,  453,  203,  182],\n",
              "       [  88,  218,  390,  788,  478,  513, 1919,  332,   94,  180],\n",
              "       [ 240,  287,  365,  380,  416,  426,  275, 2083,  119,  409],\n",
              "       [ 845,  488,  135,  201,   78,  188,   62,  113, 2260,  630],\n",
              "       [ 377,  932,  131,  172,  126,  139,  192,  324,  360, 2247]])"
            ]
          },
          "metadata": {
            "tags": []
          },
          "execution_count": 15
        }
      ]
    },
    {
      "cell_type": "code",
      "metadata": {
        "id": "8Be01Xl90woR",
        "colab_type": "code",
        "colab": {}
      },
      "source": [
        "y_train_perfect_predictions = y_train"
      ],
      "execution_count": 0,
      "outputs": []
    },
    {
      "cell_type": "code",
      "metadata": {
        "id": "DerqLE7U00kK",
        "colab_type": "code",
        "outputId": "0d9c2812-d6c3-4eaf-a181-481233719405",
        "colab": {
          "base_uri": "https://localhost:8080/",
          "height": 187
        }
      },
      "source": [
        "confusion_matrix(y_train, y_train_perfect_predictions)"
      ],
      "execution_count": 17,
      "outputs": [
        {
          "output_type": "execute_result",
          "data": {
            "text/plain": [
              "array([[5000,    0,    0,    0,    0,    0,    0,    0,    0,    0],\n",
              "       [   0, 5000,    0,    0,    0,    0,    0,    0,    0,    0],\n",
              "       [   0,    0, 5000,    0,    0,    0,    0,    0,    0,    0],\n",
              "       [   0,    0,    0, 5000,    0,    0,    0,    0,    0,    0],\n",
              "       [   0,    0,    0,    0, 5000,    0,    0,    0,    0,    0],\n",
              "       [   0,    0,    0,    0,    0, 5000,    0,    0,    0,    0],\n",
              "       [   0,    0,    0,    0,    0,    0, 5000,    0,    0,    0],\n",
              "       [   0,    0,    0,    0,    0,    0,    0, 5000,    0,    0],\n",
              "       [   0,    0,    0,    0,    0,    0,    0,    0, 5000,    0],\n",
              "       [   0,    0,    0,    0,    0,    0,    0,    0,    0, 5000]])"
            ]
          },
          "metadata": {
            "tags": []
          },
          "execution_count": 17
        }
      ]
    },
    {
      "cell_type": "code",
      "metadata": {
        "id": "EGUQymm_06bI",
        "colab_type": "code",
        "outputId": "5c12e64b-1a16-4275-c0a9-f965cb1718e0",
        "colab": {
          "base_uri": "https://localhost:8080/",
          "height": 34
        }
      },
      "source": [
        "from sklearn.metrics import precision_score, recall_score\n",
        "\n",
        "precision_score(y_train, y_train_pred,average='weighted')"
      ],
      "execution_count": 18,
      "outputs": [
        {
          "output_type": "execute_result",
          "data": {
            "text/plain": [
              "0.340482672500912"
            ]
          },
          "metadata": {
            "tags": []
          },
          "execution_count": 18
        }
      ]
    },
    {
      "cell_type": "code",
      "metadata": {
        "id": "3UC_RvDO1cmX",
        "colab_type": "code",
        "outputId": "c2861c4c-7f61-4229-adf4-9553ed7614c5",
        "colab": {
          "base_uri": "https://localhost:8080/",
          "height": 34
        }
      },
      "source": [
        "recall_score(y_train, y_train_pred,average='weighted')"
      ],
      "execution_count": 19,
      "outputs": [
        {
          "output_type": "execute_result",
          "data": {
            "text/plain": [
              "0.34342"
            ]
          },
          "metadata": {
            "tags": []
          },
          "execution_count": 19
        }
      ]
    },
    {
      "cell_type": "code",
      "metadata": {
        "id": "9bT6qbs33rRy",
        "colab_type": "code",
        "outputId": "d787e372-1d66-4203-ab0f-c8dd9f90618a",
        "colab": {
          "base_uri": "https://localhost:8080/",
          "height": 34
        }
      },
      "source": [
        "from sklearn.metrics import f1_score\n",
        "f1_score(y_train, y_train_pred,average='weighted')"
      ],
      "execution_count": 20,
      "outputs": [
        {
          "output_type": "execute_result",
          "data": {
            "text/plain": [
              "0.3407102349785773"
            ]
          },
          "metadata": {
            "tags": []
          },
          "execution_count": 20
        }
      ]
    },
    {
      "cell_type": "code",
      "metadata": {
        "id": "0DcPQ_cZq08c",
        "colab_type": "code",
        "outputId": "95f3c2ad-bb79-4525-f7e1-0603c927a1e3",
        "colab": {
          "base_uri": "https://localhost:8080/",
          "height": 306
        }
      },
      "source": [
        "#from sklearn.model_selection import cross_val_predict\n",
        "#y_scores = cross_val_predict(ovo_clf, X_train_scaled, y_train, cv=3,method=\"decision_function\")\n",
        "from sklearn.metrics import classification_report\n",
        "print(classification_report(y_train, y_train_pred, labels=[0,1,2,3,4,5,6,7,8,9]))"
      ],
      "execution_count": 21,
      "outputs": [
        {
          "output_type": "stream",
          "text": [
            "              precision    recall  f1-score   support\n",
            "\n",
            "           0       0.39      0.36      0.37      5000\n",
            "           1       0.38      0.41      0.39      5000\n",
            "           2       0.26      0.21      0.23      5000\n",
            "           3       0.24      0.25      0.24      5000\n",
            "           4       0.31      0.24      0.27      5000\n",
            "           5       0.27      0.27      0.27      5000\n",
            "           6       0.36      0.38      0.37      5000\n",
            "           7       0.37      0.42      0.39      5000\n",
            "           8       0.45      0.45      0.45      5000\n",
            "           9       0.38      0.45      0.41      5000\n",
            "\n",
            "    accuracy                           0.34     50000\n",
            "   macro avg       0.34      0.34      0.34     50000\n",
            "weighted avg       0.34      0.34      0.34     50000\n",
            "\n"
          ],
          "name": "stdout"
        }
      ]
    },
    {
      "cell_type": "code",
      "metadata": {
        "id": "2h4q_dizzxQ_",
        "colab_type": "code",
        "colab": {}
      },
      "source": [
        "import numpy as np\n",
        "import seaborn as sns\n",
        "from sklearn.metrics import classification_report\n",
        "import pandas as pd"
      ],
      "execution_count": 0,
      "outputs": []
    },
    {
      "cell_type": "code",
      "metadata": {
        "id": "-eECtYHJ-Z9G",
        "colab_type": "code",
        "colab": {}
      },
      "source": [
        "true = np.random.randint(0, 10, size=100)\n",
        "pred = np.random.randint(0, 10, size=100)\n",
        "labels = np.arange(10)\n",
        "target_names = list(\"0123456789\")\n",
        "clf_report = classification_report(y_train, y_train_pred,\n",
        "                                   labels=labels,\n",
        "                                   target_names=target_names,\n",
        "                                   output_dict=True)"
      ],
      "execution_count": 0,
      "outputs": []
    },
    {
      "cell_type": "code",
      "metadata": {
        "id": "yXjwKbB6-jGv",
        "colab_type": "code",
        "colab": {
          "base_uri": "https://localhost:8080/",
          "height": 364
        },
        "outputId": "99b8a1fd-2239-4889-c1b6-182b5bdca1e5"
      },
      "source": [
        "sns.heatmap(pd.DataFrame(clf_report).iloc[:-1, :].T, annot=True)"
      ],
      "execution_count": 44,
      "outputs": [
        {
          "output_type": "execute_result",
          "data": {
            "text/plain": [
              "<matplotlib.axes._subplots.AxesSubplot at 0x7fe0b58777f0>"
            ]
          },
          "metadata": {
            "tags": []
          },
          "execution_count": 44
        },
        {
          "output_type": "display_data",
          "data": {
            "image/png": "[encoded data removed]",
            "text/plain": [
              "<Figure size 576x396 with 2 Axes>"
            ]
          },
          "metadata": {
            "tags": []
          }
        }
      ]
    },
    {
      "cell_type": "code",
      "metadata": {
        "id": "jA8OskJjOPln",
        "colab_type": "code",
        "colab": {}
      },
      "source": [
        "y_scores = cross_val_predict(ovo_clf, X_train, y_train, cv=3,method=\"decision_function\")"
      ],
      "execution_count": 0,
      "outputs": []
    },
    {
      "cell_type": "code",
      "metadata": {
        "id": "wIS864NxkZ6N",
        "colab_type": "code",
        "colab": {}
      },
      "source": [
        "if y_scores.ndim == 2:\n",
        "    y_scores = y_scores[:, 1]"
      ],
      "execution_count": 0,
      "outputs": []
    },
    {
      "cell_type": "markdown",
      "metadata": {
        "id": "es-Pdbop94hM",
        "colab_type": "text"
      },
      "source": [
        "**svm**"
      ]
    },
    {
      "cell_type": "code",
      "metadata": {
        "id": "zBHkZZFtbtc6",
        "colab_type": "code",
        "colab": {}
      },
      "source": [
        "from sklearn.preprocessing import StandardScaler\n",
        "scaler = StandardScaler()\n",
        "X_train_scaled = scaler.fit_transform(X_train.astype(np.float64))"
      ],
      "execution_count": 0,
      "outputs": []
    },
    {
      "cell_type": "markdown",
      "metadata": {
        "id": "6TdEA8kfZtXu",
        "colab_type": "text"
      },
      "source": [
        "**Compute the average precision score**"
      ]
    },
    {
      "cell_type": "code",
      "metadata": {
        "id": "FW3WlnMMZ6v2",
        "colab_type": "code",
        "colab": {}
      },
      "source": [
        "from sklearn.metrics import average_precision_score\n",
        "average_precision = average_precision_score(y_test, y_score)\n",
        "\n",
        "print('Average precision-recall score: {0:0.2f}'.format(\n",
        "      average_precision))"
      ],
      "execution_count": 0,
      "outputs": []
    },
    {
      "cell_type": "code",
      "metadata": {
        "id": "CewFLpMxZ4Sn",
        "colab_type": "code",
        "colab": {}
      },
      "source": [
        "from sklearn.metrics import precision_recall_curve\n",
        "from sklearn.metrics import plot_precision_recall_curve\n",
        "import matplotlib.pyplot as plt\n",
        "disp = plot_precision_recall_curve(classifier, X_test, y_test)\n",
        "disp.ax_.set_title('2-class Precision-Recall curve: '\n",
        "                   'AP={0:0.2f}'.format(average_precision))"
      ],
      "execution_count": 0,
      "outputs": []
    },
    {
      "cell_type": "code",
      "metadata": {
        "id": "OCidYDnqlRkd",
        "colab_type": "code",
        "colab": {}
      },
      "source": [
        "# Create a simple classifier\n",
        "classifier = svm.LinearSVC(random_state=random_state)\n",
        "classifier.fit(X_train, y_train)\n",
        "y_score = classifier.decision_function(X_test)"
      ],
      "execution_count": 0,
      "outputs": []
    },
    {
      "cell_type": "markdown",
      "metadata": {
        "id": "YhDCViPBOSjF",
        "colab_type": "text"
      },
      "source": [
        "# Random Forest Classifier:36.11"
      ]
    },
    {
      "cell_type": "code",
      "metadata": {
        "id": "QEyQYtOovtPJ",
        "colab_type": "code",
        "colab": {}
      },
      "source": [
        "from sklearn.ensemble import RandomForestClassifier\n",
        "from sklearn.metrics import accuracy_score\n",
        "from sklearn.multiclass import OneVsRestClassifier\n",
        "from sklearn.preprocessing import MinMaxScaler\n",
        "(X_train, y_train), (X_test, y_test) = cifar10.load_data()\n",
        "X_train=X_train.reshape(X_train.shape[0],32*32*3).astype('float32')\n",
        "X_test=X_test.reshape(X_test.shape[0],32*32*3).astype('float32')\n",
        "X_train = X_train / 255.0 \n",
        "X_test = X_test / 255.0 \n",
        "y_train = y_train.reshape(y_train.shape[0])\n",
        "y_test = y_test.reshape(y_test.shape[0])\n"
      ],
      "execution_count": 0,
      "outputs": []
    },
    {
      "cell_type": "markdown",
      "metadata": {
        "id": "bD0qT_vq_LXM",
        "colab_type": "text"
      },
      "source": [
        "# Scale the data."
      ]
    },
    {
      "cell_type": "code",
      "metadata": {
        "id": "cLh0VciU_Jl7",
        "colab_type": "code",
        "colab": {}
      },
      "source": [
        "scaler = MinMaxScaler()\n",
        "X_train = scaler.fit_transform(X_train)\n",
        "X_test = scaler.transform(X_test)"
      ],
      "execution_count": 0,
      "outputs": []
    },
    {
      "cell_type": "code",
      "metadata": {
        "id": "K_o2jcFbOeUR",
        "colab_type": "code",
        "colab": {
          "base_uri": "https://localhost:8080/",
          "height": 34
        },
        "outputId": "516c1614-ac99-40aa-fb3e-806ec26030c9"
      },
      "source": [
        "forest_clf = RandomForestClassifier(n_estimators=10, random_state=42)\n",
        "forest_clf.fit(X_train, y_train)\n",
        "y_pred=forest_clf.predict(X_test)\n",
        "accuracy_score(y_test, y_pred)"
      ],
      "execution_count": 47,
      "outputs": [
        {
          "output_type": "execute_result",
          "data": {
            "text/plain": [
              "0.3611"
            ]
          },
          "metadata": {
            "tags": []
          },
          "execution_count": 47
        }
      ]
    },
    {
      "cell_type": "markdown",
      "metadata": {
        "id": "O8eJTDOIOq5q",
        "colab_type": "text"
      },
      "source": [
        "**After i scale the data, KNN still takes a lot if time.**"
      ]
    },
    {
      "cell_type": "code",
      "metadata": {
        "id": "I-UnpIhF_bwe",
        "colab_type": "code",
        "colab": {}
      },
      "source": [
        "from sklearn.neighbors import KNeighborsClassifier\n",
        "knn = KNeighborsClassifier()\n",
        "knn.fit(X_train, y_train)\n",
        "print('Accuracy of K-NN classifier on training set: {:.2f}'\n",
        "     .format(knn.score(X_train, y_train)))"
      ],
      "execution_count": 0,
      "outputs": []
    },
    {
      "cell_type": "markdown",
      "metadata": {
        "id": "H6pycP9rO_iG",
        "colab_type": "text"
      },
      "source": [
        "# after PCA ,Random Forest accuracy is 27.81"
      ]
    },
    {
      "cell_type": "code",
      "metadata": {
        "id": "8IPwQ3206E-e",
        "colab_type": "code",
        "colab": {
          "base_uri": "https://localhost:8080/",
          "height": 34
        },
        "outputId": "30018b71-9f2b-4ed0-b06c-6bc0608442fe"
      },
      "source": [
        "from sklearn.decomposition import PCA\n",
        "pca = PCA(n_components=0.95)#the explained variance:95% is an elbow where it stops growing fast.\n",
        "X_train_reduced = pca.fit_transform(X_train)\n",
        "rnd_clf2 = RandomForestClassifier(n_estimators=10, random_state=42)\n",
        "rnd_clf2.fit(X_train_reduced, y_train)\n",
        "X_test_reduced = pca.transform(X_test)\n",
        "y_pred = rnd_clf2.predict(X_test_reduced)\n",
        "accuracy_score(y_test, y_pred)"
      ],
      "execution_count": 7,
      "outputs": [
        {
          "output_type": "execute_result",
          "data": {
            "text/plain": [
              "0.2781"
            ]
          },
          "metadata": {
            "tags": []
          },
          "execution_count": 7
        }
      ]
    },
    {
      "cell_type": "markdown",
      "metadata": {
        "id": "GDLO-zlCPO7z",
        "colab_type": "text"
      },
      "source": [
        "**ROC curve** "
      ]
    },
    {
      "cell_type": "code",
      "metadata": {
        "id": "jQi5pOSJcKdJ",
        "colab_type": "code",
        "colab": {}
      },
      "source": [
        "from sklearn.metrics import roc_curve, auc\n",
        "#y_pred = lr.predict_proba(X_test)\n",
        "#print(roc_auc_score(y_test, y_pred))\n",
        "# y_score = lr_one_rest.predict_proba(X_test)\n",
        "y_score = rnd_clf2.predict_proba(X_test_reduced)"
      ],
      "execution_count": 0,
      "outputs": []
    },
    {
      "cell_type": "code",
      "metadata": {
        "id": "isoHFQCTXzxy",
        "colab_type": "code",
        "outputId": "5c8b3a88-c2b9-4032-b0bd-686333b01060",
        "colab": {
          "base_uri": "https://localhost:8080/",
          "height": 34
        }
      },
      "source": [
        "from sklearn.model_selection import cross_val_score\n",
        "cross_val_score(forest_clf, X_train, y_train, cv=3, scoring=\"accuracy\")"
      ],
      "execution_count": 41,
      "outputs": [
        {
          "output_type": "execute_result",
          "data": {
            "text/plain": [
              "array([0.34895302, 0.34361313, 0.34177367])"
            ]
          },
          "metadata": {
            "tags": []
          },
          "execution_count": 41
        }
      ]
    },
    {
      "cell_type": "code",
      "metadata": {
        "id": "hb2frPaN55Al",
        "colab_type": "code",
        "outputId": "beb1a569-ea18-40a3-de35-646b9dbca979",
        "colab": {
          "base_uri": "https://localhost:8080/",
          "height": 34
        }
      },
      "source": [
        "from sklearn.preprocessing import StandardScaler\n",
        "scaler = StandardScaler()\n",
        "X_train_scaled = scaler.fit_transform(X_train.astype(np.float64))\n",
        "cross_val_score(forest_clf, X_train_scaled, y_train, cv=3, scoring=\"accuracy\")"
      ],
      "execution_count": 42,
      "outputs": [
        {
          "output_type": "execute_result",
          "data": {
            "text/plain": [
              "array([0.350093  , 0.34331313, 0.34135365])"
            ]
          },
          "metadata": {
            "tags": []
          },
          "execution_count": 42
        }
      ]
    },
    {
      "cell_type": "code",
      "metadata": {
        "id": "WL-9x2TA6WA1",
        "colab_type": "code",
        "outputId": "1208950c-c519-425c-96f9-868e5382e0ef",
        "colab": {
          "base_uri": "https://localhost:8080/",
          "height": 187
        }
      },
      "source": [
        "from sklearn.metrics import confusion_matrix\n",
        "from sklearn.model_selection import cross_val_predict\n",
        "y_train_pred = cross_val_predict(forest_clf, X_train_scaled, y_train, cv=3)\n",
        "conf_mx = confusion_matrix(y_train, y_train_pred)\n",
        "conf_mx\n"
      ],
      "execution_count": 0,
      "outputs": [
        {
          "output_type": "execute_result",
          "data": {
            "text/plain": [
              "array([[2574,  353,  367,  182,  170,  138,  127,  151,  677,  261],\n",
              "       [ 462, 2186,  263,  278,  181,  213,  174,  178,  367,  698],\n",
              "       [ 672,  303, 1387,  470,  764,  358,  489,  291,  134,  132],\n",
              "       [ 402,  429,  673, 1151,  466,  781,  507,  263,  129,  199],\n",
              "       [ 411,  263,  964,  447, 1493,  298,  558,  325,  125,  116],\n",
              "       [ 350,  379,  684,  947,  450, 1345,  376,  279,   92,   98],\n",
              "       [ 220,  369,  792,  602,  705,  356, 1632,  180,   53,   91],\n",
              "       [ 444,  399,  540,  515,  604,  408,  288, 1397,  118,  287],\n",
              "       [ 905,  537,  219,  223,  138,  160,   78,  119, 2319,  302],\n",
              "       [ 512, 1136,  208,  265,  138,  151,  150,  261,  417, 1762]])"
            ]
          },
          "metadata": {
            "tags": []
          },
          "execution_count": 34
        }
      ]
    },
    {
      "cell_type": "code",
      "metadata": {
        "id": "upz-JmVj6fUT",
        "colab_type": "code",
        "colab": {}
      },
      "source": [
        "def plot_confusion_matrix(matrix):\n",
        "    \"\"\"If you prefer color and a colorbar\"\"\"\n",
        "    fig = plt.figure(figsize=(8,8))\n",
        "    ax = fig.add_subplot(111)\n",
        "    cax = ax.matshow(matrix)\n",
        "    fig.colorbar(cax)"
      ],
      "execution_count": 0,
      "outputs": []
    },
    {
      "cell_type": "code",
      "metadata": {
        "id": "Xh6rIeW26jn_",
        "colab_type": "code",
        "outputId": "61e0cbc9-9f75-4483-d3a9-964138907711",
        "colab": {
          "base_uri": "https://localhost:8080/",
          "height": 295
        }
      },
      "source": [
        "\n",
        "plt.matshow(conf_mx, cmap=plt.cm.gray)\n",
        "save_fig(\"confusion_matrix_plot\", tight_layout=False)\n",
        "plt.show()"
      ],
      "execution_count": 0,
      "outputs": [
        {
          "output_type": "stream",
          "text": [
            "Saving figure confusion_matrix_plot\n"
          ],
          "name": "stdout"
        },
        {
          "output_type": "display_data",
          "data": {
            "image/png": "[encoded data removed]",
            "text/plain": [
              "<Figure size 288x288 with 1 Axes>"
            ]
          },
          "metadata": {
            "tags": []
          }
        }
      ]
    },
    {
      "cell_type": "code",
      "metadata": {
        "id": "MgLwXr3Y7qNo",
        "colab_type": "code",
        "colab": {}
      },
      "source": [
        "row_sums = conf_mx.sum(axis=1, keepdims=True)\n",
        "norm_conf_mx = conf_mx / row_sums"
      ],
      "execution_count": 0,
      "outputs": []
    },
    {
      "cell_type": "code",
      "metadata": {
        "id": "FsgScK7v-luW",
        "colab_type": "code",
        "outputId": "2d58f26e-355b-4a6b-f0e7-05ad6d60aa0d",
        "colab": {
          "base_uri": "https://localhost:8080/",
          "height": 295
        }
      },
      "source": [
        "np.fill_diagonal(norm_conf_mx, 0)\n",
        "plt.matshow(norm_conf_mx, cmap=plt.cm.gray)\n",
        "save_fig(\"confusion_matrix_errors_plot\", tight_layout=False)\n",
        "plt.show()"
      ],
      "execution_count": 0,
      "outputs": [
        {
          "output_type": "stream",
          "text": [
            "Saving figure confusion_matrix_errors_plot\n"
          ],
          "name": "stdout"
        },
        {
          "output_type": "display_data",
          "data": {
            "image/png": "[encoded data removed]",
            "text/plain": [
              "<Figure size 288x288 with 1 Axes>"
            ]
          },
          "metadata": {
            "tags": []
          }
        }
      ]
    },
    {
      "cell_type": "code",
      "metadata": {
        "id": "JohQON84pqEb",
        "colab_type": "code",
        "colab": {}
      },
      "source": [
        "if y_score.ndim == 2:\n",
        "    y_score = y_score[:, 1]"
      ],
      "execution_count": 0,
      "outputs": []
    },
    {
      "cell_type": "code",
      "metadata": {
        "id": "8qG28glLprMp",
        "colab_type": "code",
        "colab": {}
      },
      "source": [
        "from sklearn.metrics import precision_recall_curve\n",
        "from sklearn.metrics import plot_precision_recall_curve\n",
        "import matplotlib.pyplot as plt\n",
        "\n",
        "disp = plot_precision_recall_curve(classifier, X_test, y_test)\n",
        "disp.ax_.set_title('2-class Precision-Recall curve: '\n",
        "                   'AP={0:0.2f}'.format(average_precision))"
      ],
      "execution_count": 0,
      "outputs": []
    },
    {
      "cell_type": "markdown",
      "metadata": {
        "id": "X2_SO5dwgT8N",
        "colab_type": "text"
      },
      "source": [
        "# ROC curves"
      ]
    },
    {
      "cell_type": "code",
      "metadata": {
        "id": "tpxF9QK6gPnZ",
        "colab_type": "code",
        "colab": {}
      },
      "source": [
        "def plot_roc_curve(fpr, tpr, label=None):\n",
        "    plt.plot(fpr, tpr, linewidth=2, label=label)\n",
        "    plt.plot([0, 1], [0, 1], 'k--')\n",
        "    plt.axis([0, 1, 0, 1])\n",
        "    plt.xlabel('False Positive Rate', fontsize=16)\n",
        "    plt.ylabel('True Positive Rate', fontsize=16)\n",
        "\n",
        "plt.figure(figsize=(8, 6))\n",
        "plot_roc_curve(fpr, tpr)\n",
        "save_fig(\"roc_curve_plot\")\n",
        "plt.show()"
      ],
      "execution_count": 0,
      "outputs": []
    },
    {
      "cell_type": "code",
      "metadata": {
        "id": "93plRzqFwa_z",
        "colab_type": "code",
        "colab": {}
      },
      "source": [
        "from sklearn.metrics import roc_auc_score\n",
        "\n",
        "roc_auc_score(y_train_5, y_scores)"
      ],
      "execution_count": 0,
      "outputs": []
    },
    {
      "cell_type": "markdown",
      "metadata": {
        "id": "sQtB90pFyL2y",
        "colab_type": "text"
      },
      "source": [
        "# conclusion: I use the KNN SVM(taking forever,no result),SGD and RF's accuracy is almost the same. by the precision and recall score, picture 8 can recognize well."
      ]
    },
    {
      "cell_type": "code",
      "metadata": {
        "id": "nhwxavF_Bm1p",
        "colab_type": "code",
        "colab": {}
      },
      "source": [
        ""
      ],
      "execution_count": 0,
      "outputs": []
    }
  ]
}