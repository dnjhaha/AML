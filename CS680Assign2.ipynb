{
  "nbformat": 4,
  "nbformat_minor": 0,
  "metadata": {
    "colab": {
      "name": "CS680Assign2.ipynb",
      "provenance": [],
      "authorship_tag": "ABX9TyNonSgkosrNGHlDrD2zn373",
      "include_colab_link": true
    },
    "kernelspec": {
      "name": "python3",
      "display_name": "Python 3"
    }
  },
  "cells": [
    {
      "cell_type": "markdown",
      "metadata": {
        "id": "view-in-github",
        "colab_type": "text"
      },
      "source": [
        "<a href=\"https://colab.research.google.com/github/dnjhaha/AML/blob/master/CS680Assign2.ipynb\" target=\"_parent\"><img src=\"https://colab.research.google.com/assets/colab-badge.svg\" alt=\"Open In Colab\"/></a>"
      ]
    },
    {
      "cell_type": "markdown",
      "metadata": {
        "id": "8aQmoHngfo-Y",
        "colab_type": "text"
      },
      "source": [
        "# Danni Jin AI:680 Spring 2020 assignment #2\n",
        "**In this project, you'll classify images from the CIFAR-10 dataset. The dataset consists of airplanes, dogs, cats, and other objects. You'll preprocess the images, then train a convolutional neural network on all the samples. The images need to be normalized and the labels need to be one-hot encoded. You'll get to apply what you learned and build a convolutional, max pooling, dropout, and fully connected layers. At the end, you'll get to see your neural network's predictions on the sample images.**\n",
        "\n",
        "\n"
      ]
    },
    {
      "cell_type": "markdown",
      "metadata": {
        "id": "RPiAAvhDPvSy",
        "colab_type": "text"
      },
      "source": [
        "**Importing the Required Libraries**"
      ]
    },
    {
      "cell_type": "code",
      "metadata": {
        "id": "s_dvbiuZfrtU",
        "colab_type": "code",
        "colab": {}
      },
      "source": [
        "from keras.datasets import cifar10\n",
        "from keras.utils import np_utils\n",
        "from keras.models import Sequential\n",
        "from keras.layers.core import Dense, Dropout, Activation, Flatten\n",
        "#from keras.layers import Dense,Dropout,Flatten,Conv2D,MaxPooling2D\n",
        "from keras.constraints import maxnorm\n",
        "from keras.optimizers import SGD\n",
        "from keras.utils import np_utils \n",
        "from keras.layers.convolutional import Conv2D, MaxPooling2D\n",
        "from keras.optimizers import SGD, Adam, RMSprop\n",
        "import matplotlib.pyplot as plt\n",
        "from keras import backend as K\n",
        "#K.set_image_dim_ordering('tf')\n",
        "K.set_image_data_format('channels_last')\n",
        "IMG_CHANNELS = 3\n",
        "IMG_ROWS = 32\n",
        "IMG_COLS = 32\n",
        "BATCH_SIZE = 128\n",
        "NB_EPOCH = 10\n",
        "NB_CLASSES = 10\n",
        "VERBOSE = 1\n",
        "VALIDATION_SPLIT = 0.2\n",
        "OPTIM = RMSprop()\n"
      ],
      "execution_count": 0,
      "outputs": []
    },
    {
      "cell_type": "markdown",
      "metadata": {
        "id": "Mzgh5v6ClYW2",
        "colab_type": "text"
      },
      "source": [
        "**Preparing the dataset: Load the cifar10 data from Keras. Setup train and test splits.**\n",
        "Keras library already consists of all the standard datasets. So, we are just importing cifar10 from the library itself. Then, we use the load_data() method to load the data into the given train and test directories."
      ]
    },
    {
      "cell_type": "code",
      "metadata": {
        "id": "F0cTmpaViq5l",
        "colab_type": "code",
        "colab": {
          "base_uri": "https://localhost:8080/",
          "height": 68
        },
        "outputId": "bca729ad-03df-4cb8-fb13-7338bc25afd0"
      },
      "source": [
        "(X_train, y_train), (X_test, y_test) = cifar10.load_data()\n",
        "print('X_train.shape:', X_train.shape)\n",
        "print(X_train.shape[0], 'train_samples')\n",
        "print(X_test.shape[0], 'test_samples')"
      ],
      "execution_count": 84,
      "outputs": [
        {
          "output_type": "stream",
          "text": [
            "X_train.shape: (50000, 32, 32, 3)\n",
            "50000 train_samples\n",
            "10000 test_samples\n"
          ],
          "name": "stdout"
        }
      ]
    },
    {
      "cell_type": "markdown",
      "metadata": {
        "id": "XFSX1CkB5KaL",
        "colab_type": "text"
      },
      "source": [
        "**Dataset of 50,000 32x32 color training images, labeled over 10 categories, and 10,000 test images.**\n",
        "Returns:\n",
        "2 tuples:\n",
        "x_train, x_test: uint8 array of RGB image data with shape (num_samples, 3, 32, 32) or (num_samples, 32, 32, 3) based on the image_data_format backend setting of either channels_first or channels_last respectively.\n",
        "y_train, y_test: uint8 array of category labels (integers in range 0-9) with shape (num_samples, 1).\n"
      ]
    },
    {
      "cell_type": "code",
      "metadata": {
        "id": "Y8VAM1WtNHMJ",
        "colab_type": "code",
        "colab": {}
      },
      "source": [
        "#X_train=X_train.reshape(X_train.shape[0],32,32,3).astype('float32')\n",
        "#X_test=X_test.reshape(X_test.shape[0],32,32,3).astype('float32')"
      ],
      "execution_count": 0,
      "outputs": []
    },
    {
      "cell_type": "markdown",
      "metadata": {
        "id": "RmFKV18psYOd",
        "colab_type": "text"
      },
      "source": [
        "# Normalization and One-Hot Encoding\n",
        "Images are comprised of matrices of pixel values. Normally, pixels are expected to have value in the range 0-255. We need to normalize these values to a range between 0 and 1."
      ]
    },
    {
      "cell_type": "code",
      "metadata": {
        "id": "QUpdI9hEi7xW",
        "colab_type": "code",
        "colab": {}
      },
      "source": [
        "# Convert the image data to numeric data and normalize them,normalizing inputs from 0-255 to 0.0-1.0 \n",
        "X_train = X_train.astype('float32')\n",
        "X_test = X_test.astype('float32')\n",
        "X_train = X_train / 255.0 \n",
        "X_test = X_test / 255.0"
      ],
      "execution_count": 0,
      "outputs": []
    },
    {
      "cell_type": "markdown",
      "metadata": {
        "id": "TeppCnY5VCXo",
        "colab_type": "text"
      },
      "source": [
        "Now, we need to do one-hot encoding of these data so that it could be provided to machine learning algorithms to do a better job in prediction. One-hot is a group of bits among which the legal combinations of values are only those with a single high bit and all the others low. "
      ]
    },
    {
      "cell_type": "code",
      "metadata": {
        "id": "eQp73RkAVUWh",
        "colab_type": "code",
        "colab": {}
      },
      "source": [
        "# one hot encode outputs \n",
        "y_train = np_utils.to_categorical(y_train,10) \n",
        "y_test = np_utils.to_categorical(y_test,10) \n",
        "#num_classes = y_test.shape[1]\n",
        "#X_train_one_hot=np_utils.to_categorical(X_train)\n",
        "#X_test_oneHot=np_utils.to_categorical(X_test)"
      ],
      "execution_count": 0,
      "outputs": []
    },
    {
      "cell_type": "markdown",
      "metadata": {
        "id": "Oc90q08kVmB_",
        "colab_type": "text"
      },
      "source": [
        "This will convert the matrices into binary matrices of width 10. We can’t just give the categorical data to the machine for processing. So, we need to do the above steps to make the data more processable for the machine."
      ]
    },
    {
      "cell_type": "markdown",
      "metadata": {
        "id": "Od2hFCDtVqbx",
        "colab_type": "text"
      },
      "source": [
        "# Creating the Image Classification Model\n",
        "Let’s initialize a convolutional neural network using the sequential model of keras."
      ]
    },
    {
      "cell_type": "code",
      "metadata": {
        "id": "J2v7LfupVuPq",
        "colab_type": "code",
        "colab": {}
      },
      "source": [
        "# Create the model \n",
        "model1 = Sequential()"
      ],
      "execution_count": 0,
      "outputs": []
    },
    {
      "cell_type": "markdown",
      "metadata": {
        "id": "KKf66mGuVzyY",
        "colab_type": "text"
      },
      "source": [
        "You can use either Sequential or Functional methods for creating keras models. We are using sequential here to build our model since it allows us to create the model layer-by-layer."
      ]
    },
    {
      "cell_type": "markdown",
      "metadata": {
        "id": "Hz_fIfjfjwCg",
        "colab_type": "text"
      },
      "source": [
        "**a simple ConvNet is a sequence of layers, and every layer of a ConvNet transforms one volume of activations to another through a differentiable function. We use three main types of layers to build ConvNet architectures: Convolutional Layer, Pooling Layer, and Fully-Connected Layer (exactly as seen in regular Neural Networks). We will stack these layers to form a full ConvNet architecture.**"
      ]
    },
    {
      "cell_type": "markdown",
      "metadata": {
        "id": "laB3F0XsZQdN",
        "colab_type": "text"
      },
      "source": [
        "# Stage1:\n",
        "\n",
        "Convolutional input layer, 32 feature maps with a size of 3×3 and a rectiﬁer activation function.\n",
        "Max Pool layer with size 2×2.\n",
        ". Fully connected layer with 1,024 units and a rectiﬁer activation function.\n",
        "4.Flattened layer\n",
        "\n",
        "Fully connected output layer with 10 units and a softmax activation function."
      ]
    },
    {
      "cell_type": "code",
      "metadata": {
        "id": "12o6Mjyzi_87",
        "colab_type": "code",
        "colab": {}
      },
      "source": [
        "# network \n",
        "model1.add(Conv2D(32, (3,3), padding='same', input_shape=X_train.shape[1:],data_format='channels_last'))\n",
        "#Add the first convolutional layer\n",
        "model1.add(Activation('relu'))\n",
        "model1.add(MaxPooling2D(pool_size = (2,2)))\n",
        "#Add the Max Pool\n",
        "model1.add(Dense(1024))\n",
        "# Add the fully-connected layer with 1024 units\n",
        "model1.add(Activation('relu'))\n",
        "model1.add(Flatten())\n",
        "model1.add(Dense(NB_CLASSES))\n",
        "model1.add(Activation('softmax'))"
      ],
      "execution_count": 0,
      "outputs": []
    },
    {
      "cell_type": "markdown",
      "metadata": {
        "id": "5NgT6tlRnCj0",
        "colab_type": "text"
      },
      "source": [
        "I will explain what each layer is. \n",
        "\n",
        "Conv2D stands for a 2-dimensional convolutional layer.\n",
        "\n",
        "Here, 32 is the number of filters needed. A filter is an array of numeric values. (3,3) is the size of the filter, which means 3 rows and 3 columns.\n",
        "\n",
        "The input image is 32 * 32 * 3 size, that is, 32 height, 32 widths, and 3 refer to RGB values. Each of the numbers in this array (32,32,3) is given values from 0 to 255, which describes the pixel intensity at that point.\n",
        "\n",
        "The output of this layer will be some feature maps. A feature map is a map that shows some specific features of the image.\n",
        "\n"
      ]
    },
    {
      "cell_type": "markdown",
      "metadata": {
        "id": "ilQ1QngTnphL",
        "colab_type": "text"
      },
      "source": [
        "# Compiling the Model\n",
        "We need to compile the CNN model before we train it. We can use the compile() method for this. Also, let’s define the learning rate for training."
      ]
    },
    {
      "cell_type": "code",
      "metadata": {
        "id": "-vR9-w_ocPkZ",
        "colab_type": "code",
        "colab": {}
      },
      "source": [
        "lrate = 0.01 \n",
        "sgd = SGD(lr=lrate, momentum=0.9, decay=1e-6,nesterov=False) \n",
        "model1.compile(loss='categorical_crossentropy', optimizer=sgd, metrics=['accuracy'])"
      ],
      "execution_count": 0,
      "outputs": []
    },
    {
      "cell_type": "markdown",
      "metadata": {
        "id": "drZmKbxCnxZ_",
        "colab_type": "text"
      },
      "source": [
        "Categorical_crossentropy will compare the distribution of the predictions with the true distribution. SGD stands for stochastic gradient descent, which is a classical optimization algorithm.\n",
        "\n",
        "We also set the metrics to accuracy so that we will get the details of the accuracy after training."
      ]
    },
    {
      "cell_type": "markdown",
      "metadata": {
        "id": "Qc1bw3Zcn2-m",
        "colab_type": "text"
      },
      "source": [
        "# Training the Image Classification Model\n",
        "Now, it is time to train our model and see its accuracy. We can use the fit() method of keras to train the CNN."
      ]
    },
    {
      "cell_type": "code",
      "metadata": {
        "id": "YmRrilqScP-4",
        "colab_type": "code",
        "colab": {
          "base_uri": "https://localhost:8080/",
          "height": 374
        },
        "outputId": "0ee5ac7f-18bf-4cd7-b8d0-a0a57f86d26f"
      },
      "source": [
        "history=model1.fit(X_train, y_train, epochs = 10, batch_size=32, validation_split=0.2)"
      ],
      "execution_count": 98,
      "outputs": [
        {
          "output_type": "stream",
          "text": [
            "Train on 40000 samples, validate on 10000 samples\n",
            "Epoch 1/10\n",
            "40000/40000 [==============================] - 207s 5ms/step - loss: 1.6150 - acc: 0.4200 - val_loss: 1.3451 - val_acc: 0.5323\n",
            "Epoch 2/10\n",
            "40000/40000 [==============================] - 207s 5ms/step - loss: 1.2195 - acc: 0.5731 - val_loss: 1.2251 - val_acc: 0.5754\n",
            "Epoch 3/10\n",
            "40000/40000 [==============================] - 207s 5ms/step - loss: 1.0478 - acc: 0.6352 - val_loss: 1.0899 - val_acc: 0.6225\n",
            "Epoch 4/10\n",
            "40000/40000 [==============================] - 206s 5ms/step - loss: 0.9176 - acc: 0.6813 - val_loss: 1.0642 - val_acc: 0.6366\n",
            "Epoch 5/10\n",
            "40000/40000 [==============================] - 207s 5ms/step - loss: 0.7923 - acc: 0.7266 - val_loss: 1.0500 - val_acc: 0.6457\n",
            "Epoch 6/10\n",
            "40000/40000 [==============================] - 207s 5ms/step - loss: 0.6814 - acc: 0.7640 - val_loss: 1.0730 - val_acc: 0.6565\n",
            "Epoch 7/10\n",
            "40000/40000 [==============================] - 208s 5ms/step - loss: 0.5745 - acc: 0.8001 - val_loss: 1.1214 - val_acc: 0.6404\n",
            "Epoch 8/10\n",
            "40000/40000 [==============================] - 208s 5ms/step - loss: 0.4741 - acc: 0.8372 - val_loss: 1.1721 - val_acc: 0.6465\n",
            "Epoch 9/10\n",
            "40000/40000 [==============================] - 208s 5ms/step - loss: 0.3772 - acc: 0.8706 - val_loss: 1.2887 - val_acc: 0.6398\n",
            "Epoch 10/10\n",
            "40000/40000 [==============================] - 208s 5ms/step - loss: 0.2840 - acc: 0.9061 - val_loss: 1.3372 - val_acc: 0.6387\n"
          ],
          "name": "stdout"
        }
      ]
    },
    {
      "cell_type": "code",
      "metadata": {
        "id": "aqNcTzd6cmXy",
        "colab_type": "code",
        "colab": {
          "base_uri": "https://localhost:8080/",
          "height": 34
        },
        "outputId": "bd0451a8-76be-4521-a99b-40693fb49b25"
      },
      "source": [
        "# Final evaluation of the model \n",
        "scores = model1.evaluate(X_test, y_test, verbose=0) \n",
        "print(\"Accuracy: %.2f%%\" % (scores[1]*100))"
      ],
      "execution_count": 99,
      "outputs": [
        {
          "output_type": "stream",
          "text": [
            "Accuracy: 63.14%\n"
          ],
          "name": "stdout"
        }
      ]
    },
    {
      "cell_type": "markdown",
      "metadata": {
        "id": "czjaKnEvkY9C",
        "colab_type": "text"
      },
      "source": [
        "# Visualizing Accuracy\n",
        "Import the relevant package we need to do the visualization"
      ]
    },
    {
      "cell_type": "code",
      "metadata": {
        "id": "gx3c_Urgkml8",
        "colab_type": "code",
        "colab": {}
      },
      "source": [
        "import matplotlib.pyplot as plt"
      ],
      "execution_count": 0,
      "outputs": []
    },
    {
      "cell_type": "markdown",
      "metadata": {
        "id": "I_jtbg8AkpqZ",
        "colab_type": "text"
      },
      "source": [
        "visualize the training accuracy and the validation accuracy :"
      ]
    },
    {
      "cell_type": "code",
      "metadata": {
        "id": "hucAgEccgBlP",
        "colab_type": "code",
        "colab": {
          "base_uri": "https://localhost:8080/",
          "height": 295
        },
        "outputId": "0b8c74af-8f0e-4838-dd3f-7ed374ac645c"
      },
      "source": [
        "plt.plot(history.history['acc'])\n",
        "plt.plot(history.history['val_acc'])\n",
        "plt.title('model1 accuracy')\n",
        "plt.ylabel('accuracy')\n",
        "plt.xlabel('epoch')\n",
        "plt.legend(['training', 'validation'], loc='best')\n",
        "plt.show()\n"
      ],
      "execution_count": 101,
      "outputs": [
        {
          "output_type": "display_data",
          "data": {
            "image/png": "[encoded data removed]",
            "text/plain": [
              "<Figure size 432x288 with 1 Axes>"
            ]
          },
          "metadata": {
            "tags": []
          }
        }
      ]
    },
    {
      "cell_type": "markdown",
      "metadata": {
        "id": "W1QZwXZLpCl0",
        "colab_type": "text"
      },
      "source": [
        "Conclusion：As you can see from this image, I trained the model for 10 epochs to get an accuracy of 81.23%.   It took a long time, even with a GPU powered system. Do not try to train your model using a normal laptop, because it will take a lot of power and resources and there is a high chance of occurring damage to your laptop."
      ]
    },
    {
      "cell_type": "markdown",
      "metadata": {
        "id": "Og8gaCvja0xK",
        "colab_type": "text"
      },
      "source": [
        "# Stage 2:                 \n",
        "\n",
        "Use samepadding if needed- Model.add(Maxpooling2D(2,2, paddinf=’same’))\n",
        "\n",
        "Convolutional input layer, 32 feature maps with a size of 3×3 and a rectiﬁer activation function.\n",
        "Convolutional layer, 32 feature maps with a size of 3×3 and a rectiﬁer activation function.\n",
        "Max Pool layer with size 2×2.\n",
        "Convolutional layer, 64 feature maps with a size of 3×3 and a rectiﬁer activation function.\n",
        "Convolutional layer, 64 feature maps with a size of 3×3 and a rectiﬁer activation function.\n",
        "Max Pool layer with size 2×2.\n",
        "Convolutional layer, 128 feature maps with a size of 3×3 and a rectiﬁer activation function.\n",
        "Convolutional layer, 128 feature maps with a size of 3×3 and a rectiﬁer activation function.\n",
        "Max Pool layer with size 2×2.\n",
        "Flatten layer.\n",
        "Dropout layer at 20%.\n",
        "Fully connected layer with 1,024 units and a rectiﬁer activation function.\n",
        "Dropout layer at 20%.\n",
        "Fully connected layer with 512 units and a rectiﬁer activation function.\n",
        "Dropout layer at 20%.\n",
        "Fully connected output layer with 10 units and a softmax activation function."
      ]
    },
    {
      "cell_type": "code",
      "metadata": {
        "id": "RA5QiEsHbex9",
        "colab_type": "code",
        "colab": {}
      },
      "source": [
        "model2 = Sequential()\n",
        "model2.add(Conv2D(32, (3, 3), input_shape=X_train.shape[1:], activation='relu',data_format='channels_last')) \n",
        "model2.add(Conv2D(32, (3, 3), activation='relu')) \n",
        "model2.add(MaxPooling2D(2, 2,padding='same')) \n",
        "model2.add(Conv2D(64, (3, 3), activation='relu')) \n",
        "model2.add(Conv2D(64, (3, 3), activation='relu')) \n",
        "model2.add(MaxPooling2D(2, 2,padding='same')) \n",
        "model2.add(Conv2D(128, (3, 3), activation='relu')) \n",
        "model2.add(Conv2D(128, (3, 3), activation='relu')) \n",
        "model2.add(MaxPooling2D(2, 2,padding='same')) \n",
        "model2.add(Flatten()) \n",
        "model2.add(Dropout(0.2)) \n",
        "model2.add(Dense(1024, activation='relu')) \n",
        "model2.add(Dropout(0.2)) \n",
        "model2.add(Dense(512, activation='relu')) \n",
        "model2.add(Dropout(0.2)) \n",
        "model2.add(Dense(num_classes, activation='softmax'))"
      ],
      "execution_count": 0,
      "outputs": []
    },
    {
      "cell_type": "markdown",
      "metadata": {
        "id": "ExndXdb-nRDV",
        "colab_type": "text"
      },
      "source": [
        "We use the Dropout layer in our model to prevent overfitting. Overfitting is a modeling error that occurs to make an overly complex model. This layer drops out a random set of activations in that layer by setting them to zero as data flows through it.\n",
        "MaxPooling layer is used for pooling. Pooling reduces the dimensionality of each feature map but retains the most important information. This helps to decrease the computational complexity of our network.\n",
        "\n",
        "Flatten is used to convert the feature map to 1-dimension. We use the Dense function to initialize a fully connected network.\n",
        "\n",
        "An activation function of a neuron defines the output of that neuron, given some input. This output is then used as input for the next neuron and so on until the desired solution is obtained.\n",
        "\n",
        "We use ReLu and softmax activation functions in this model. ReLU replaces all the negative pixel values in the feature map with 0. Softmax takes as input a vector of K real numbers and normalizes it into a probability distribution consisting of K probabilities proportional to the exponentials of the input numbers."
      ]
    },
    {
      "cell_type": "markdown",
      "metadata": {
        "id": "dVjQUFZEtLuI",
        "colab_type": "text"
      },
      "source": [
        "# Compiling the Model\n",
        "We need to compile the CNN model before we train it. We can use the compile() method for this. Also, let’s define the learning rate for training."
      ]
    },
    {
      "cell_type": "code",
      "metadata": {
        "id": "imiue7GUtHF3",
        "colab_type": "code",
        "colab": {}
      },
      "source": [
        "lrate = 0.01 \n",
        "sgd = SGD(lr=lrate, momentum=0.9, decay=1e-6,nesterov=False) \n",
        "model2.compile(loss='categorical_crossentropy', optimizer=sgd, metrics=['accuracy'])"
      ],
      "execution_count": 0,
      "outputs": []
    },
    {
      "cell_type": "markdown",
      "metadata": {
        "id": "CRHcwJbltgvA",
        "colab_type": "text"
      },
      "source": [
        "Categorical_crossentropy will compare the distribution of the predictions with the true distribution. SGD stands for stochastic gradient descent, which is a classical optimization algorithm.\n",
        "\n",
        "We also set the metrics to accuracy so that we will get the details of the accuracy after training."
      ]
    },
    {
      "cell_type": "markdown",
      "metadata": {
        "id": "WSdDEfW-tl6V",
        "colab_type": "text"
      },
      "source": [
        "# Training the Image Classification Model\n",
        "Now, it is time to train our model and see its accuracy. We can use the fit() method of keras to train the CNN."
      ]
    },
    {
      "cell_type": "code",
      "metadata": {
        "id": "oyEp2Tx9tHQo",
        "colab_type": "code",
        "colab": {
          "base_uri": "https://localhost:8080/",
          "height": 374
        },
        "outputId": "b1d1d35a-061c-486a-c97f-2785d4ca14ef"
      },
      "source": [
        "history1=model2.fit(X_train, y_train, batch_size=32, epochs=10, validation_split=0.2)"
      ],
      "execution_count": 121,
      "outputs": [
        {
          "output_type": "stream",
          "text": [
            "Train on 40000 samples, validate on 10000 samples\n",
            "Epoch 1/10\n",
            "40000/40000 [==============================] - 183s 5ms/step - loss: 2.0016 - acc: 0.2385 - val_loss: 1.6083 - val_acc: 0.4065\n",
            "Epoch 2/10\n",
            "40000/40000 [==============================] - 183s 5ms/step - loss: 1.5699 - acc: 0.4245 - val_loss: 1.4275 - val_acc: 0.4832\n",
            "Epoch 3/10\n",
            "40000/40000 [==============================] - 183s 5ms/step - loss: 1.3571 - acc: 0.5132 - val_loss: 1.2075 - val_acc: 0.5628\n",
            "Epoch 4/10\n",
            "40000/40000 [==============================] - 183s 5ms/step - loss: 1.1908 - acc: 0.5781 - val_loss: 1.0824 - val_acc: 0.6175\n",
            "Epoch 5/10\n",
            "40000/40000 [==============================] - 182s 5ms/step - loss: 1.0607 - acc: 0.6295 - val_loss: 1.0930 - val_acc: 0.6122\n",
            "Epoch 6/10\n",
            "40000/40000 [==============================] - 183s 5ms/step - loss: 0.9623 - acc: 0.6651 - val_loss: 0.9974 - val_acc: 0.6558\n",
            "Epoch 7/10\n",
            "40000/40000 [==============================] - 181s 5ms/step - loss: 0.8944 - acc: 0.6920 - val_loss: 0.9355 - val_acc: 0.6789\n",
            "Epoch 8/10\n",
            "40000/40000 [==============================] - 179s 4ms/step - loss: 0.8416 - acc: 0.7117 - val_loss: 0.9602 - val_acc: 0.6758\n",
            "Epoch 9/10\n",
            "40000/40000 [==============================] - 178s 4ms/step - loss: 0.7909 - acc: 0.7305 - val_loss: 0.8945 - val_acc: 0.7001\n",
            "Epoch 10/10\n",
            "40000/40000 [==============================] - 178s 4ms/step - loss: 0.7457 - acc: 0.7488 - val_loss: 0.9124 - val_acc: 0.7004\n"
          ],
          "name": "stdout"
        }
      ]
    },
    {
      "cell_type": "code",
      "metadata": {
        "id": "m_-5U75rr2qi",
        "colab_type": "code",
        "colab": {
          "base_uri": "https://localhost:8080/",
          "height": 34
        },
        "outputId": "9fe86ff4-ab9a-44f6-cb2d-fd344c2829dd"
      },
      "source": [
        "# Final evaluation of the model \n",
        "scores = model2.evaluate(X_test, y_test, verbose=0) \n",
        "print(\"Accuracy: %.2f%%\" % (scores[1]*100))"
      ],
      "execution_count": 122,
      "outputs": [
        {
          "output_type": "stream",
          "text": [
            "Accuracy: 69.13%\n"
          ],
          "name": "stdout"
        }
      ]
    },
    {
      "cell_type": "markdown",
      "metadata": {
        "id": "z2KukVposyxI",
        "colab_type": "text"
      },
      "source": [
        "# Visualizing Accuracy\n",
        "visualize the training accuracy and the validation accuracy :"
      ]
    },
    {
      "cell_type": "code",
      "metadata": {
        "id": "fY97h3Mwr24D",
        "colab_type": "code",
        "colab": {
          "base_uri": "https://localhost:8080/",
          "height": 295
        },
        "outputId": "b911762e-e0d1-470e-9f49-bb13a8f75e5f"
      },
      "source": [
        "plt.plot(history1.history['acc'])\n",
        "plt.plot(history1.history['val_acc'])\n",
        "plt.title('model2 accuracy')\n",
        "plt.ylabel('accuracy')\n",
        "plt.xlabel('epoch')\n",
        "plt.legend(['training', 'validation'], loc='best')\n",
        "plt.show()"
      ],
      "execution_count": 123,
      "outputs": [
        {
          "output_type": "display_data",
          "data": {
            "image/png": "[encoded data removed]",
            "text/plain": [
              "<Figure size 432x288 with 1 Axes>"
            ]
          },
          "metadata": {
            "tags": []
          }
        }
      ]
    },
    {
      "cell_type": "markdown",
      "metadata": {
        "id": "AI2i1jj1bKHK",
        "colab_type": "text"
      },
      "source": [
        "# Stage 3\n",
        "\n",
        "Convolutional input layer, 32 feature maps with a size of 3×3 and a rectiﬁer activation function.\n",
        "Dropout layer at 20%.\n",
        "Convolutional layer, 32 feature maps with a size of 3×3 and a rectiﬁer activation function.\n",
        "Max Pool layer with size 2×2.\n",
        "Convolutional layer, 64 feature maps with a size of 3×3 and a rectiﬁer activation function.\n",
        "Dropout layer at 20%.\n",
        "Convolutional layer, 64 feature maps with a size of 3×3 and a rectiﬁer activation function.\n",
        "Max Pool layer with size 2×2.\n",
        "Convolutional layer, 128 feature maps with a size of 3×3 and a rectiﬁer activation function.\n",
        "Dropout layer at 20%.\n",
        "Convolutional layer, 128 feature maps with a size of 3×3 and a rectiﬁer activation function.\n",
        "Max Pool layer with size 2×2.\n",
        "Flatten layer.\n",
        "Dropout layer at 20%.\n",
        "Fully connected layer with 1,024 units and a rectiﬁer activation function.\n",
        "Dropout layer at 20%.\n",
        "Fully connected layer with 512 units and a rectiﬁer activation function.\n",
        "Dropout layer at 20%.\n",
        "Fully connected output layer with 10 units and a softmax activation function."
      ]
    },
    {
      "cell_type": "code",
      "metadata": {
        "id": "BGkFA9o5m1b6",
        "colab_type": "code",
        "colab": {}
      },
      "source": [
        "model3 = Sequential()\n",
        "model3.add(Conv2D(32, (3, 3), input_shape=X_train.shape[1:], activation='relu', padding='same')) \n",
        "model3.add(Dropout(0.2)) \n",
        "model3.add(Conv2D(32, (3, 3), activation='relu', padding='same')) \n",
        "model3.add(MaxPooling2D(pool_size=(2, 2))) \n",
        "model3.add(Conv2D(64, (3, 3), activation='relu', padding='same')) \n",
        "model3.add(Dropout(0.2)) \n",
        "model3.add(Conv2D(64, (3, 3), activation='relu', padding='same')) \n",
        "model3.add(MaxPooling2D(pool_size=(2, 2))) \n",
        "model3.add(Conv2D(128, (3, 3), activation='relu', padding='same')) \n",
        "model3.add(Dropout(0.2)) \n",
        "model3.add(Conv2D(128, (3, 3), activation='relu', padding='same')) \n",
        "model3.add(MaxPooling2D(pool_size=(2, 2))) \n",
        "model3.add(Flatten()) \n",
        "model3.add(Dropout(0.2)) \n",
        "model3.add(Dense(1024, activation='relu', kernel_constraint=maxnorm(3))) \n",
        "model3.add(Dropout(0.2)) \n",
        "model3.add(Dense(512, activation='relu', kernel_constraint=maxnorm(3))) \n",
        "model3.add(Dropout(0.2)) \n",
        "model3.add(Dense(num_classes, activation='softmax'))"
      ],
      "execution_count": 0,
      "outputs": []
    },
    {
      "cell_type": "markdown",
      "metadata": {
        "id": "UXFrOWJHxsd2",
        "colab_type": "text"
      },
      "source": [
        "# Compiling the Model\n",
        "We need to compile the CNN model before we train it. We can use the compile() method for this. Also, let’s define the learning rate for training."
      ]
    },
    {
      "cell_type": "code",
      "metadata": {
        "id": "4vF5JXdtkLFl",
        "colab_type": "code",
        "colab": {}
      },
      "source": [
        "lrate = 0.01 \n",
        "sgd = SGD(lr=lrate, momentum=0.9, decay=1e-6,nesterov=False) \n",
        "model3.compile(loss='categorical_crossentropy', optimizer=sgd, metrics=['accuracy'])"
      ],
      "execution_count": 0,
      "outputs": []
    },
    {
      "cell_type": "markdown",
      "metadata": {
        "id": "bodQHsr5x55s",
        "colab_type": "text"
      },
      "source": [
        "# Training the Image Classification Model\n",
        "Now, it is time to train our model and see its accuracy. We can use the fit() method of keras to train the CNN."
      ]
    },
    {
      "cell_type": "code",
      "metadata": {
        "id": "vEWDNcEMkTgT",
        "colab_type": "code",
        "colab": {
          "base_uri": "https://localhost:8080/",
          "height": 374
        },
        "outputId": "221e131b-5013-4bfc-9b42-178648f28561"
      },
      "source": [
        "history3=model3.fit(X_train, y_train, batch_size=32, epochs=10, validation_split=0.2)"
      ],
      "execution_count": 115,
      "outputs": [
        {
          "output_type": "stream",
          "text": [
            "Train on 40000 samples, validate on 10000 samples\n",
            "Epoch 1/10\n",
            "40000/40000 [==============================] - 414s 10ms/step - loss: 1.8978 - acc: 0.2961 - val_loss: 1.7080 - val_acc: 0.3770\n",
            "Epoch 2/10\n",
            "40000/40000 [==============================] - 411s 10ms/step - loss: 1.5014 - acc: 0.4513 - val_loss: 1.4094 - val_acc: 0.4907\n",
            "Epoch 3/10\n",
            "40000/40000 [==============================] - 413s 10ms/step - loss: 1.3017 - acc: 0.5286 - val_loss: 1.1920 - val_acc: 0.5723\n",
            "Epoch 4/10\n",
            "40000/40000 [==============================] - 410s 10ms/step - loss: 1.1531 - acc: 0.5878 - val_loss: 1.1554 - val_acc: 0.5907\n",
            "Epoch 5/10\n",
            "40000/40000 [==============================] - 410s 10ms/step - loss: 1.0294 - acc: 0.6346 - val_loss: 0.9312 - val_acc: 0.6733\n",
            "Epoch 6/10\n",
            "40000/40000 [==============================] - 409s 10ms/step - loss: 0.9336 - acc: 0.6712 - val_loss: 0.8934 - val_acc: 0.6850\n",
            "Epoch 7/10\n",
            "40000/40000 [==============================] - 410s 10ms/step - loss: 0.8669 - acc: 0.6959 - val_loss: 0.8642 - val_acc: 0.6921\n",
            "Epoch 8/10\n",
            "40000/40000 [==============================] - 412s 10ms/step - loss: 0.8189 - acc: 0.7146 - val_loss: 0.8405 - val_acc: 0.7156\n",
            "Epoch 9/10\n",
            "40000/40000 [==============================] - 411s 10ms/step - loss: 0.7616 - acc: 0.7337 - val_loss: 0.7756 - val_acc: 0.7380\n",
            "Epoch 10/10\n",
            "40000/40000 [==============================] - 410s 10ms/step - loss: 0.7287 - acc: 0.7447 - val_loss: 0.7669 - val_acc: 0.7403\n"
          ],
          "name": "stdout"
        }
      ]
    },
    {
      "cell_type": "code",
      "metadata": {
        "id": "B2TLSWvBkUPw",
        "colab_type": "code",
        "colab": {
          "base_uri": "https://localhost:8080/",
          "height": 34
        },
        "outputId": "cf10b71c-39e5-4986-b030-88babcbdab03"
      },
      "source": [
        "# Final evaluation of the model \n",
        "scores = model3.evaluate(X_test, y_test, verbose=0) \n",
        "print(\"Accuracy: %.2f%%\" % (scores[1]*100))"
      ],
      "execution_count": 116,
      "outputs": [
        {
          "output_type": "stream",
          "text": [
            "Accuracy: 72.82%\n"
          ],
          "name": "stdout"
        }
      ]
    },
    {
      "cell_type": "markdown",
      "metadata": {
        "id": "0B7crk5tyF2I",
        "colab_type": "text"
      },
      "source": [
        "# Visualizing Accuracy\n",
        "visualize the training accuracy and the validation accuracy :"
      ]
    },
    {
      "cell_type": "code",
      "metadata": {
        "id": "CnJW7DdYyDKa",
        "colab_type": "code",
        "colab": {
          "base_uri": "https://localhost:8080/",
          "height": 295
        },
        "outputId": "d6a02e33-6045-4b2c-862a-ba4b81b7b5f3"
      },
      "source": [
        "plt.plot(history3.history['acc'])\n",
        "plt.plot(history3.history['val_acc'])\n",
        "plt.title('model3 accuracy')\n",
        "plt.ylabel('accuracy')\n",
        "plt.xlabel('epoch')\n",
        "plt.legend(['training', 'validation'], loc='best')\n",
        "plt.show()\n"
      ],
      "execution_count": 117,
      "outputs": [
        {
          "output_type": "display_data",
          "data": {
            "image/png": "[encoded data removed]",
            "text/plain": [
              "<Figure size 432x288 with 1 Axes>"
            ]
          },
          "metadata": {
            "tags": []
          }
        }
      ]
    },
    {
      "cell_type": "markdown",
      "metadata": {
        "id": "9D5lV9dooNQP",
        "colab_type": "text"
      },
      "source": [
        "# Conclusion：\n",
        "By building a 1 and 6 layer neural network along with its visualization, resulting in % accuracy of classification with graphical interpretation. we will see the results and compare the three networks in terms of the accuracy and speed of training for each epoch.\n",
        "\n",
        "**COMPARISON ACCURACY [%] BETWEEN 1-LAYER AND 6-LAYER CNN**\n",
        "As we can see in the chart below, the neural network training accuracy is considerably higher for a model3 6-layer network.\n",
        "\n",
        "**COMPARISON TIME OF LEARNING PROCESS BETWEEN 1-LAYER AND 6-LAYER CNN**\n",
        "As we can see in the chart below, the neural network training time is considerably longer for a model3 6-layer network."
      ]
    },
    {
      "cell_type": "markdown",
      "metadata": {
        "id": "G7Kuj5gly8dc",
        "colab_type": "text"
      },
      "source": [
        "# Summary:\n",
        "What is Keras library and how to use it.\n",
        "What is Deep Learning.\n",
        "How to use ready datasets.\n",
        "What is Convolutional Neural Networks(CNN).\n",
        "How to build step by step Convolutional Neural Networks(CNN).\n",
        "What are differences in model results.\n",
        "Basics of Machine Learning.\n",
        "Introduction to Artificial Intelligence(AI).\n",
        "What is the confusion matrix and how to visualize it."
      ]
    },
    {
      "cell_type": "markdown",
      "metadata": {
        "id": "KsFvyCtkoBMY",
        "colab_type": "text"
      },
      "source": [
        "Bibliography: https://notebooks.azure.com/anon-avbgjg/projects/examples-1/html/cifar.ipynb  \n",
        "   https://keras.io/examples/cifar10_cnn/"
      ]
    }
  ]
}